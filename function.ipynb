{
 "cells": [
  {
   "cell_type": "code",
   "execution_count": 9,
   "id": "69d5ea50",
   "metadata": {
    "ExecuteTime": {
     "end_time": "2022-07-03T19:56:08.484243Z",
     "start_time": "2022-07-03T19:56:08.442955Z"
    }
   },
   "outputs": [
    {
     "data": {
      "application/vnd.jupyter.widget-view+json": {
       "model_id": "1135690cb32c47e7b75c198421ec1c58",
       "version_major": 2,
       "version_minor": 0
      },
      "text/plain": [
       "parsing log, completed traces ::   0%|          | 0/3 [00:00<?, ?it/s]"
      ]
     },
     "metadata": {},
     "output_type": "display_data"
    }
   ],
   "source": [
    "import graphviz\n",
    "import pm4py\n",
    "import os\n",
    "log = pm4py.read_xes('example_log/example_log.xes')\n",
    "from celonis_connect import Celonis_Connect\n",
    "from pycelonis.celonis_api.pql.pql import PQL, PQLColumn, PQLFilter"
   ]
  },
  {
   "cell_type": "code",
   "execution_count": 4,
   "id": "ab30db13",
   "metadata": {
    "ExecuteTime": {
     "end_time": "2022-07-03T19:48:39.963817Z",
     "start_time": "2022-07-03T19:48:37.183587Z"
    }
   },
   "outputs": [
    {
     "name": "stderr",
     "output_type": "stream",
     "text": [
      "/Users/baichaoye/opt/anaconda3/envs/lab/lib/python3.9/site-packages/pkg_resources/__init__.py:122: PkgResourcesDeprecationWarning: 1.7.1#sha256=1a33bea4a3fe5bf28b39faa561448594f768b243c3260800b7bddf5b80b46d2e is an invalid version and will not be supported in a future release\n",
      "  warnings.warn(\n"
     ]
    },
    {
     "name": "stdout",
     "output_type": "stream",
     "text": [
      "[2022-07-03 21:48:38] INFO: Initial connect successful! Hello Baichao. PyCelonis Version: 1.7.1\n"
     ]
    }
   ],
   "source": [
    "cn = Celonis_Connect()\n",
    "datamodel = cn.get_datamodels().find(\"rum_example\")"
   ]
  },
  {
   "cell_type": "code",
   "execution_count": 13,
   "id": "263ace69",
   "metadata": {
    "ExecuteTime": {
     "end_time": "2022-07-03T19:58:09.084943Z",
     "start_time": "2022-07-03T19:58:08.811179Z"
    }
   },
   "outputs": [
    {
     "data": {
      "text/plain": [
       "'example_log_xes'"
      ]
     },
     "execution_count": 13,
     "metadata": {},
     "output_type": "execute_result"
    }
   ],
   "source": [
    "table = cn.get_table().name\n",
    "table"
   ]
  },
  {
   "cell_type": "code",
   "execution_count": 6,
   "id": "d50c70b0",
   "metadata": {
    "ExecuteTime": {
     "end_time": "2022-07-03T19:54:13.821975Z",
     "start_time": "2022-07-03T19:54:13.816477Z"
    }
   },
   "outputs": [],
   "source": [
    "from pm4py.algo.discovery.log_skeleton import algorithm as lsk_discovery\n",
    "skeleton = lsk_discovery.apply(log, parameters={lsk_discovery.Variants.CLASSIC.value.Parameters.NOISE_THRESHOLD: 0.0})"
   ]
  },
  {
   "cell_type": "code",
   "execution_count": 23,
   "id": "a8921807",
   "metadata": {
    "ExecuteTime": {
     "end_time": "2022-07-03T20:05:29.076748Z",
     "start_time": "2022-07-03T20:05:28.258934Z"
    }
   },
   "outputs": [
    {
     "name": "stdout",
     "output_type": "stream",
     "text": [
      "[2022-07-03 22:05:28] INFO: PQL Export started...\n",
      "[2022-07-03 22:05:28] INFO: PQL Export status: DONE\n"
     ]
    },
    {
     "data": {
      "text/html": [
       "<div>\n",
       "<style scoped>\n",
       "    .dataframe tbody tr th:only-of-type {\n",
       "        vertical-align: middle;\n",
       "    }\n",
       "\n",
       "    .dataframe tbody tr th {\n",
       "        vertical-align: top;\n",
       "    }\n",
       "\n",
       "    .dataframe thead th {\n",
       "        text-align: right;\n",
       "    }\n",
       "</style>\n",
       "<table border=\"1\" class=\"dataframe\">\n",
       "  <thead>\n",
       "    <tr style=\"text-align: right;\">\n",
       "      <th></th>\n",
       "      <th>ER_Registration</th>\n",
       "      <th>IV_Antibiotics</th>\n",
       "      <th>ER_Triage</th>\n",
       "      <th>ER_Sepsis_Triage</th>\n",
       "    </tr>\n",
       "  </thead>\n",
       "  <tbody>\n",
       "    <tr>\n",
       "      <th>0</th>\n",
       "      <td>3</td>\n",
       "      <td>3</td>\n",
       "      <td>3</td>\n",
       "      <td>17</td>\n",
       "    </tr>\n",
       "  </tbody>\n",
       "</table>\n",
       "</div>"
      ],
      "text/plain": [
       "   ER_Registration  IV_Antibiotics  ER_Triage  ER_Sepsis_Triage\n",
       "0                3               3          3                17"
      ]
     },
     "execution_count": 23,
     "metadata": {},
     "output_type": "execute_result"
    }
   ],
   "source": [
    "activities = list(skeleton['activ_freq'].keys())\n",
    "pql =PQL()\n",
    "\n",
    "for act in activities:\n",
    "    pql += PQLColumn(name = act,query = 'SUM(CALC_REWORK(\"'+table+'\".\"concept:name\" IN (\\''+act+'\\')))')\n",
    "df = datamodel.get_data_frame(pql)\n",
    "df "
   ]
  },
  {
   "cell_type": "code",
   "execution_count": 24,
   "id": "d04e4c71",
   "metadata": {
    "ExecuteTime": {
     "end_time": "2022-07-03T20:05:30.138810Z",
     "start_time": "2022-07-03T20:05:30.127083Z"
    }
   },
   "outputs": [
    {
     "data": {
      "text/plain": [
       "{'ER_Registration': 3,\n",
       " 'IV_Antibiotics': 3,\n",
       " 'ER_Triage': 3,\n",
       " 'ER_Sepsis_Triage': 17}"
      ]
     },
     "execution_count": 24,
     "metadata": {},
     "output_type": "execute_result"
    }
   ],
   "source": [
    "freq_dic = {}\n",
    "for key in df.columns:\n",
    "    freq_dic[key] = df.loc[0,key]\n",
    "freq_dic"
   ]
  },
  {
   "cell_type": "code",
   "execution_count": 3,
   "id": "4bddc4ba",
   "metadata": {
    "ExecuteTime": {
     "end_time": "2022-07-03T18:51:25.034661Z",
     "start_time": "2022-07-03T18:51:25.019930Z"
    }
   },
   "outputs": [],
   "source": [
    "def visualize(skeleton,actv_log_freq):\n",
    "    names=[]\n",
    "    names.append(list(skeleton['equivalence']))\n",
    "    names.append(list(skeleton['always_after']))\n",
    "    names.append(list(skeleton['always_before']))\n",
    "    names.append(list(skeleton['never_together']))\n",
    "    names.append(list(skeleton['directly_follows']))\n",
    "    freq_list = list(skeleton['activ_freq'])\n",
    "    \n",
    "    number_of_activities = len(names[0])+len(names[1])+len(names[2])+len(names[3])+len(names[4])\n",
    "    \n",
    "    f = graphviz.Digraph(filename = \"output.gv\")\n",
    "    \n",
    "    #initialize the list\n",
    "    positions=[]    #node\n",
    "    ns=[]      #name of node\n",
    "    node_left=[]    #left node of the edge\n",
    "    node_right=[]    #right node of the edge\n",
    "    \n",
    "    for i in range(len(names[0])): #equivalence\n",
    "        node_left.append(names[0][i][0])\n",
    "    for i in range(len(names[1])): #always_after\n",
    "        node_left.append(names[1][i][0])\n",
    "    for i in range(len(names[2])): #always_before\n",
    "        node_left.append(names[2][i][0])\n",
    "    for i in range(len(names[3])): #never_together\n",
    "        node_left.append(names[3][i][0])\n",
    "    for i in range(len(names[4])): #directly_follows\n",
    "        node_left.append(names[4][i][0])\n",
    "    \n",
    "    \n",
    "    #occurances of activities in any extended trace\n",
    "    freq={}\n",
    "    for k in range(number_of_activities):\n",
    "        for j in range(len(freq_list)):\n",
    "            if node_left[k] == freq_list[j]:\n",
    "                freq[k] = skeleton['activ_freq'][list(skeleton['activ_freq'])[j]]\n",
    "                #prepare for each node\n",
    "                for i in range(len(names[0])): #equivalence\n",
    "                    positions.append('{'+names[0][i][0]+'|{'+names[0][i][1]+'|'+str(actv_log_freq[i])+'|'+str(freq[k])+'}}')\n",
    "                    ns.append(str(i))\n",
    "                    node_right.append(names[0][i][1])\n",
    "                for i in range(len(names[1])): #always_after\n",
    "                    positions.append('{'+names[1][i][0]+'|{'+names[1][i][1]+'|'+str(actv_log_freq[i+len(names[0])])+'|'+str(freq[k])+'}}')\n",
    "                    ns.append(str(len(names[0])+i))\n",
    "                    node_right.append(names[1][i][1])\n",
    "                for i in range(len(names[2])): #always_before\n",
    "                    positions.append('{'+names[2][i][0]+'|{'+names[2][i][1]+'|'+str(actv_log_freq[i+len(names[0])+len(names[1])])+'|'+str(freq[k])+'}}')\n",
    "                    ns.append(str(len(names[0])+len(names[1])+i))\n",
    "                    node_right.append(names[2][i][1])\n",
    "                for i in range(len(names[3])): #never_together\n",
    "                    positions.append('{'+names[3][i][0]+'|{'+names[3][i][1]+'|'+str(actv_log_freq[i+len(names[0])+len(names[1])+len(names[2])])+'|'+str(freq[k])+'}}')\n",
    "                    ns.append(str(len(names[0])+len(names[1])+len(names[2])+i))\n",
    "                    node_right.append(names[3][i][1])\n",
    "                for i in range(len(names[4])): #directly_follows\n",
    "                    positions.append('{'+names[4][i][0]+'|{'+names[4][i][1]+'|'+str(actv_log_freq[i+len(names[0])+len(names[1])+len(names[2])+len(names[3])])+'|'+str(freq[k])+'}}')\n",
    "                    ns.append(str(len(names[0])+len(names[1])+len(names[2])+len(names[3])+i))\n",
    "                    node_right.append(names[4][i][1])\n",
    "\n",
    "    #edges\n",
    "    #equivalence, never_together: no edges\n",
    "    for j in range(number_of_activities):\n",
    "        for i in range(len(names[0]), len(names[0])+len(names[1])): #always_after\n",
    "            # if the second activity is equal to the left activity of another relation\n",
    "            #then there is a edge from the second relation to the first relation\n",
    "            if (node_right[i] == node_left[j]):  \n",
    "                f.edge(ns[j], ns[i],arrowtail='obox')\n",
    "        for i in range(len(names[0])+len(names[1]), len(names[0])+len(names[1])+len(names[2])): #always_before\n",
    "            if (node_right[i] == node_left[j]):  \n",
    "                f.edge(ns[i], ns[j], arrowhead='obox',arrowtail='obox')\n",
    "        for i in range(len(names[0])+len(names[1])+len(names[2])+len(names[3]), number_of_activities): #directly_follows\n",
    "            if (node_right[i] == node_left[j]):  \n",
    "                f.edge(ns[i], ns[j],arrowhead='odot')\n",
    "    \n",
    "    for name, position in zip(ns, positions):\n",
    "        f.node(name, position, shape = \"record\",style = 'rounded')\n",
    "    \n",
    "    return(f)"
   ]
  },
  {
   "cell_type": "code",
   "execution_count": 4,
   "id": "ceb658de",
   "metadata": {
    "ExecuteTime": {
     "end_time": "2022-07-03T18:51:25.038880Z",
     "start_time": "2022-07-03T18:51:25.036894Z"
    }
   },
   "outputs": [],
   "source": [
    "actv_log_freq=[0,1,2,3,4,5,6,7,8,9,10,11,12,13,14,15,16]"
   ]
  },
  {
   "cell_type": "code",
   "execution_count": 5,
   "id": "02e209da",
   "metadata": {
    "ExecuteTime": {
     "end_time": "2022-07-03T18:51:25.453253Z",
     "start_time": "2022-07-03T18:51:25.039788Z"
    }
   },
   "outputs": [
    {
     "ename": "IndexError",
     "evalue": "list index out of range",
     "output_type": "error",
     "traceback": [
      "\u001b[0;31m---------------------------------------------------------------------------\u001b[0m",
      "\u001b[0;31mIndexError\u001b[0m                                Traceback (most recent call last)",
      "Input \u001b[0;32mIn [5]\u001b[0m, in \u001b[0;36m<cell line: 1>\u001b[0;34m()\u001b[0m\n\u001b[0;32m----> 1\u001b[0m \u001b[43mvisualize\u001b[49m\u001b[43m(\u001b[49m\u001b[43mskeleton\u001b[49m\u001b[43m,\u001b[49m\u001b[43mactv_log_freq\u001b[49m\u001b[43m)\u001b[49m\n",
      "Input \u001b[0;32mIn [3]\u001b[0m, in \u001b[0;36mvisualize\u001b[0;34m(skeleton, actv_log_freq)\u001b[0m\n\u001b[1;32m     46\u001b[0m     node_right\u001b[38;5;241m.\u001b[39mappend(names[\u001b[38;5;241m1\u001b[39m][i][\u001b[38;5;241m1\u001b[39m])\n\u001b[1;32m     47\u001b[0m \u001b[38;5;28;01mfor\u001b[39;00m i \u001b[38;5;129;01min\u001b[39;00m \u001b[38;5;28mrange\u001b[39m(\u001b[38;5;28mlen\u001b[39m(names[\u001b[38;5;241m2\u001b[39m])): \u001b[38;5;66;03m#always_before\u001b[39;00m\n\u001b[0;32m---> 48\u001b[0m     positions\u001b[38;5;241m.\u001b[39mappend(\u001b[38;5;124m'\u001b[39m\u001b[38;5;124m{\u001b[39m\u001b[38;5;124m'\u001b[39m\u001b[38;5;241m+\u001b[39mnames[\u001b[38;5;241m2\u001b[39m][i][\u001b[38;5;241m0\u001b[39m]\u001b[38;5;241m+\u001b[39m\u001b[38;5;124m'\u001b[39m\u001b[38;5;124m|\u001b[39m\u001b[38;5;124m{\u001b[39m\u001b[38;5;124m'\u001b[39m\u001b[38;5;241m+\u001b[39mnames[\u001b[38;5;241m2\u001b[39m][i][\u001b[38;5;241m1\u001b[39m]\u001b[38;5;241m+\u001b[39m\u001b[38;5;124m'\u001b[39m\u001b[38;5;124m|\u001b[39m\u001b[38;5;124m'\u001b[39m\u001b[38;5;241m+\u001b[39m\u001b[38;5;28mstr\u001b[39m(\u001b[43mactv_log_freq\u001b[49m\u001b[43m[\u001b[49m\u001b[43mi\u001b[49m\u001b[38;5;241;43m+\u001b[39;49m\u001b[38;5;28;43mlen\u001b[39;49m\u001b[43m(\u001b[49m\u001b[43mnames\u001b[49m\u001b[43m[\u001b[49m\u001b[38;5;241;43m0\u001b[39;49m\u001b[43m]\u001b[49m\u001b[43m)\u001b[49m\u001b[38;5;241;43m+\u001b[39;49m\u001b[38;5;28;43mlen\u001b[39;49m\u001b[43m(\u001b[49m\u001b[43mnames\u001b[49m\u001b[43m[\u001b[49m\u001b[38;5;241;43m1\u001b[39;49m\u001b[43m]\u001b[49m\u001b[43m)\u001b[49m\u001b[43m]\u001b[49m)\u001b[38;5;241m+\u001b[39m\u001b[38;5;124m'\u001b[39m\u001b[38;5;124m|\u001b[39m\u001b[38;5;124m'\u001b[39m\u001b[38;5;241m+\u001b[39m\u001b[38;5;28mstr\u001b[39m(freq[k])\u001b[38;5;241m+\u001b[39m\u001b[38;5;124m'\u001b[39m\u001b[38;5;124m}}\u001b[39m\u001b[38;5;124m'\u001b[39m)\n\u001b[1;32m     49\u001b[0m     ns\u001b[38;5;241m.\u001b[39mappend(\u001b[38;5;28mstr\u001b[39m(\u001b[38;5;28mlen\u001b[39m(names[\u001b[38;5;241m0\u001b[39m])\u001b[38;5;241m+\u001b[39m\u001b[38;5;28mlen\u001b[39m(names[\u001b[38;5;241m1\u001b[39m])\u001b[38;5;241m+\u001b[39mi))\n\u001b[1;32m     50\u001b[0m     node_right\u001b[38;5;241m.\u001b[39mappend(names[\u001b[38;5;241m2\u001b[39m][i][\u001b[38;5;241m1\u001b[39m])\n",
      "\u001b[0;31mIndexError\u001b[0m: list index out of range"
     ]
    }
   ],
   "source": [
    "visualize(skeleton,actv_log_freq)"
   ]
  }
 ],
 "metadata": {
  "kernelspec": {
   "display_name": "Python 3 (ipykernel)",
   "language": "python",
   "name": "python3"
  },
  "language_info": {
   "codemirror_mode": {
    "name": "ipython",
    "version": 3
   },
   "file_extension": ".py",
   "mimetype": "text/x-python",
   "name": "python",
   "nbconvert_exporter": "python",
   "pygments_lexer": "ipython3",
   "version": "3.9.12"
  },
  "toc": {
   "base_numbering": 1,
   "nav_menu": {},
   "number_sections": true,
   "sideBar": true,
   "skip_h1_title": false,
   "title_cell": "Table of Contents",
   "title_sidebar": "Contents",
   "toc_cell": false,
   "toc_position": {},
   "toc_section_display": true,
   "toc_window_display": false
  },
  "varInspector": {
   "cols": {
    "lenName": 16,
    "lenType": 16,
    "lenVar": 40
   },
   "kernels_config": {
    "python": {
     "delete_cmd_postfix": "",
     "delete_cmd_prefix": "del ",
     "library": "var_list.py",
     "varRefreshCmd": "print(var_dic_list())"
    },
    "r": {
     "delete_cmd_postfix": ") ",
     "delete_cmd_prefix": "rm(",
     "library": "var_list.r",
     "varRefreshCmd": "cat(var_dic_list()) "
    }
   },
   "types_to_exclude": [
    "module",
    "function",
    "builtin_function_or_method",
    "instance",
    "_Feature"
   ],
   "window_display": false
  }
 },
 "nbformat": 4,
 "nbformat_minor": 5
}
