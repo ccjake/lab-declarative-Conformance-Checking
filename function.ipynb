{
 "cells": [
  {
   "cell_type": "code",
   "execution_count": 1,
   "id": "69d5ea50",
   "metadata": {
    "ExecuteTime": {
     "end_time": "2022-07-03T08:06:45.627813Z",
     "start_time": "2022-07-03T08:06:44.571372Z"
    }
   },
   "outputs": [
    {
     "data": {
      "application/vnd.jupyter.widget-view+json": {
       "model_id": "33a27c14df084537805bb441e4f89ca3",
       "version_major": 2,
       "version_minor": 0
      },
      "text/plain": [
       "parsing log, completed traces ::   0%|          | 0/3 [00:00<?, ?it/s]"
      ]
     },
     "metadata": {},
     "output_type": "display_data"
    }
   ],
   "source": [
    "import graphviz\n",
    "import pm4py\n",
    "import os\n",
    "log = pm4py.read_xes('example_log/example_log.xes')"
   ]
  },
  {
   "cell_type": "code",
   "execution_count": 2,
   "id": "d50c70b0",
   "metadata": {
    "ExecuteTime": {
     "end_time": "2022-07-03T08:06:45.632499Z",
     "start_time": "2022-07-03T08:06:45.629413Z"
    }
   },
   "outputs": [],
   "source": [
    "from pm4py.algo.discovery.log_skeleton import algorithm as lsk_discovery\n",
    "skeleton = lsk_discovery.apply(log, parameters={lsk_discovery.Variants.CLASSIC.value.Parameters.NOISE_THRESHOLD: 0.0})"
   ]
  },
  {
   "cell_type": "code",
   "execution_count": 3,

   "id": "64398cf7",
   "metadata": {},

   "outputs": [],
   "source": [
    "def visualize(skeleton,actv_log_freq):\n",
    "    names=[]\n",
    "    names.append(list(skeleton['equivalence']))\n",
    "    names.append(list(skeleton['always_after']))\n",
    "    names.append(list(skeleton['always_before']))\n",
    "    names.append(list(skeleton['never_together']))\n",
    "    names.append(list(skeleton['directly_follows']))\n",
    "    \n",
    "    number_of_activities = len(names[0])+len(names[1])+len(names[2])+len(names[3])+len(names[4])\n",
    "    \n",
    "    f = graphviz.Digraph(filename = \"output.gv\")\n",
    "    \n",
    "    #initialize the list\n",
    "    positions=[]    #node\n",
    "    ns=[]      #name of node\n",
    "    node_left=[]    #left node of the edge\n",
    "    node_right=[]    #right node of the edge\n",
    "    \n",
    "    #prepare for each node\n",
    "    for i in range(len(names[0])): #equivalence\n",
    "        positions.append('{'+names[0][i][0]+'|{'+names[0][i][1]+'|'+str(actv_log_freq[i])+'|'+'freq'+'}}')\n",
    "        ns.append(str(i))\n",
    "        node_left.append(names[0][i][0])\n",
    "        node_right.append(names[0][i][1])\n",
    "    for i in range(len(names[1])): #always_after\n",
    "        positions.append('{'+names[1][i][0]+'|{'+names[1][i][1]+'|'+str(actv_log_freq[i+len(names[0])])+'|'+'freq'+'}}')\n",
    "        ns.append(str(len(names[0])+i))\n",
    "        node_left.append(names[1][i][0])\n",
    "        node_right.append(names[1][i][1])\n",
    "    for i in range(len(names[2])): #always_before\n",
    "        positions.append('{'+names[2][i][0]+'|{'+names[2][i][1]+'|'+str(actv_log_freq[i+len(names[0])+len(names[1])])+'|'+'freq'+'}}')\n",
    "        ns.append(str(len(names[0])+len(names[1])+i))\n",
    "        node_left.append(names[2][i][0])\n",
    "        node_right.append(names[2][i][1])\n",
    "    for i in range(len(names[3])): #never_together\n",
    "        positions.append('{'+names[3][i][0]+'|{'+names[3][i][1]+'|'+str(actv_log_freq[i+len(names[0])+len(names[1])+len(names[2])])+'|'+'freq'+'}}')\n",
    "        ns.append(str(len(names[0])+len(names[1])+len(names[2])+i))\n",
    "        node_left.append(names[3][i][0])\n",
    "        node_right.append(names[3][i][1])\n",
    "    for i in range(len(names[4])): #directly_follows\n",
    "        positions.append('{'+names[4][i][0]+'|{'+names[4][i][1]+'|'+str(actv_log_freq[i+len(names[0])+len(names[1])+len(names[2])+len(names[3])])+'|'+'freq'+'}}')\n",
    "        ns.append(str(len(names[0])+len(names[1])+len(names[2])+len(names[3])+i))\n",
    "        node_left.append(names[4][i][0])\n",
    "        node_right.append(names[4][i][1])\n",
    "\n",
    "    #edges\n",
    "    #equivalence, never_together: no edges\n",
    "    for j in range(number_of_activities):\n",
    "        for i in range(len(names[0]), len(names[0])+len(names[1])): #always_after\n",
    "            # if the second activity is equal to the left activity of another relation\n",
    "            #then there is a edge from the second relation to the first relation\n",
    "            if (node_right[i] == node_left[j]):  \n",
    "                f.edge(ns[j], ns[i],arrowtail='obox')\n",
    "        for i in range(len(names[0])+len(names[1]), len(names[0])+len(names[1])+len(names[2])): #always_before\n",
    "            if (node_right[i] == node_left[j]):  \n",
    "                f.edge(ns[i], ns[j], arrowhead='obox',arrowtail='obox')\n",
    "        for i in range(len(names[0])+len(names[1])+len(names[2])+len(names[3]), number_of_activities): #directly_follows\n",
    "            if (node_right[i] == node_left[j]):  \n",
    "                f.edge(ns[i], ns[j],arrowhead='odot')\n",
    "    \n",
    "    for name, position in zip(ns, positions):\n",
    "        f.node(name, position, shape = \"record\",style = 'rounded')\n",
    "    \n",
    "    return(f)"
   ]
  },
  {
   "cell_type": "code",

   "execution_count": 4,
   "id": "aad7da83",
   "metadata": {},

   "outputs": [],
   "source": [
    "actv_log_freq=[0,1,2,3,4,5,6,7,8,9,10,11,12,13,14,15,16]"
   ]
  },
  {
   "cell_type": "code",
   "execution_count": 10,
   "id": "02e209da",
   "metadata": {
    "ExecuteTime": {
     "end_time": "2022-07-03T08:07:40.526556Z",
     "start_time": "2022-07-03T08:07:40.462914Z"
    }
   },
   "outputs": [
    {
     "ename": "IndexError",
     "evalue": "list index out of range",
     "output_type": "error",
     "traceback": [
      "\u001b[0;31m---------------------------------------------------------------------------\u001b[0m",
      "\u001b[0;31mIndexError\u001b[0m                                Traceback (most recent call last)",
      "Input \u001b[0;32mIn [10]\u001b[0m, in \u001b[0;36m<cell line: 1>\u001b[0;34m()\u001b[0m\n\u001b[0;32m----> 1\u001b[0m \u001b[43mvisualize\u001b[49m\u001b[43m(\u001b[49m\u001b[43mskeleton\u001b[49m\u001b[43m,\u001b[49m\u001b[43mactv_log_freq\u001b[49m\u001b[43m)\u001b[49m\n",
      "Input \u001b[0;32mIn [7]\u001b[0m, in \u001b[0;36mvisualize\u001b[0;34m(skeleton, actv_log_freq)\u001b[0m\n\u001b[1;32m     29\u001b[0m     node_right\u001b[38;5;241m.\u001b[39mappend(names[\u001b[38;5;241m1\u001b[39m][i][\u001b[38;5;241m1\u001b[39m])\n\u001b[1;32m     30\u001b[0m \u001b[38;5;28;01mfor\u001b[39;00m i \u001b[38;5;129;01min\u001b[39;00m \u001b[38;5;28mrange\u001b[39m(\u001b[38;5;28mlen\u001b[39m(names[\u001b[38;5;241m2\u001b[39m])): \u001b[38;5;66;03m#always_before\u001b[39;00m\n\u001b[0;32m---> 31\u001b[0m     positions\u001b[38;5;241m.\u001b[39mappend(\u001b[38;5;124m'\u001b[39m\u001b[38;5;124m{\u001b[39m\u001b[38;5;124m'\u001b[39m\u001b[38;5;241m+\u001b[39mnames[\u001b[38;5;241m2\u001b[39m][i][\u001b[38;5;241m0\u001b[39m]\u001b[38;5;241m+\u001b[39m\u001b[38;5;124m'\u001b[39m\u001b[38;5;124m|\u001b[39m\u001b[38;5;124m{\u001b[39m\u001b[38;5;124m'\u001b[39m\u001b[38;5;241m+\u001b[39mnames[\u001b[38;5;241m2\u001b[39m][i][\u001b[38;5;241m1\u001b[39m]\u001b[38;5;241m+\u001b[39m\u001b[38;5;124m'\u001b[39m\u001b[38;5;124m|\u001b[39m\u001b[38;5;124m'\u001b[39m\u001b[38;5;241m+\u001b[39m\u001b[38;5;28mstr\u001b[39m(\u001b[43mactv_log_freq\u001b[49m\u001b[43m[\u001b[49m\u001b[43mi\u001b[49m\u001b[38;5;241;43m+\u001b[39;49m\u001b[38;5;28;43mlen\u001b[39;49m\u001b[43m(\u001b[49m\u001b[43mnames\u001b[49m\u001b[43m[\u001b[49m\u001b[38;5;241;43m0\u001b[39;49m\u001b[43m]\u001b[49m\u001b[43m)\u001b[49m\u001b[38;5;241;43m+\u001b[39;49m\u001b[38;5;28;43mlen\u001b[39;49m\u001b[43m(\u001b[49m\u001b[43mnames\u001b[49m\u001b[43m[\u001b[49m\u001b[38;5;241;43m1\u001b[39;49m\u001b[43m]\u001b[49m\u001b[43m)\u001b[49m\u001b[43m]\u001b[49m)\u001b[38;5;241m+\u001b[39m\u001b[38;5;124m'\u001b[39m\u001b[38;5;124m|\u001b[39m\u001b[38;5;124m'\u001b[39m\u001b[38;5;241m+\u001b[39m\u001b[38;5;124m'\u001b[39m\u001b[38;5;124mfreq\u001b[39m\u001b[38;5;124m'\u001b[39m\u001b[38;5;241m+\u001b[39m\u001b[38;5;124m'\u001b[39m\u001b[38;5;124m}}\u001b[39m\u001b[38;5;124m'\u001b[39m)\n\u001b[1;32m     32\u001b[0m     ns\u001b[38;5;241m.\u001b[39mappend(\u001b[38;5;28mstr\u001b[39m(\u001b[38;5;28mlen\u001b[39m(names[\u001b[38;5;241m0\u001b[39m])\u001b[38;5;241m+\u001b[39m\u001b[38;5;28mlen\u001b[39m(names[\u001b[38;5;241m1\u001b[39m])\u001b[38;5;241m+\u001b[39mi))\n\u001b[1;32m     33\u001b[0m     node_left\u001b[38;5;241m.\u001b[39mappend(names[\u001b[38;5;241m2\u001b[39m][i][\u001b[38;5;241m0\u001b[39m])\n",
      "\u001b[0;31mIndexError\u001b[0m: list index out of range"
     ]
    }
   ],
   "source": [
    "visualize(skeleton,actv_log_freq)"
   ]
  }
 ],
 "metadata": {
  "kernelspec": {
   "display_name": "Python 3 (ipykernel)",
   "language": "python",
   "name": "python3"
  },
  "language_info": {
   "codemirror_mode": {
    "name": "ipython",
    "version": 3
   },
   "file_extension": ".py",
   "mimetype": "text/x-python",
   "name": "python",
   "nbconvert_exporter": "python",
   "pygments_lexer": "ipython3",
   "version": "3.9.12"
  },
  "toc": {
   "base_numbering": 1,
   "nav_menu": {},
   "number_sections": true,
   "sideBar": true,
   "skip_h1_title": false,
   "title_cell": "Table of Contents",
   "title_sidebar": "Contents",
   "toc_cell": false,
   "toc_position": {},
   "toc_section_display": true,
   "toc_window_display": false
  },
  "varInspector": {
   "cols": {
    "lenName": 16,
    "lenType": 16,
    "lenVar": 40
   },
   "kernels_config": {
    "python": {
     "delete_cmd_postfix": "",
     "delete_cmd_prefix": "del ",
     "library": "var_list.py",
     "varRefreshCmd": "print(var_dic_list())"
    },
    "r": {
     "delete_cmd_postfix": ") ",
     "delete_cmd_prefix": "rm(",
     "library": "var_list.r",
     "varRefreshCmd": "cat(var_dic_list()) "
    }
   },
   "types_to_exclude": [
    "module",
    "function",
    "builtin_function_or_method",
    "instance",
    "_Feature"
   ],
   "window_display": false
  }
 },
 "nbformat": 4,
 "nbformat_minor": 5
}
