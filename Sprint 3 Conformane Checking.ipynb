{
 "cells": [
  {
   "cell_type": "code",
   "execution_count": 1,
   "id": "dbec489c",
   "metadata": {
    "ExecuteTime": {
     "end_time": "2022-07-02T17:26:21.236522Z",
     "start_time": "2022-07-02T17:26:18.596258Z"
    }
   },
   "outputs": [
    {
     "name": "stderr",
     "output_type": "stream",
     "text": [
      "/Users/baichaoye/opt/anaconda3/envs/lab/lib/python3.9/site-packages/pm4py/util/lp/variants/scipy_solver.py:20: DeprecationWarning: Please use `OptimizeResult` from the `scipy.optimize` namespace, the `scipy.optimize.optimize` namespace is deprecated.\n",
      "  from scipy.optimize.optimize import OptimizeResult\n"
     ]
    },
    {
     "name": "stdout",
     "output_type": "stream",
     "text": [
      "[2022-07-02 19:26:20] INFO: Initial connect successful! Hello Baichao. PyCelonis Version: 1.7.1\n"
     ]
    },
    {
     "name": "stderr",
     "output_type": "stream",
     "text": [
      "/Users/baichaoye/opt/anaconda3/envs/lab/lib/python3.9/site-packages/pkg_resources/__init__.py:122: PkgResourcesDeprecationWarning: 1.7.1#sha256=1a33bea4a3fe5bf28b39faa561448594f768b243c3260800b7bddf5b80b46d2e is an invalid version and will not be supported in a future release\n",
      "  warnings.warn(\n",
      "/Users/baichaoye/opt/anaconda3/envs/lab/lib/python3.9/site-packages/pkg_resources/_vendor/packaging/version.py:111: DeprecationWarning: Creating a LegacyVersion has been deprecated and will be removed in the next major release\n",
      "  warnings.warn(\n"
     ]
    }
   ],
   "source": [
    "from celonis_connect import Celonis_Connect\n",
    "cn = Celonis_Connect()"
   ]
  },
  {
   "cell_type": "code",
   "execution_count": 52,
   "id": "42f3430d",
   "metadata": {
    "ExecuteTime": {
     "end_time": "2022-07-02T20:08:59.383127Z",
     "start_time": "2022-07-02T20:08:58.507785Z"
    }
   },
   "outputs": [
    {
     "data": {
      "text/plain": [
       "[\n",
       "<Datamodel, id 02654e7f-c480-4bc9-b014-5539bee182ec, name synthetic>,\n",
       "<Datamodel, id 0c6b4617-c643-42b5-8377-e99c974e65bb, name rum_example>,\n",
       "<Datamodel, id 1914c64d-c9be-42b9-8cda-3b9b2eb8fb41, name test>,\n",
       "<Datamodel, id 1d217e7f-f86d-457d-811d-0b0b8ae08e20, name BPIC15>,\n",
       "]"
      ]
     },
     "execution_count": 52,
     "metadata": {},
     "output_type": "execute_result"
    }
   ],
   "source": [
    "cn.get_pools().find('lab').datamodels"
   ]
  },
  {
   "cell_type": "code",
   "execution_count": 53,
   "id": "99e39106",
   "metadata": {
    "ExecuteTime": {
     "end_time": "2022-07-02T20:09:12.740840Z",
     "start_time": "2022-07-02T20:09:11.993144Z"
    }
   },
   "outputs": [],
   "source": [
    "cn.set_datamodel('synthetic')"
   ]
  },
  {
   "cell_type": "code",
   "execution_count": 154,
   "id": "8ea0fc1f",
   "metadata": {
    "ExecuteTime": {
     "end_time": "2022-07-02T21:27:52.840180Z",
     "start_time": "2022-07-02T21:27:52.836555Z"
    }
   },
   "outputs": [],
   "source": [
    "datamodel = cn.get_datamodel()\n",
    "#  synthetic_event_log_xes\n",
    "datamodel\n",
    "table = \"synthetic_event_log_xes\""
   ]
  },
  {
   "cell_type": "markdown",
   "id": "36859b6c",
   "metadata": {},
   "source": [
    "variant table"
   ]
  },
  {
   "cell_type": "code",
   "execution_count": 218,
   "id": "f2348be6",
   "metadata": {
    "ExecuteTime": {
     "end_time": "2022-07-02T21:52:33.403675Z",
     "start_time": "2022-07-02T21:52:33.393294Z"
    }
   },
   "outputs": [],
   "source": [
    "from pycelonis.celonis_api.pql.pql import PQL, PQLColumn,PQLFilter\n",
    "\n",
    "def variant_table(datamodel,table:str):\n",
    "    ## table for variant table\n",
    "    pql = PQL()\n",
    "    pql.add(PQLColumn(name='variant',query = 'VARIANT ( \"'+table+'\".\"concept:name\"  )'))\n",
    "    pql.add(PQLColumn(name='freq',query = 'COUNT(\"' + table + '_CASES\".\"Case ID\")'))\n",
    "    \n",
    "    pql.add(PQLColumn(name = 'variant_id', query='MIN(\"' + table + '_CASES\".\"Case ID\")' ))\n",
    "    df = datamodel.get_data_frame(pql)\n",
    "    \n",
    "    ## for activities\n",
    "    pql = PQL()\n",
    "    pql.add(\n",
    "        PQLColumn(name=\"activities\", query='\"' + table + '\".\"concept:name\"')\n",
    "    )\n",
    "    pql.add(\n",
    "        PQLColumn(name=\"frequency\", query='COUNT_TABLE(\"' + table + '\")')\n",
    "    )\n",
    "\n",
    "    \n",
    "    activities = sorted(datamodel.get_data_frame(pql)[\"activities\"].tolist())\n",
    "    activities = set(activities)\n",
    "\n",
    "    return df,activities"
   ]
  },
  {
   "cell_type": "code",
   "execution_count": 219,
   "id": "91a14f67",
   "metadata": {
    "ExecuteTime": {
     "end_time": "2022-07-02T21:52:35.548480Z",
     "start_time": "2022-07-02T21:52:34.136930Z"
    }
   },
   "outputs": [
    {
     "name": "stdout",
     "output_type": "stream",
     "text": [
      "[2022-07-02 23:52:34] INFO: PQL Export started...\n",
      "[2022-07-02 23:52:34] INFO: PQL Export status: DONE\n",
      "[2022-07-02 23:52:35] INFO: PQL Export started...\n",
      "[2022-07-02 23:52:35] INFO: PQL Export status: DONE\n"
     ]
    }
   ],
   "source": [
    "variant_df,activities = variant_table(datamodel,table=\"synthetic_event_log_xes\")"
   ]
  },
  {
   "cell_type": "code",
   "execution_count": 139,
   "id": "0d2855da",
   "metadata": {
    "ExecuteTime": {
     "end_time": "2022-07-02T21:13:49.904393Z",
     "start_time": "2022-07-02T21:13:49.898438Z"
    }
   },
   "outputs": [
    {
     "data": {
      "text/plain": [
       "{'a', 'b', 'c', 'd', 'e', 'f', 'x'}"
      ]
     },
     "execution_count": 139,
     "metadata": {},
     "output_type": "execute_result"
    }
   ],
   "source": [
    "activities"
   ]
  },
  {
   "cell_type": "code",
   "execution_count": 355,
   "id": "91d516f6",
   "metadata": {
    "ExecuteTime": {
     "end_time": "2022-07-03T01:46:05.400501Z",
     "start_time": "2022-07-03T01:46:05.395331Z"
    }
   },
   "outputs": [
    {
     "data": {
      "text/plain": [
       "True"
      ]
     },
     "execution_count": 355,
     "metadata": {},
     "output_type": "execute_result"
    }
   ],
   "source": [
    "'a' in list(activities)"
   ]
  },
  {
   "cell_type": "code",
   "execution_count": 238,
   "id": "904202a0",
   "metadata": {
    "ExecuteTime": {
     "end_time": "2022-07-02T22:35:27.664608Z",
     "start_time": "2022-07-02T22:35:27.630432Z"
    }
   },
   "outputs": [
    {
     "data": {
      "text/plain": [
       "{'a, b, c, d': 45,\n",
       " 'a, b, c, d, e, f': 40,\n",
       " 'a, b, c, d, f': 200,\n",
       " 'a, b, c, e, f': 200,\n",
       " 'a, b, c, f': 30,\n",
       " 'a, b, c, x, e, f': 100,\n",
       " 'a, c, b, d, f': 200,\n",
       " 'a, c, b, e, f': 200,\n",
       " 'a, c, d, f': 50,\n",
       " 'c, b, d, f': 35}"
      ]
     },
     "execution_count": 238,
     "metadata": {},
     "output_type": "execute_result"
    }
   ],
   "source": [
    "variant_df\n",
    "# variant_dic = {variant_df}\n",
    "variant_df.groupby('variant')['freq'].apply(int).to_dict() "
   ]
  },
  {
   "cell_type": "code",
   "execution_count": 244,
   "id": "1d689478",
   "metadata": {
    "ExecuteTime": {
     "end_time": "2022-07-02T23:02:58.397156Z",
     "start_time": "2022-07-02T23:02:57.475994Z"
    },
    "collapsed": true
   },
   "outputs": [
    {
     "name": "stdout",
     "output_type": "stream",
     "text": [
      "00d9a426-3496-43dc-be2d-069b04490b0d','00b06e7d-2c16-4808-a003-e690cdd173db','0040cb14-bbf7-4fc7-a345-b8c79aebf87c','0131bf9c-e7f4-45ac-8435-a07eee9f69ba','0653126e-3746-479f-821f-c7ffa28f968c','006825a4-f9e8-4a92-8343-b0e593210c7b','01b925fc-7b55-4e18-ad36-e8f1c0242608','01e84bd3-a6e0-40ab-b478-35271c007cd2','03027514-4850-4fcc-836b-d6ded96f7604','07ac2832-a4e5-4ce7-a3ea-eb3341b86a79\n",
      "[2022-07-03 01:02:57] INFO: PQL Export started...\n",
      "[2022-07-03 01:02:58] INFO: PQL Export status: DONE\n"
     ]
    },
    {
     "data": {
      "text/html": [
       "<div>\n",
       "<style scoped>\n",
       "    .dataframe tbody tr th:only-of-type {\n",
       "        vertical-align: middle;\n",
       "    }\n",
       "\n",
       "    .dataframe tbody tr th {\n",
       "        vertical-align: top;\n",
       "    }\n",
       "\n",
       "    .dataframe thead th {\n",
       "        text-align: right;\n",
       "    }\n",
       "</style>\n",
       "<table border=\"1\" class=\"dataframe\">\n",
       "  <thead>\n",
       "    <tr style=\"text-align: right;\">\n",
       "      <th></th>\n",
       "      <th>id</th>\n",
       "    </tr>\n",
       "  </thead>\n",
       "  <tbody>\n",
       "    <tr>\n",
       "      <th>0</th>\n",
       "      <td>0040cb14-bbf7-4fc7-a345-b8c79aebf87c</td>\n",
       "    </tr>\n",
       "    <tr>\n",
       "      <th>1</th>\n",
       "      <td>0040cb14-bbf7-4fc7-a345-b8c79aebf87c</td>\n",
       "    </tr>\n",
       "    <tr>\n",
       "      <th>2</th>\n",
       "      <td>0040cb14-bbf7-4fc7-a345-b8c79aebf87c</td>\n",
       "    </tr>\n",
       "    <tr>\n",
       "      <th>3</th>\n",
       "      <td>0040cb14-bbf7-4fc7-a345-b8c79aebf87c</td>\n",
       "    </tr>\n",
       "    <tr>\n",
       "      <th>4</th>\n",
       "      <td>0040cb14-bbf7-4fc7-a345-b8c79aebf87c</td>\n",
       "    </tr>\n",
       "    <tr>\n",
       "      <th>5</th>\n",
       "      <td>006825a4-f9e8-4a92-8343-b0e593210c7b</td>\n",
       "    </tr>\n",
       "    <tr>\n",
       "      <th>6</th>\n",
       "      <td>006825a4-f9e8-4a92-8343-b0e593210c7b</td>\n",
       "    </tr>\n",
       "    <tr>\n",
       "      <th>7</th>\n",
       "      <td>006825a4-f9e8-4a92-8343-b0e593210c7b</td>\n",
       "    </tr>\n",
       "    <tr>\n",
       "      <th>8</th>\n",
       "      <td>006825a4-f9e8-4a92-8343-b0e593210c7b</td>\n",
       "    </tr>\n",
       "    <tr>\n",
       "      <th>9</th>\n",
       "      <td>006825a4-f9e8-4a92-8343-b0e593210c7b</td>\n",
       "    </tr>\n",
       "    <tr>\n",
       "      <th>10</th>\n",
       "      <td>006825a4-f9e8-4a92-8343-b0e593210c7b</td>\n",
       "    </tr>\n",
       "    <tr>\n",
       "      <th>11</th>\n",
       "      <td>00b06e7d-2c16-4808-a003-e690cdd173db</td>\n",
       "    </tr>\n",
       "    <tr>\n",
       "      <th>12</th>\n",
       "      <td>00b06e7d-2c16-4808-a003-e690cdd173db</td>\n",
       "    </tr>\n",
       "    <tr>\n",
       "      <th>13</th>\n",
       "      <td>00b06e7d-2c16-4808-a003-e690cdd173db</td>\n",
       "    </tr>\n",
       "    <tr>\n",
       "      <th>14</th>\n",
       "      <td>00b06e7d-2c16-4808-a003-e690cdd173db</td>\n",
       "    </tr>\n",
       "    <tr>\n",
       "      <th>15</th>\n",
       "      <td>00b06e7d-2c16-4808-a003-e690cdd173db</td>\n",
       "    </tr>\n",
       "    <tr>\n",
       "      <th>16</th>\n",
       "      <td>00b06e7d-2c16-4808-a003-e690cdd173db</td>\n",
       "    </tr>\n",
       "    <tr>\n",
       "      <th>17</th>\n",
       "      <td>00d9a426-3496-43dc-be2d-069b04490b0d</td>\n",
       "    </tr>\n",
       "    <tr>\n",
       "      <th>18</th>\n",
       "      <td>00d9a426-3496-43dc-be2d-069b04490b0d</td>\n",
       "    </tr>\n",
       "    <tr>\n",
       "      <th>19</th>\n",
       "      <td>00d9a426-3496-43dc-be2d-069b04490b0d</td>\n",
       "    </tr>\n",
       "    <tr>\n",
       "      <th>20</th>\n",
       "      <td>00d9a426-3496-43dc-be2d-069b04490b0d</td>\n",
       "    </tr>\n",
       "    <tr>\n",
       "      <th>21</th>\n",
       "      <td>0131bf9c-e7f4-45ac-8435-a07eee9f69ba</td>\n",
       "    </tr>\n",
       "    <tr>\n",
       "      <th>22</th>\n",
       "      <td>0131bf9c-e7f4-45ac-8435-a07eee9f69ba</td>\n",
       "    </tr>\n",
       "    <tr>\n",
       "      <th>23</th>\n",
       "      <td>0131bf9c-e7f4-45ac-8435-a07eee9f69ba</td>\n",
       "    </tr>\n",
       "    <tr>\n",
       "      <th>24</th>\n",
       "      <td>0131bf9c-e7f4-45ac-8435-a07eee9f69ba</td>\n",
       "    </tr>\n",
       "    <tr>\n",
       "      <th>25</th>\n",
       "      <td>0131bf9c-e7f4-45ac-8435-a07eee9f69ba</td>\n",
       "    </tr>\n",
       "    <tr>\n",
       "      <th>26</th>\n",
       "      <td>01b925fc-7b55-4e18-ad36-e8f1c0242608</td>\n",
       "    </tr>\n",
       "    <tr>\n",
       "      <th>27</th>\n",
       "      <td>01b925fc-7b55-4e18-ad36-e8f1c0242608</td>\n",
       "    </tr>\n",
       "    <tr>\n",
       "      <th>28</th>\n",
       "      <td>01b925fc-7b55-4e18-ad36-e8f1c0242608</td>\n",
       "    </tr>\n",
       "    <tr>\n",
       "      <th>29</th>\n",
       "      <td>01b925fc-7b55-4e18-ad36-e8f1c0242608</td>\n",
       "    </tr>\n",
       "    <tr>\n",
       "      <th>30</th>\n",
       "      <td>01b925fc-7b55-4e18-ad36-e8f1c0242608</td>\n",
       "    </tr>\n",
       "    <tr>\n",
       "      <th>31</th>\n",
       "      <td>01e84bd3-a6e0-40ab-b478-35271c007cd2</td>\n",
       "    </tr>\n",
       "    <tr>\n",
       "      <th>32</th>\n",
       "      <td>01e84bd3-a6e0-40ab-b478-35271c007cd2</td>\n",
       "    </tr>\n",
       "    <tr>\n",
       "      <th>33</th>\n",
       "      <td>01e84bd3-a6e0-40ab-b478-35271c007cd2</td>\n",
       "    </tr>\n",
       "    <tr>\n",
       "      <th>34</th>\n",
       "      <td>01e84bd3-a6e0-40ab-b478-35271c007cd2</td>\n",
       "    </tr>\n",
       "    <tr>\n",
       "      <th>35</th>\n",
       "      <td>01e84bd3-a6e0-40ab-b478-35271c007cd2</td>\n",
       "    </tr>\n",
       "    <tr>\n",
       "      <th>36</th>\n",
       "      <td>03027514-4850-4fcc-836b-d6ded96f7604</td>\n",
       "    </tr>\n",
       "    <tr>\n",
       "      <th>37</th>\n",
       "      <td>03027514-4850-4fcc-836b-d6ded96f7604</td>\n",
       "    </tr>\n",
       "    <tr>\n",
       "      <th>38</th>\n",
       "      <td>03027514-4850-4fcc-836b-d6ded96f7604</td>\n",
       "    </tr>\n",
       "    <tr>\n",
       "      <th>39</th>\n",
       "      <td>03027514-4850-4fcc-836b-d6ded96f7604</td>\n",
       "    </tr>\n",
       "    <tr>\n",
       "      <th>40</th>\n",
       "      <td>0653126e-3746-479f-821f-c7ffa28f968c</td>\n",
       "    </tr>\n",
       "    <tr>\n",
       "      <th>41</th>\n",
       "      <td>0653126e-3746-479f-821f-c7ffa28f968c</td>\n",
       "    </tr>\n",
       "    <tr>\n",
       "      <th>42</th>\n",
       "      <td>0653126e-3746-479f-821f-c7ffa28f968c</td>\n",
       "    </tr>\n",
       "    <tr>\n",
       "      <th>43</th>\n",
       "      <td>0653126e-3746-479f-821f-c7ffa28f968c</td>\n",
       "    </tr>\n",
       "    <tr>\n",
       "      <th>44</th>\n",
       "      <td>07ac2832-a4e5-4ce7-a3ea-eb3341b86a79</td>\n",
       "    </tr>\n",
       "    <tr>\n",
       "      <th>45</th>\n",
       "      <td>07ac2832-a4e5-4ce7-a3ea-eb3341b86a79</td>\n",
       "    </tr>\n",
       "    <tr>\n",
       "      <th>46</th>\n",
       "      <td>07ac2832-a4e5-4ce7-a3ea-eb3341b86a79</td>\n",
       "    </tr>\n",
       "    <tr>\n",
       "      <th>47</th>\n",
       "      <td>07ac2832-a4e5-4ce7-a3ea-eb3341b86a79</td>\n",
       "    </tr>\n",
       "  </tbody>\n",
       "</table>\n",
       "</div>"
      ],
      "text/plain": [
       "                                      id\n",
       "0   0040cb14-bbf7-4fc7-a345-b8c79aebf87c\n",
       "1   0040cb14-bbf7-4fc7-a345-b8c79aebf87c\n",
       "2   0040cb14-bbf7-4fc7-a345-b8c79aebf87c\n",
       "3   0040cb14-bbf7-4fc7-a345-b8c79aebf87c\n",
       "4   0040cb14-bbf7-4fc7-a345-b8c79aebf87c\n",
       "5   006825a4-f9e8-4a92-8343-b0e593210c7b\n",
       "6   006825a4-f9e8-4a92-8343-b0e593210c7b\n",
       "7   006825a4-f9e8-4a92-8343-b0e593210c7b\n",
       "8   006825a4-f9e8-4a92-8343-b0e593210c7b\n",
       "9   006825a4-f9e8-4a92-8343-b0e593210c7b\n",
       "10  006825a4-f9e8-4a92-8343-b0e593210c7b\n",
       "11  00b06e7d-2c16-4808-a003-e690cdd173db\n",
       "12  00b06e7d-2c16-4808-a003-e690cdd173db\n",
       "13  00b06e7d-2c16-4808-a003-e690cdd173db\n",
       "14  00b06e7d-2c16-4808-a003-e690cdd173db\n",
       "15  00b06e7d-2c16-4808-a003-e690cdd173db\n",
       "16  00b06e7d-2c16-4808-a003-e690cdd173db\n",
       "17  00d9a426-3496-43dc-be2d-069b04490b0d\n",
       "18  00d9a426-3496-43dc-be2d-069b04490b0d\n",
       "19  00d9a426-3496-43dc-be2d-069b04490b0d\n",
       "20  00d9a426-3496-43dc-be2d-069b04490b0d\n",
       "21  0131bf9c-e7f4-45ac-8435-a07eee9f69ba\n",
       "22  0131bf9c-e7f4-45ac-8435-a07eee9f69ba\n",
       "23  0131bf9c-e7f4-45ac-8435-a07eee9f69ba\n",
       "24  0131bf9c-e7f4-45ac-8435-a07eee9f69ba\n",
       "25  0131bf9c-e7f4-45ac-8435-a07eee9f69ba\n",
       "26  01b925fc-7b55-4e18-ad36-e8f1c0242608\n",
       "27  01b925fc-7b55-4e18-ad36-e8f1c0242608\n",
       "28  01b925fc-7b55-4e18-ad36-e8f1c0242608\n",
       "29  01b925fc-7b55-4e18-ad36-e8f1c0242608\n",
       "30  01b925fc-7b55-4e18-ad36-e8f1c0242608\n",
       "31  01e84bd3-a6e0-40ab-b478-35271c007cd2\n",
       "32  01e84bd3-a6e0-40ab-b478-35271c007cd2\n",
       "33  01e84bd3-a6e0-40ab-b478-35271c007cd2\n",
       "34  01e84bd3-a6e0-40ab-b478-35271c007cd2\n",
       "35  01e84bd3-a6e0-40ab-b478-35271c007cd2\n",
       "36  03027514-4850-4fcc-836b-d6ded96f7604\n",
       "37  03027514-4850-4fcc-836b-d6ded96f7604\n",
       "38  03027514-4850-4fcc-836b-d6ded96f7604\n",
       "39  03027514-4850-4fcc-836b-d6ded96f7604\n",
       "40  0653126e-3746-479f-821f-c7ffa28f968c\n",
       "41  0653126e-3746-479f-821f-c7ffa28f968c\n",
       "42  0653126e-3746-479f-821f-c7ffa28f968c\n",
       "43  0653126e-3746-479f-821f-c7ffa28f968c\n",
       "44  07ac2832-a4e5-4ce7-a3ea-eb3341b86a79\n",
       "45  07ac2832-a4e5-4ce7-a3ea-eb3341b86a79\n",
       "46  07ac2832-a4e5-4ce7-a3ea-eb3341b86a79\n",
       "47  07ac2832-a4e5-4ce7-a3ea-eb3341b86a79"
      ]
     },
     "execution_count": 244,
     "metadata": {},
     "output_type": "execute_result"
    }
   ],
   "source": [
    "select_id = str(\"','\".join(variant_df['variant_id'].tolist()))\n",
    "print(select_id)\n",
    "pql = PQL()\n",
    "pql.add(PQLFilter(\"FILTER DOMAIN \\\"synthetic_event_log_xes_CASES\\\".\\\"Case ID\\\" IN ( '\"+ select_id +\"' )\"))\n",
    "pql.add(PQLColumn(name = \"id\",query = '\"'+table+'\".\"Case Id\"'))\n",
    "# pql.add(PQLColumn(name = \"act\",query = '\"'+table+'\".\"concept:name\"'))\n",
    "df = datamodel.get_data_frame(pql)\n",
    "df"
   ]
  },
  {
   "cell_type": "code",
   "execution_count": 245,
   "id": "76846ddb",
   "metadata": {
    "ExecuteTime": {
     "end_time": "2022-07-02T23:03:42.802326Z",
     "start_time": "2022-07-02T23:03:42.793014Z"
    },
    "collapsed": true
   },
   "outputs": [
    {
     "data": {
      "text/plain": [
       "\"00d9a426-3496-43dc-be2d-069b04490b0d','00b06e7d-2c16-4808-a003-e690cdd173db','0040cb14-bbf7-4fc7-a345-b8c79aebf87c','0131bf9c-e7f4-45ac-8435-a07eee9f69ba','0653126e-3746-479f-821f-c7ffa28f968c','006825a4-f9e8-4a92-8343-b0e593210c7b','01b925fc-7b55-4e18-ad36-e8f1c0242608','01e84bd3-a6e0-40ab-b478-35271c007cd2','03027514-4850-4fcc-836b-d6ded96f7604','07ac2832-a4e5-4ce7-a3ea-eb3341b86a79\""
      ]
     },
     "execution_count": 245,
     "metadata": {},
     "output_type": "execute_result"
    }
   ],
   "source": [
    "select_id"
   ]
  },
  {
   "cell_type": "code",
   "execution_count": 313,
   "id": "8fad1d60",
   "metadata": {
    "ExecuteTime": {
     "end_time": "2022-07-03T00:12:32.647793Z",
     "start_time": "2022-07-03T00:12:32.642261Z"
    }
   },
   "outputs": [],
   "source": [
    "\n",
    "\n",
    "\n"
   ]
  },
  {
   "cell_type": "markdown",
   "id": "9f5bb896",
   "metadata": {},
   "source": [
    "ALWAYS AFTER"
   ]
  },
  {
   "cell_type": "code",
   "execution_count": 406,
   "id": "3c83854a",
   "metadata": {
    "ExecuteTime": {
     "end_time": "2022-07-03T02:57:26.809858Z",
     "start_time": "2022-07-03T02:57:25.844986Z"
    }
   },
   "outputs": [
    {
     "name": "stdout",
     "output_type": "stream",
     "text": [
      "[2022-07-03 04:57:26] INFO: PQL Export started...\n",
      "[2022-07-03 04:57:26] INFO: PQL Export status: DONE\n"
     ]
    },
    {
     "data": {
      "text/html": [
       "<div>\n",
       "<style scoped>\n",
       "    .dataframe tbody tr th:only-of-type {\n",
       "        vertical-align: middle;\n",
       "    }\n",
       "\n",
       "    .dataframe tbody tr th {\n",
       "        vertical-align: top;\n",
       "    }\n",
       "\n",
       "    .dataframe thead th {\n",
       "        text-align: right;\n",
       "    }\n",
       "</style>\n",
       "<table border=\"1\" class=\"dataframe\">\n",
       "  <thead>\n",
       "    <tr style=\"text-align: right;\">\n",
       "      <th></th>\n",
       "      <th>id</th>\n",
       "      <th>variant</th>\n",
       "      <th>always_after x TO f</th>\n",
       "      <th>always_after x TO e</th>\n",
       "      <th>always_after a TO c</th>\n",
       "      <th>always_after e TO f</th>\n",
       "    </tr>\n",
       "  </thead>\n",
       "  <tbody>\n",
       "    <tr>\n",
       "      <th>0</th>\n",
       "      <td>0040cb14-bbf7-4fc7-a345-b8c79aebf87c</td>\n",
       "      <td>a, b, c, d, f</td>\n",
       "      <td>0</td>\n",
       "      <td>0</td>\n",
       "      <td>1</td>\n",
       "      <td>0</td>\n",
       "    </tr>\n",
       "    <tr>\n",
       "      <th>1</th>\n",
       "      <td>006825a4-f9e8-4a92-8343-b0e593210c7b</td>\n",
       "      <td>a, b, c, x, e, f</td>\n",
       "      <td>1</td>\n",
       "      <td>1</td>\n",
       "      <td>1</td>\n",
       "      <td>1</td>\n",
       "    </tr>\n",
       "    <tr>\n",
       "      <th>2</th>\n",
       "      <td>00b06e7d-2c16-4808-a003-e690cdd173db</td>\n",
       "      <td>a, b, c, d, e, f</td>\n",
       "      <td>0</td>\n",
       "      <td>0</td>\n",
       "      <td>1</td>\n",
       "      <td>1</td>\n",
       "    </tr>\n",
       "    <tr>\n",
       "      <th>3</th>\n",
       "      <td>00d9a426-3496-43dc-be2d-069b04490b0d</td>\n",
       "      <td>a, b, c, d</td>\n",
       "      <td>0</td>\n",
       "      <td>0</td>\n",
       "      <td>1</td>\n",
       "      <td>0</td>\n",
       "    </tr>\n",
       "    <tr>\n",
       "      <th>4</th>\n",
       "      <td>0131bf9c-e7f4-45ac-8435-a07eee9f69ba</td>\n",
       "      <td>a, b, c, e, f</td>\n",
       "      <td>0</td>\n",
       "      <td>0</td>\n",
       "      <td>1</td>\n",
       "      <td>1</td>\n",
       "    </tr>\n",
       "    <tr>\n",
       "      <th>5</th>\n",
       "      <td>01b925fc-7b55-4e18-ad36-e8f1c0242608</td>\n",
       "      <td>a, c, b, d, f</td>\n",
       "      <td>0</td>\n",
       "      <td>0</td>\n",
       "      <td>1</td>\n",
       "      <td>0</td>\n",
       "    </tr>\n",
       "    <tr>\n",
       "      <th>6</th>\n",
       "      <td>01e84bd3-a6e0-40ab-b478-35271c007cd2</td>\n",
       "      <td>a, c, b, e, f</td>\n",
       "      <td>0</td>\n",
       "      <td>0</td>\n",
       "      <td>1</td>\n",
       "      <td>1</td>\n",
       "    </tr>\n",
       "    <tr>\n",
       "      <th>7</th>\n",
       "      <td>03027514-4850-4fcc-836b-d6ded96f7604</td>\n",
       "      <td>a, c, d, f</td>\n",
       "      <td>0</td>\n",
       "      <td>0</td>\n",
       "      <td>1</td>\n",
       "      <td>0</td>\n",
       "    </tr>\n",
       "    <tr>\n",
       "      <th>8</th>\n",
       "      <td>0653126e-3746-479f-821f-c7ffa28f968c</td>\n",
       "      <td>a, b, c, f</td>\n",
       "      <td>0</td>\n",
       "      <td>0</td>\n",
       "      <td>1</td>\n",
       "      <td>0</td>\n",
       "    </tr>\n",
       "    <tr>\n",
       "      <th>9</th>\n",
       "      <td>07ac2832-a4e5-4ce7-a3ea-eb3341b86a79</td>\n",
       "      <td>c, b, d, f</td>\n",
       "      <td>0</td>\n",
       "      <td>0</td>\n",
       "      <td>0</td>\n",
       "      <td>0</td>\n",
       "    </tr>\n",
       "  </tbody>\n",
       "</table>\n",
       "</div>"
      ],
      "text/plain": [
       "                                     id           variant  \\\n",
       "0  0040cb14-bbf7-4fc7-a345-b8c79aebf87c     a, b, c, d, f   \n",
       "1  006825a4-f9e8-4a92-8343-b0e593210c7b  a, b, c, x, e, f   \n",
       "2  00b06e7d-2c16-4808-a003-e690cdd173db  a, b, c, d, e, f   \n",
       "3  00d9a426-3496-43dc-be2d-069b04490b0d        a, b, c, d   \n",
       "4  0131bf9c-e7f4-45ac-8435-a07eee9f69ba     a, b, c, e, f   \n",
       "5  01b925fc-7b55-4e18-ad36-e8f1c0242608     a, c, b, d, f   \n",
       "6  01e84bd3-a6e0-40ab-b478-35271c007cd2     a, c, b, e, f   \n",
       "7  03027514-4850-4fcc-836b-d6ded96f7604        a, c, d, f   \n",
       "8  0653126e-3746-479f-821f-c7ffa28f968c        a, b, c, f   \n",
       "9  07ac2832-a4e5-4ce7-a3ea-eb3341b86a79        c, b, d, f   \n",
       "\n",
       "   always_after x TO f  always_after x TO e  always_after a TO c  \\\n",
       "0                    0                    0                    1   \n",
       "1                    1                    1                    1   \n",
       "2                    0                    0                    1   \n",
       "3                    0                    0                    1   \n",
       "4                    0                    0                    1   \n",
       "5                    0                    0                    1   \n",
       "6                    0                    0                    1   \n",
       "7                    0                    0                    1   \n",
       "8                    0                    0                    1   \n",
       "9                    0                    0                    0   \n",
       "\n",
       "   always_after e TO f  \n",
       "0                    0  \n",
       "1                    1  \n",
       "2                    1  \n",
       "3                    0  \n",
       "4                    1  \n",
       "5                    0  \n",
       "6                    1  \n",
       "7                    0  \n",
       "8                    0  \n",
       "9                    0  "
      ]
     },
     "execution_count": 406,
     "metadata": {},
     "output_type": "execute_result"
    }
   ],
   "source": [
    "\n",
    "\n",
    "pql = PQL()\n",
    "pql.add(PQLFilter(\"FILTER DOMAIN \\\"synthetic_event_log_xes_CASES\\\".\\\"Case ID\\\" IN ( '\"+ select_id +\"' )\"))\n",
    "\n",
    "pql.add(PQLColumn(name = \"id\",query = '\"'+table+'_CASES\".\"Case Id\"'))\n",
    "pql.add(PQLColumn(name='variant',query = 'VARIANT ( \"'+table+'\".\"concept:name\" ) '))\n",
    "\n",
    "\n",
    "def conformance_always_after(activities):\n",
    "\n",
    "    activities = list(activities)\n",
    "    a = str(activities[0])\n",
    "    b = str(activities[1])\n",
    "    \n",
    "    \n",
    "    return PQLColumn(\n",
    "        name=\"always_after \" + a + \" TO \" + b,\n",
    "        query=\"CASE WHEN PROCESS NOT EQUALS '\"\n",
    "        + a\n",
    "        + \"' THEN 0 WHEN PROCESS EQUALS '\"\n",
    "        + a\n",
    "        + \"' TO ANY TO '\"\n",
    "        + b\n",
    "        + \"' THEN 1 ELSE -1 END\"\n",
    "    )\n",
    "\n",
    "aa = model['always_after']\n",
    "for con in aa:\n",
    "    pql.add(conformance_always_after(con))\n",
    "\n",
    "    \n",
    "df = datamodel.get_data_frame(pql)\n",
    "df\n",
    "    "
   ]
  },
  {
   "cell_type": "markdown",
   "id": "c91089c1",
   "metadata": {},
   "source": [
    "ALWAYS BEFORE"
   ]
  },
  {
   "cell_type": "code",
   "execution_count": 315,
   "id": "64152ea8",
   "metadata": {
    "ExecuteTime": {
     "end_time": "2022-07-03T00:13:13.675200Z",
     "start_time": "2022-07-03T00:13:12.958446Z"
    }
   },
   "outputs": [
    {
     "name": "stdout",
     "output_type": "stream",
     "text": [
      "[2022-07-03 02:13:13] INFO: PQL Export started...\n",
      "[2022-07-03 02:13:13] INFO: PQL Export status: DONE\n"
     ]
    },
    {
     "data": {
      "text/html": [
       "<div>\n",
       "<style scoped>\n",
       "    .dataframe tbody tr th:only-of-type {\n",
       "        vertical-align: middle;\n",
       "    }\n",
       "\n",
       "    .dataframe tbody tr th {\n",
       "        vertical-align: top;\n",
       "    }\n",
       "\n",
       "    .dataframe thead th {\n",
       "        text-align: right;\n",
       "    }\n",
       "</style>\n",
       "<table border=\"1\" class=\"dataframe\">\n",
       "  <thead>\n",
       "    <tr style=\"text-align: right;\">\n",
       "      <th></th>\n",
       "      <th>id</th>\n",
       "      <th>variant</th>\n",
       "      <th>always_before f TO c</th>\n",
       "      <th>always_before e TO a</th>\n",
       "      <th>always_before e TO c</th>\n",
       "      <th>always_before e TO b</th>\n",
       "      <th>always_before x TO c</th>\n",
       "      <th>always_before d TO c</th>\n",
       "      <th>always_before x TO a</th>\n",
       "      <th>always_before x TO b</th>\n",
       "    </tr>\n",
       "  </thead>\n",
       "  <tbody>\n",
       "    <tr>\n",
       "      <th>0</th>\n",
       "      <td>0040cb14-bbf7-4fc7-a345-b8c79aebf87c</td>\n",
       "      <td>a, b, c, d, f</td>\n",
       "      <td>1</td>\n",
       "      <td>0</td>\n",
       "      <td>0</td>\n",
       "      <td>0</td>\n",
       "      <td>0</td>\n",
       "      <td>1</td>\n",
       "      <td>0</td>\n",
       "      <td>0</td>\n",
       "    </tr>\n",
       "    <tr>\n",
       "      <th>1</th>\n",
       "      <td>006825a4-f9e8-4a92-8343-b0e593210c7b</td>\n",
       "      <td>a, b, c, x, e, f</td>\n",
       "      <td>1</td>\n",
       "      <td>1</td>\n",
       "      <td>1</td>\n",
       "      <td>1</td>\n",
       "      <td>1</td>\n",
       "      <td>0</td>\n",
       "      <td>1</td>\n",
       "      <td>1</td>\n",
       "    </tr>\n",
       "    <tr>\n",
       "      <th>2</th>\n",
       "      <td>00b06e7d-2c16-4808-a003-e690cdd173db</td>\n",
       "      <td>a, b, c, d, e, f</td>\n",
       "      <td>1</td>\n",
       "      <td>1</td>\n",
       "      <td>1</td>\n",
       "      <td>1</td>\n",
       "      <td>0</td>\n",
       "      <td>1</td>\n",
       "      <td>0</td>\n",
       "      <td>0</td>\n",
       "    </tr>\n",
       "    <tr>\n",
       "      <th>3</th>\n",
       "      <td>00d9a426-3496-43dc-be2d-069b04490b0d</td>\n",
       "      <td>a, b, c, d</td>\n",
       "      <td>0</td>\n",
       "      <td>0</td>\n",
       "      <td>0</td>\n",
       "      <td>0</td>\n",
       "      <td>0</td>\n",
       "      <td>1</td>\n",
       "      <td>0</td>\n",
       "      <td>0</td>\n",
       "    </tr>\n",
       "    <tr>\n",
       "      <th>4</th>\n",
       "      <td>0131bf9c-e7f4-45ac-8435-a07eee9f69ba</td>\n",
       "      <td>a, b, c, e, f</td>\n",
       "      <td>1</td>\n",
       "      <td>1</td>\n",
       "      <td>1</td>\n",
       "      <td>1</td>\n",
       "      <td>0</td>\n",
       "      <td>0</td>\n",
       "      <td>0</td>\n",
       "      <td>0</td>\n",
       "    </tr>\n",
       "    <tr>\n",
       "      <th>5</th>\n",
       "      <td>01b925fc-7b55-4e18-ad36-e8f1c0242608</td>\n",
       "      <td>a, c, b, d, f</td>\n",
       "      <td>1</td>\n",
       "      <td>0</td>\n",
       "      <td>0</td>\n",
       "      <td>0</td>\n",
       "      <td>0</td>\n",
       "      <td>1</td>\n",
       "      <td>0</td>\n",
       "      <td>0</td>\n",
       "    </tr>\n",
       "    <tr>\n",
       "      <th>6</th>\n",
       "      <td>01e84bd3-a6e0-40ab-b478-35271c007cd2</td>\n",
       "      <td>a, c, b, e, f</td>\n",
       "      <td>1</td>\n",
       "      <td>1</td>\n",
       "      <td>1</td>\n",
       "      <td>1</td>\n",
       "      <td>0</td>\n",
       "      <td>0</td>\n",
       "      <td>0</td>\n",
       "      <td>0</td>\n",
       "    </tr>\n",
       "    <tr>\n",
       "      <th>7</th>\n",
       "      <td>03027514-4850-4fcc-836b-d6ded96f7604</td>\n",
       "      <td>a, c, d, f</td>\n",
       "      <td>1</td>\n",
       "      <td>0</td>\n",
       "      <td>0</td>\n",
       "      <td>0</td>\n",
       "      <td>0</td>\n",
       "      <td>1</td>\n",
       "      <td>0</td>\n",
       "      <td>0</td>\n",
       "    </tr>\n",
       "    <tr>\n",
       "      <th>8</th>\n",
       "      <td>0653126e-3746-479f-821f-c7ffa28f968c</td>\n",
       "      <td>a, b, c, f</td>\n",
       "      <td>1</td>\n",
       "      <td>0</td>\n",
       "      <td>0</td>\n",
       "      <td>0</td>\n",
       "      <td>0</td>\n",
       "      <td>0</td>\n",
       "      <td>0</td>\n",
       "      <td>0</td>\n",
       "    </tr>\n",
       "    <tr>\n",
       "      <th>9</th>\n",
       "      <td>07ac2832-a4e5-4ce7-a3ea-eb3341b86a79</td>\n",
       "      <td>c, b, d, f</td>\n",
       "      <td>1</td>\n",
       "      <td>0</td>\n",
       "      <td>0</td>\n",
       "      <td>0</td>\n",
       "      <td>0</td>\n",
       "      <td>1</td>\n",
       "      <td>0</td>\n",
       "      <td>0</td>\n",
       "    </tr>\n",
       "  </tbody>\n",
       "</table>\n",
       "</div>"
      ],
      "text/plain": [
       "                                     id           variant  \\\n",
       "0  0040cb14-bbf7-4fc7-a345-b8c79aebf87c     a, b, c, d, f   \n",
       "1  006825a4-f9e8-4a92-8343-b0e593210c7b  a, b, c, x, e, f   \n",
       "2  00b06e7d-2c16-4808-a003-e690cdd173db  a, b, c, d, e, f   \n",
       "3  00d9a426-3496-43dc-be2d-069b04490b0d        a, b, c, d   \n",
       "4  0131bf9c-e7f4-45ac-8435-a07eee9f69ba     a, b, c, e, f   \n",
       "5  01b925fc-7b55-4e18-ad36-e8f1c0242608     a, c, b, d, f   \n",
       "6  01e84bd3-a6e0-40ab-b478-35271c007cd2     a, c, b, e, f   \n",
       "7  03027514-4850-4fcc-836b-d6ded96f7604        a, c, d, f   \n",
       "8  0653126e-3746-479f-821f-c7ffa28f968c        a, b, c, f   \n",
       "9  07ac2832-a4e5-4ce7-a3ea-eb3341b86a79        c, b, d, f   \n",
       "\n",
       "   always_before f TO c  always_before e TO a  always_before e TO c  \\\n",
       "0                     1                     0                     0   \n",
       "1                     1                     1                     1   \n",
       "2                     1                     1                     1   \n",
       "3                     0                     0                     0   \n",
       "4                     1                     1                     1   \n",
       "5                     1                     0                     0   \n",
       "6                     1                     1                     1   \n",
       "7                     1                     0                     0   \n",
       "8                     1                     0                     0   \n",
       "9                     1                     0                     0   \n",
       "\n",
       "   always_before e TO b  always_before x TO c  always_before d TO c  \\\n",
       "0                     0                     0                     1   \n",
       "1                     1                     1                     0   \n",
       "2                     1                     0                     1   \n",
       "3                     0                     0                     1   \n",
       "4                     1                     0                     0   \n",
       "5                     0                     0                     1   \n",
       "6                     1                     0                     0   \n",
       "7                     0                     0                     1   \n",
       "8                     0                     0                     0   \n",
       "9                     0                     0                     1   \n",
       "\n",
       "   always_before x TO a  always_before x TO b  \n",
       "0                     0                     0  \n",
       "1                     1                     1  \n",
       "2                     0                     0  \n",
       "3                     0                     0  \n",
       "4                     0                     0  \n",
       "5                     0                     0  \n",
       "6                     0                     0  \n",
       "7                     0                     0  \n",
       "8                     0                     0  \n",
       "9                     0                     0  "
      ]
     },
     "execution_count": 315,
     "metadata": {},
     "output_type": "execute_result"
    }
   ],
   "source": [
    "\n",
    "pql = PQL()\n",
    "pql.add(PQLFilter(\"FILTER DOMAIN \\\"synthetic_event_log_xes_CASES\\\".\\\"Case ID\\\" IN ( '\"+ select_id +\"' )\"))\n",
    "\n",
    "pql.add(PQLColumn(name = \"id\",query = '\"'+table+'_CASES\".\"Case Id\"'))\n",
    "pql.add(PQLColumn(name='variant',query = 'VARIANT ( \"'+table+'\".\"concept:name\" ) '))\n",
    "\n",
    "\n",
    "def conformance_always_before(activities):\n",
    "    activities = list(activities)\n",
    "    a = str(activities[0])\n",
    "    b = str(activities[1])\n",
    "\n",
    "    return PQLColumn(\n",
    "        name=\"always_before \" + a + \" TO \" + b,\n",
    "        query=\"CASE WHEN PROCESS NOT EQUALS '\"\n",
    "              + a\n",
    "              + \"' THEN 0 WHEN PROCESS EQUALS '\"\n",
    "              + b\n",
    "              + \"' TO ANY TO '\"\n",
    "              + a\n",
    "              + \"' THEN 1 ELSE -1 END\"\n",
    "    )\n",
    "\n",
    "aa = model['always_before']\n",
    "for con in aa:\n",
    "    pql.add(conformance_always_before(con))\n",
    "\n",
    "    \n",
    "df = datamodel.get_data_frame(pql)\n",
    "df\n",
    "    \n"
   ]
  },
  {
   "cell_type": "markdown",
   "id": "1c2e1b39",
   "metadata": {},
   "source": [
    "NEVER TOGETHER"
   ]
  },
  {
   "cell_type": "code",
   "execution_count": 310,
   "id": "01433ce2",
   "metadata": {
    "ExecuteTime": {
     "end_time": "2022-07-03T00:10:07.537622Z",
     "start_time": "2022-07-03T00:10:07.531805Z"
    }
   },
   "outputs": [
    {
     "name": "stdout",
     "output_type": "stream",
     "text": [
      "{('x', 'd'), ('d', 'x')}\n"
     ]
    }
   ],
   "source": [
    "print(model['never_together'])"
   ]
  },
  {
   "cell_type": "code",
   "execution_count": 409,
   "id": "1969f311",
   "metadata": {
    "ExecuteTime": {
     "end_time": "2022-07-03T02:57:53.833551Z",
     "start_time": "2022-07-03T02:57:53.792036Z"
    }
   },
   "outputs": [
    {
     "ename": "TypeError",
     "evalue": "conformance_never_together() missing 1 required positional argument: 'table'",
     "output_type": "error",
     "traceback": [
      "\u001b[0;31m---------------------------------------------------------------------------\u001b[0m",
      "\u001b[0;31mTypeError\u001b[0m                                 Traceback (most recent call last)",
      "Input \u001b[0;32mIn [409]\u001b[0m, in \u001b[0;36m<cell line: 31>\u001b[0;34m()\u001b[0m\n\u001b[1;32m     30\u001b[0m aa \u001b[38;5;241m=\u001b[39m model[\u001b[38;5;124m\"\u001b[39m\u001b[38;5;124mnever_together\u001b[39m\u001b[38;5;124m\"\u001b[39m]\n\u001b[1;32m     31\u001b[0m \u001b[38;5;28;01mfor\u001b[39;00m con \u001b[38;5;129;01min\u001b[39;00m aa:\n\u001b[0;32m---> 32\u001b[0m     pql\u001b[38;5;241m.\u001b[39madd(\u001b[43mconformance_never_together\u001b[49m\u001b[43m(\u001b[49m\u001b[43mcon\u001b[49m\u001b[43m)\u001b[49m)\n\u001b[1;32m     34\u001b[0m df \u001b[38;5;241m=\u001b[39m datamodel\u001b[38;5;241m.\u001b[39mget_data_frame(pql)\n\u001b[1;32m     35\u001b[0m df\n",
      "\u001b[0;31mTypeError\u001b[0m: conformance_never_together() missing 1 required positional argument: 'table'"
     ]
    }
   ],
   "source": [
    "\n",
    "pql = PQL()\n",
    "pql.add(PQLFilter(\"FILTER DOMAIN \\\"synthetic_event_log_xes_CASES\\\".\\\"Case ID\\\" IN ( '\"+ select_id +\"' )\"))\n",
    "\n",
    "pql.add(PQLColumn(name = \"id\",query = '\"'+table+'_CASES\".\"Case Id\"'))\n",
    "pql.add(PQLColumn(name='variant',query = 'VARIANT ( \"'+table+'\".\"concept:name\" ) '))\n",
    "\n",
    "\n",
    "def conformance_never_together(activities,table):\n",
    "    activities = list(activities)\n",
    "    a = str(activities[0])\n",
    "    b = str(activities[1])\n",
    "    query = (\n",
    "        \"CASE WHEN PROCESS NOT EQUALS '\"\n",
    "        + a\n",
    "        + \"'THEN 0 WHEN MATCH_ACTIVITIES(\\\"\"\n",
    "        + table\n",
    "        + '\".\"concept:name\", NODE[\\''\n",
    "        + a\n",
    "        + \"'],EXCLUDING['\"\n",
    "        + b\n",
    "        + \"']) = 1 THEN 1 ELSE -1 END\"\n",
    "    )\n",
    "\n",
    "    return PQLColumn(\n",
    "        name=\"never_together \" + a + \" TO \" + b,\n",
    "        query=query\n",
    "    )\n",
    "    \n",
    "    \n",
    "aa = model[\"never_together\"]\n",
    "for con in aa:\n",
    "    pql.add(conformance_never_together(con))\n",
    "\n",
    "df = datamodel.get_data_frame(pql)\n",
    "df"
   ]
  },
  {
   "cell_type": "markdown",
   "id": "06acd28c",
   "metadata": {
    "ExecuteTime": {
     "end_time": "2022-07-03T00:39:18.589806Z",
     "start_time": "2022-07-03T00:39:18.563407Z"
    }
   },
   "source": [
    "DIRECTLY FOLLOW"
   ]
  },
  {
   "cell_type": "code",
   "execution_count": 335,
   "id": "9a9080b3",
   "metadata": {
    "ExecuteTime": {
     "end_time": "2022-07-03T00:45:50.257387Z",
     "start_time": "2022-07-03T00:45:50.245436Z"
    }
   },
   "outputs": [
    {
     "data": {
      "text/plain": [
       "dict_keys(['equivalence', 'always_after', 'always_before', 'never_together', 'directly_follows', 'activ_freq'])"
      ]
     },
     "execution_count": 335,
     "metadata": {},
     "output_type": "execute_result"
    }
   ],
   "source": [
    "model.keys()"
   ]
  },
  {
   "cell_type": "code",
   "execution_count": 340,
   "id": "30bf50a8",
   "metadata": {
    "ExecuteTime": {
     "end_time": "2022-07-03T00:48:01.354629Z",
     "start_time": "2022-07-03T00:48:00.304084Z"
    },
    "collapsed": true
   },
   "outputs": [
    {
     "name": "stdout",
     "output_type": "stream",
     "text": [
      "[2022-07-03 02:48:00] INFO: PQL Export started...\n",
      "[2022-07-03 02:48:01] INFO: PQL Export status: DONE\n"
     ]
    },
    {
     "data": {
      "text/html": [
       "<div>\n",
       "<style scoped>\n",
       "    .dataframe tbody tr th:only-of-type {\n",
       "        vertical-align: middle;\n",
       "    }\n",
       "\n",
       "    .dataframe tbody tr th {\n",
       "        vertical-align: top;\n",
       "    }\n",
       "\n",
       "    .dataframe thead th {\n",
       "        text-align: right;\n",
       "    }\n",
       "</style>\n",
       "<table border=\"1\" class=\"dataframe\">\n",
       "  <thead>\n",
       "    <tr style=\"text-align: right;\">\n",
       "      <th></th>\n",
       "      <th>id</th>\n",
       "      <th>variant</th>\n",
       "      <th>directly_follow x TO e</th>\n",
       "      <th>directly_follow e TO f</th>\n",
       "    </tr>\n",
       "  </thead>\n",
       "  <tbody>\n",
       "    <tr>\n",
       "      <th>0</th>\n",
       "      <td>0040cb14-bbf7-4fc7-a345-b8c79aebf87c</td>\n",
       "      <td>a, b, c, d, f</td>\n",
       "      <td>0</td>\n",
       "      <td>0</td>\n",
       "    </tr>\n",
       "    <tr>\n",
       "      <th>1</th>\n",
       "      <td>006825a4-f9e8-4a92-8343-b0e593210c7b</td>\n",
       "      <td>a, b, c, x, e, f</td>\n",
       "      <td>1</td>\n",
       "      <td>1</td>\n",
       "    </tr>\n",
       "    <tr>\n",
       "      <th>2</th>\n",
       "      <td>00b06e7d-2c16-4808-a003-e690cdd173db</td>\n",
       "      <td>a, b, c, d, e, f</td>\n",
       "      <td>0</td>\n",
       "      <td>1</td>\n",
       "    </tr>\n",
       "    <tr>\n",
       "      <th>3</th>\n",
       "      <td>00d9a426-3496-43dc-be2d-069b04490b0d</td>\n",
       "      <td>a, b, c, d</td>\n",
       "      <td>0</td>\n",
       "      <td>0</td>\n",
       "    </tr>\n",
       "    <tr>\n",
       "      <th>4</th>\n",
       "      <td>0131bf9c-e7f4-45ac-8435-a07eee9f69ba</td>\n",
       "      <td>a, b, c, e, f</td>\n",
       "      <td>0</td>\n",
       "      <td>1</td>\n",
       "    </tr>\n",
       "    <tr>\n",
       "      <th>5</th>\n",
       "      <td>01b925fc-7b55-4e18-ad36-e8f1c0242608</td>\n",
       "      <td>a, c, b, d, f</td>\n",
       "      <td>0</td>\n",
       "      <td>0</td>\n",
       "    </tr>\n",
       "    <tr>\n",
       "      <th>6</th>\n",
       "      <td>01e84bd3-a6e0-40ab-b478-35271c007cd2</td>\n",
       "      <td>a, c, b, e, f</td>\n",
       "      <td>0</td>\n",
       "      <td>1</td>\n",
       "    </tr>\n",
       "    <tr>\n",
       "      <th>7</th>\n",
       "      <td>03027514-4850-4fcc-836b-d6ded96f7604</td>\n",
       "      <td>a, c, d, f</td>\n",
       "      <td>0</td>\n",
       "      <td>0</td>\n",
       "    </tr>\n",
       "    <tr>\n",
       "      <th>8</th>\n",
       "      <td>0653126e-3746-479f-821f-c7ffa28f968c</td>\n",
       "      <td>a, b, c, f</td>\n",
       "      <td>0</td>\n",
       "      <td>0</td>\n",
       "    </tr>\n",
       "    <tr>\n",
       "      <th>9</th>\n",
       "      <td>07ac2832-a4e5-4ce7-a3ea-eb3341b86a79</td>\n",
       "      <td>c, b, d, f</td>\n",
       "      <td>0</td>\n",
       "      <td>0</td>\n",
       "    </tr>\n",
       "  </tbody>\n",
       "</table>\n",
       "</div>"
      ],
      "text/plain": [
       "                                     id           variant  \\\n",
       "0  0040cb14-bbf7-4fc7-a345-b8c79aebf87c     a, b, c, d, f   \n",
       "1  006825a4-f9e8-4a92-8343-b0e593210c7b  a, b, c, x, e, f   \n",
       "2  00b06e7d-2c16-4808-a003-e690cdd173db  a, b, c, d, e, f   \n",
       "3  00d9a426-3496-43dc-be2d-069b04490b0d        a, b, c, d   \n",
       "4  0131bf9c-e7f4-45ac-8435-a07eee9f69ba     a, b, c, e, f   \n",
       "5  01b925fc-7b55-4e18-ad36-e8f1c0242608     a, c, b, d, f   \n",
       "6  01e84bd3-a6e0-40ab-b478-35271c007cd2     a, c, b, e, f   \n",
       "7  03027514-4850-4fcc-836b-d6ded96f7604        a, c, d, f   \n",
       "8  0653126e-3746-479f-821f-c7ffa28f968c        a, b, c, f   \n",
       "9  07ac2832-a4e5-4ce7-a3ea-eb3341b86a79        c, b, d, f   \n",
       "\n",
       "   directly_follow x TO e  directly_follow e TO f  \n",
       "0                       0                       0  \n",
       "1                       1                       1  \n",
       "2                       0                       1  \n",
       "3                       0                       0  \n",
       "4                       0                       1  \n",
       "5                       0                       0  \n",
       "6                       0                       1  \n",
       "7                       0                       0  \n",
       "8                       0                       0  \n",
       "9                       0                       0  "
      ]
     },
     "execution_count": 340,
     "metadata": {},
     "output_type": "execute_result"
    }
   ],
   "source": [
    "\n",
    "pql = PQL()\n",
    "pql.add(PQLFilter(\"FILTER DOMAIN \\\"synthetic_event_log_xes_CASES\\\".\\\"Case ID\\\" IN ( '\"+ select_id +\"' )\"))\n",
    "\n",
    "pql.add(PQLColumn(name = \"id\",query = '\"'+table+'_CASES\".\"Case Id\"'))\n",
    "pql.add(PQLColumn(name='variant',query = 'VARIANT ( \"'+table+'\".\"concept:name\" ) '))\n",
    "\n",
    "\n",
    "def conformance_directly_follow(activities):\n",
    "    activities = list(activities)\n",
    "    a = str(activities[0])\n",
    "    b = str(activities[1])\n",
    "    query = (\n",
    "        \"CASE WHEN PROCESS NOT EQUALS '\"\n",
    "        + a\n",
    "        + \"' THEN 0 WHEN PROCESS EQUALS '\"\n",
    "        + a\n",
    "        + \"' TO '\"\n",
    "        + b\n",
    "        + \"' THEN 1 ELSE -1 END\"\n",
    "    )\n",
    "    return PQLColumn(name=\"directly_follow \" + a + \" TO \" + b, query=query)\n",
    "\n",
    "\n",
    "aa = model[\"directly_follows\"]\n",
    "for con in aa:\n",
    "    pql.add(conformance_directly_follows(con))\n",
    "\n",
    "df = datamodel.get_data_frame(pql)\n",
    "df"
   ]
  },
  {
   "cell_type": "markdown",
   "id": "7b8dcca7",
   "metadata": {},
   "source": [
    "equivalence"
   ]
  },
  {
   "cell_type": "code",
   "execution_count": null,
   "id": "2537b9f8",
   "metadata": {},
   "outputs": [],
   "source": []
  },
  {
   "cell_type": "code",
   "execution_count": 346,
   "id": "57862be8",
   "metadata": {
    "ExecuteTime": {
     "end_time": "2022-07-03T01:12:06.194161Z",
     "start_time": "2022-07-03T01:12:06.187940Z"
    }
   },
   "outputs": [
    {
     "data": {
      "text/plain": [
       "{('a', 'c'),\n",
       " ('b', 'c'),\n",
       " ('d', 'c'),\n",
       " ('e', 'a'),\n",
       " ('e', 'b'),\n",
       " ('e', 'c'),\n",
       " ('e', 'f'),\n",
       " ('f', 'c'),\n",
       " ('x', 'a'),\n",
       " ('x', 'b'),\n",
       " ('x', 'c'),\n",
       " ('x', 'e'),\n",
       " ('x', 'f')}"
      ]
     },
     "execution_count": 346,
     "metadata": {},
     "output_type": "execute_result"
    }
   ],
   "source": [
    "model['equivalence']"
   ]
  },
  {
   "cell_type": "code",
   "execution_count": 352,
   "id": "aec2e6b0",
   "metadata": {
    "ExecuteTime": {
     "end_time": "2022-07-03T01:17:05.675008Z",
     "start_time": "2022-07-03T01:17:03.389434Z"
    },
    "collapsed": true
   },
   "outputs": [
    {
     "name": "stdout",
     "output_type": "stream",
     "text": [
      "[2022-07-03 03:17:03] INFO: PQL Export started...\n",
      "[2022-07-03 03:17:05] INFO: PQL Export status: DONE\n"
     ]
    },
    {
     "data": {
      "text/html": [
       "<div>\n",
       "<style scoped>\n",
       "    .dataframe tbody tr th:only-of-type {\n",
       "        vertical-align: middle;\n",
       "    }\n",
       "\n",
       "    .dataframe tbody tr th {\n",
       "        vertical-align: top;\n",
       "    }\n",
       "\n",
       "    .dataframe thead th {\n",
       "        text-align: right;\n",
       "    }\n",
       "</style>\n",
       "<table border=\"1\" class=\"dataframe\">\n",
       "  <thead>\n",
       "    <tr style=\"text-align: right;\">\n",
       "      <th></th>\n",
       "      <th>id</th>\n",
       "      <th>variant</th>\n",
       "      <th>equivalence x TO e</th>\n",
       "      <th>equivalence f TO c</th>\n",
       "      <th>equivalence b TO c</th>\n",
       "      <th>equivalence e TO f</th>\n",
       "      <th>equivalence e TO a</th>\n",
       "      <th>equivalence e TO c</th>\n",
       "      <th>equivalence e TO b</th>\n",
       "      <th>equivalence x TO f</th>\n",
       "      <th>equivalence a TO c</th>\n",
       "      <th>equivalence x TO c</th>\n",
       "      <th>equivalence d TO c</th>\n",
       "      <th>equivalence x TO a</th>\n",
       "      <th>equivalence x TO b</th>\n",
       "    </tr>\n",
       "  </thead>\n",
       "  <tbody>\n",
       "    <tr>\n",
       "      <th>0</th>\n",
       "      <td>0040cb14-bbf7-4fc7-a345-b8c79aebf87c</td>\n",
       "      <td>a, b, c, d, f</td>\n",
       "      <td>0</td>\n",
       "      <td>1</td>\n",
       "      <td>1</td>\n",
       "      <td>0</td>\n",
       "      <td>0</td>\n",
       "      <td>0</td>\n",
       "      <td>0</td>\n",
       "      <td>0</td>\n",
       "      <td>1</td>\n",
       "      <td>0</td>\n",
       "      <td>1</td>\n",
       "      <td>0</td>\n",
       "      <td>0</td>\n",
       "    </tr>\n",
       "    <tr>\n",
       "      <th>1</th>\n",
       "      <td>006825a4-f9e8-4a92-8343-b0e593210c7b</td>\n",
       "      <td>a, b, c, x, e, f</td>\n",
       "      <td>1</td>\n",
       "      <td>1</td>\n",
       "      <td>1</td>\n",
       "      <td>1</td>\n",
       "      <td>1</td>\n",
       "      <td>1</td>\n",
       "      <td>1</td>\n",
       "      <td>1</td>\n",
       "      <td>1</td>\n",
       "      <td>1</td>\n",
       "      <td>0</td>\n",
       "      <td>1</td>\n",
       "      <td>1</td>\n",
       "    </tr>\n",
       "    <tr>\n",
       "      <th>2</th>\n",
       "      <td>00b06e7d-2c16-4808-a003-e690cdd173db</td>\n",
       "      <td>a, b, c, d, e, f</td>\n",
       "      <td>0</td>\n",
       "      <td>1</td>\n",
       "      <td>1</td>\n",
       "      <td>1</td>\n",
       "      <td>1</td>\n",
       "      <td>1</td>\n",
       "      <td>1</td>\n",
       "      <td>0</td>\n",
       "      <td>1</td>\n",
       "      <td>0</td>\n",
       "      <td>1</td>\n",
       "      <td>0</td>\n",
       "      <td>0</td>\n",
       "    </tr>\n",
       "    <tr>\n",
       "      <th>3</th>\n",
       "      <td>00d9a426-3496-43dc-be2d-069b04490b0d</td>\n",
       "      <td>a, b, c, d</td>\n",
       "      <td>0</td>\n",
       "      <td>0</td>\n",
       "      <td>1</td>\n",
       "      <td>0</td>\n",
       "      <td>0</td>\n",
       "      <td>0</td>\n",
       "      <td>0</td>\n",
       "      <td>0</td>\n",
       "      <td>1</td>\n",
       "      <td>0</td>\n",
       "      <td>1</td>\n",
       "      <td>0</td>\n",
       "      <td>0</td>\n",
       "    </tr>\n",
       "    <tr>\n",
       "      <th>4</th>\n",
       "      <td>0131bf9c-e7f4-45ac-8435-a07eee9f69ba</td>\n",
       "      <td>a, b, c, e, f</td>\n",
       "      <td>0</td>\n",
       "      <td>1</td>\n",
       "      <td>1</td>\n",
       "      <td>1</td>\n",
       "      <td>1</td>\n",
       "      <td>1</td>\n",
       "      <td>1</td>\n",
       "      <td>0</td>\n",
       "      <td>1</td>\n",
       "      <td>0</td>\n",
       "      <td>0</td>\n",
       "      <td>0</td>\n",
       "      <td>0</td>\n",
       "    </tr>\n",
       "    <tr>\n",
       "      <th>5</th>\n",
       "      <td>01b925fc-7b55-4e18-ad36-e8f1c0242608</td>\n",
       "      <td>a, c, b, d, f</td>\n",
       "      <td>0</td>\n",
       "      <td>1</td>\n",
       "      <td>1</td>\n",
       "      <td>0</td>\n",
       "      <td>0</td>\n",
       "      <td>0</td>\n",
       "      <td>0</td>\n",
       "      <td>0</td>\n",
       "      <td>1</td>\n",
       "      <td>0</td>\n",
       "      <td>1</td>\n",
       "      <td>0</td>\n",
       "      <td>0</td>\n",
       "    </tr>\n",
       "    <tr>\n",
       "      <th>6</th>\n",
       "      <td>01e84bd3-a6e0-40ab-b478-35271c007cd2</td>\n",
       "      <td>a, c, b, e, f</td>\n",
       "      <td>0</td>\n",
       "      <td>1</td>\n",
       "      <td>1</td>\n",
       "      <td>1</td>\n",
       "      <td>1</td>\n",
       "      <td>1</td>\n",
       "      <td>1</td>\n",
       "      <td>0</td>\n",
       "      <td>1</td>\n",
       "      <td>0</td>\n",
       "      <td>0</td>\n",
       "      <td>0</td>\n",
       "      <td>0</td>\n",
       "    </tr>\n",
       "    <tr>\n",
       "      <th>7</th>\n",
       "      <td>03027514-4850-4fcc-836b-d6ded96f7604</td>\n",
       "      <td>a, c, d, f</td>\n",
       "      <td>0</td>\n",
       "      <td>1</td>\n",
       "      <td>0</td>\n",
       "      <td>0</td>\n",
       "      <td>0</td>\n",
       "      <td>0</td>\n",
       "      <td>0</td>\n",
       "      <td>0</td>\n",
       "      <td>1</td>\n",
       "      <td>0</td>\n",
       "      <td>1</td>\n",
       "      <td>0</td>\n",
       "      <td>0</td>\n",
       "    </tr>\n",
       "    <tr>\n",
       "      <th>8</th>\n",
       "      <td>0653126e-3746-479f-821f-c7ffa28f968c</td>\n",
       "      <td>a, b, c, f</td>\n",
       "      <td>0</td>\n",
       "      <td>1</td>\n",
       "      <td>1</td>\n",
       "      <td>0</td>\n",
       "      <td>0</td>\n",
       "      <td>0</td>\n",
       "      <td>0</td>\n",
       "      <td>0</td>\n",
       "      <td>1</td>\n",
       "      <td>0</td>\n",
       "      <td>0</td>\n",
       "      <td>0</td>\n",
       "      <td>0</td>\n",
       "    </tr>\n",
       "    <tr>\n",
       "      <th>9</th>\n",
       "      <td>07ac2832-a4e5-4ce7-a3ea-eb3341b86a79</td>\n",
       "      <td>c, b, d, f</td>\n",
       "      <td>0</td>\n",
       "      <td>1</td>\n",
       "      <td>1</td>\n",
       "      <td>0</td>\n",
       "      <td>0</td>\n",
       "      <td>0</td>\n",
       "      <td>0</td>\n",
       "      <td>0</td>\n",
       "      <td>0</td>\n",
       "      <td>0</td>\n",
       "      <td>1</td>\n",
       "      <td>0</td>\n",
       "      <td>0</td>\n",
       "    </tr>\n",
       "  </tbody>\n",
       "</table>\n",
       "</div>"
      ],
      "text/plain": [
       "                                     id           variant  equivalence x TO e  \\\n",
       "0  0040cb14-bbf7-4fc7-a345-b8c79aebf87c     a, b, c, d, f                   0   \n",
       "1  006825a4-f9e8-4a92-8343-b0e593210c7b  a, b, c, x, e, f                   1   \n",
       "2  00b06e7d-2c16-4808-a003-e690cdd173db  a, b, c, d, e, f                   0   \n",
       "3  00d9a426-3496-43dc-be2d-069b04490b0d        a, b, c, d                   0   \n",
       "4  0131bf9c-e7f4-45ac-8435-a07eee9f69ba     a, b, c, e, f                   0   \n",
       "5  01b925fc-7b55-4e18-ad36-e8f1c0242608     a, c, b, d, f                   0   \n",
       "6  01e84bd3-a6e0-40ab-b478-35271c007cd2     a, c, b, e, f                   0   \n",
       "7  03027514-4850-4fcc-836b-d6ded96f7604        a, c, d, f                   0   \n",
       "8  0653126e-3746-479f-821f-c7ffa28f968c        a, b, c, f                   0   \n",
       "9  07ac2832-a4e5-4ce7-a3ea-eb3341b86a79        c, b, d, f                   0   \n",
       "\n",
       "   equivalence f TO c  equivalence b TO c  equivalence e TO f  \\\n",
       "0                   1                   1                   0   \n",
       "1                   1                   1                   1   \n",
       "2                   1                   1                   1   \n",
       "3                   0                   1                   0   \n",
       "4                   1                   1                   1   \n",
       "5                   1                   1                   0   \n",
       "6                   1                   1                   1   \n",
       "7                   1                   0                   0   \n",
       "8                   1                   1                   0   \n",
       "9                   1                   1                   0   \n",
       "\n",
       "   equivalence e TO a  equivalence e TO c  equivalence e TO b  \\\n",
       "0                   0                   0                   0   \n",
       "1                   1                   1                   1   \n",
       "2                   1                   1                   1   \n",
       "3                   0                   0                   0   \n",
       "4                   1                   1                   1   \n",
       "5                   0                   0                   0   \n",
       "6                   1                   1                   1   \n",
       "7                   0                   0                   0   \n",
       "8                   0                   0                   0   \n",
       "9                   0                   0                   0   \n",
       "\n",
       "   equivalence x TO f  equivalence a TO c  equivalence x TO c  \\\n",
       "0                   0                   1                   0   \n",
       "1                   1                   1                   1   \n",
       "2                   0                   1                   0   \n",
       "3                   0                   1                   0   \n",
       "4                   0                   1                   0   \n",
       "5                   0                   1                   0   \n",
       "6                   0                   1                   0   \n",
       "7                   0                   1                   0   \n",
       "8                   0                   1                   0   \n",
       "9                   0                   0                   0   \n",
       "\n",
       "   equivalence d TO c  equivalence x TO a  equivalence x TO b  \n",
       "0                   1                   0                   0  \n",
       "1                   0                   1                   1  \n",
       "2                   1                   0                   0  \n",
       "3                   1                   0                   0  \n",
       "4                   0                   0                   0  \n",
       "5                   1                   0                   0  \n",
       "6                   0                   0                   0  \n",
       "7                   1                   0                   0  \n",
       "8                   0                   0                   0  \n",
       "9                   1                   0                   0  "
      ]
     },
     "execution_count": 352,
     "metadata": {},
     "output_type": "execute_result"
    }
   ],
   "source": [
    "\n",
    "pql = PQL()\n",
    "pql.add(PQLFilter(\"FILTER DOMAIN \\\"synthetic_event_log_xes_CASES\\\".\\\"Case ID\\\" IN ( '\"+ select_id +\"' )\"))\n",
    "\n",
    "pql.add(PQLColumn(name = \"id\",query = '\"'+table+'_CASES\".\"Case Id\"'))\n",
    "pql.add(PQLColumn(name='variant',query = 'VARIANT ( \"'+table+'\".\"concept:name\" ) '))\n",
    "def conformance_equivalence(activities,table):\n",
    "    activities = list(activities)\n",
    "    a = str(activities[0])\n",
    "    b = str(activities[1])\n",
    "    \n",
    "    def sum_query(a):\n",
    "        return (\n",
    "            'SUM( CASE WHEN \"'\n",
    "            + table\n",
    "            + '\".\"concept:name\" = \\''\n",
    "            + a\n",
    "            + \"' THEN 1 ELSE 0 END)\"\n",
    "        )\n",
    "    query = (\n",
    "        \"CASE WHEN \"\n",
    "        + sum_query(a)\n",
    "        + \"  = 0 \"\n",
    "        + \"THEN 0 WHEN \"\n",
    "        + sum_query(a)\n",
    "        + \" = \"\n",
    "        + sum_query(b)\n",
    "        \n",
    "        + \"THEN 1 ELSE -1 END\"\n",
    "    )\n",
    "    col_name = \"equivalence \" + a + \" TO \" + b\n",
    "    return (PQLColumn(name= col_name, query=query))\n",
    "    \n",
    "aa = model[\"equivalence\"]\n",
    "for con in aa:\n",
    "    pql.add(conformance_equivalence(con,table))\n",
    "\n",
    "df = datamodel.get_data_frame(pql)\n",
    "df "
   ]
  },
  {
   "cell_type": "markdown",
   "id": "2dac099b",
   "metadata": {},
   "source": [
    "frequency"
   ]
  },
  {
   "cell_type": "code",
   "execution_count": 358,
   "id": "de853150",
   "metadata": {
    "ExecuteTime": {
     "end_time": "2022-07-03T01:54:38.071188Z",
     "start_time": "2022-07-03T01:54:38.066104Z"
    }
   },
   "outputs": [
    {
     "data": {
      "text/plain": [
       "\"a','b','c','e','f','d','x\""
      ]
     },
     "execution_count": 358,
     "metadata": {},
     "output_type": "execute_result"
    }
   ],
   "source": [
    "\"','\".join(list(model['activ_freq'].keys()))"
   ]
  },
  {
   "cell_type": "code",
   "execution_count": 356,
   "id": "f842f7e0",
   "metadata": {
    "ExecuteTime": {
     "end_time": "2022-07-03T01:46:56.833708Z",
     "start_time": "2022-07-03T01:46:56.826908Z"
    }
   },
   "outputs": [
    {
     "data": {
      "text/plain": [
       "{'a', 'b', 'c', 'd', 'e', 'f', 'x'}"
      ]
     },
     "execution_count": 356,
     "metadata": {},
     "output_type": "execute_result"
    }
   ],
   "source": [
    "activities\n"
   ]
  },
  {
   "cell_type": "code",
   "execution_count": 399,
   "id": "cac5565c",
   "metadata": {
    "ExecuteTime": {
     "end_time": "2022-07-03T02:46:54.465591Z",
     "start_time": "2022-07-03T02:46:53.566302Z"
    }
   },
   "outputs": [
    {
     "name": "stdout",
     "output_type": "stream",
     "text": [
      "('a','b','c','e','f','d','x')\n",
      "[2022-07-03 04:46:53] INFO: PQL Export started...\n",
      "[2022-07-03 04:46:54] INFO: PQL Export status: DONE\n"
     ]
    },
    {
     "data": {
      "text/html": [
       "<div>\n",
       "<style scoped>\n",
       "    .dataframe tbody tr th:only-of-type {\n",
       "        vertical-align: middle;\n",
       "    }\n",
       "\n",
       "    .dataframe tbody tr th {\n",
       "        vertical-align: top;\n",
       "    }\n",
       "\n",
       "    .dataframe thead th {\n",
       "        text-align: right;\n",
       "    }\n",
       "</style>\n",
       "<table border=\"1\" class=\"dataframe\">\n",
       "  <thead>\n",
       "    <tr style=\"text-align: right;\">\n",
       "      <th></th>\n",
       "      <th>id</th>\n",
       "      <th>variant</th>\n",
       "      <th>not_in_model</th>\n",
       "      <th>a_(0,1)</th>\n",
       "      <th>b_(0,1)</th>\n",
       "      <th>c_(1)</th>\n",
       "      <th>e_(0,1)</th>\n",
       "      <th>f_(0,1)</th>\n",
       "      <th>d_(0,1)</th>\n",
       "      <th>x_(0,1)</th>\n",
       "    </tr>\n",
       "  </thead>\n",
       "  <tbody>\n",
       "    <tr>\n",
       "      <th>0</th>\n",
       "      <td>0040cb14-bbf7-4fc7-a345-b8c79aebf87c</td>\n",
       "      <td>a, b, c, d, f</td>\n",
       "      <td>0</td>\n",
       "      <td>1</td>\n",
       "      <td>1</td>\n",
       "      <td>1</td>\n",
       "      <td>0</td>\n",
       "      <td>1</td>\n",
       "      <td>1</td>\n",
       "      <td>0</td>\n",
       "    </tr>\n",
       "    <tr>\n",
       "      <th>1</th>\n",
       "      <td>006825a4-f9e8-4a92-8343-b0e593210c7b</td>\n",
       "      <td>a, b, c, x, e, f</td>\n",
       "      <td>0</td>\n",
       "      <td>1</td>\n",
       "      <td>1</td>\n",
       "      <td>1</td>\n",
       "      <td>1</td>\n",
       "      <td>1</td>\n",
       "      <td>0</td>\n",
       "      <td>1</td>\n",
       "    </tr>\n",
       "    <tr>\n",
       "      <th>2</th>\n",
       "      <td>00b06e7d-2c16-4808-a003-e690cdd173db</td>\n",
       "      <td>a, b, c, d, e, f</td>\n",
       "      <td>0</td>\n",
       "      <td>1</td>\n",
       "      <td>1</td>\n",
       "      <td>1</td>\n",
       "      <td>1</td>\n",
       "      <td>1</td>\n",
       "      <td>1</td>\n",
       "      <td>0</td>\n",
       "    </tr>\n",
       "    <tr>\n",
       "      <th>3</th>\n",
       "      <td>00d9a426-3496-43dc-be2d-069b04490b0d</td>\n",
       "      <td>a, b, c, d</td>\n",
       "      <td>0</td>\n",
       "      <td>1</td>\n",
       "      <td>1</td>\n",
       "      <td>1</td>\n",
       "      <td>0</td>\n",
       "      <td>0</td>\n",
       "      <td>1</td>\n",
       "      <td>0</td>\n",
       "    </tr>\n",
       "    <tr>\n",
       "      <th>4</th>\n",
       "      <td>0131bf9c-e7f4-45ac-8435-a07eee9f69ba</td>\n",
       "      <td>a, b, c, e, f</td>\n",
       "      <td>0</td>\n",
       "      <td>1</td>\n",
       "      <td>1</td>\n",
       "      <td>1</td>\n",
       "      <td>1</td>\n",
       "      <td>1</td>\n",
       "      <td>0</td>\n",
       "      <td>0</td>\n",
       "    </tr>\n",
       "    <tr>\n",
       "      <th>5</th>\n",
       "      <td>01b925fc-7b55-4e18-ad36-e8f1c0242608</td>\n",
       "      <td>a, c, b, d, f</td>\n",
       "      <td>0</td>\n",
       "      <td>1</td>\n",
       "      <td>1</td>\n",
       "      <td>1</td>\n",
       "      <td>0</td>\n",
       "      <td>1</td>\n",
       "      <td>1</td>\n",
       "      <td>0</td>\n",
       "    </tr>\n",
       "    <tr>\n",
       "      <th>6</th>\n",
       "      <td>01e84bd3-a6e0-40ab-b478-35271c007cd2</td>\n",
       "      <td>a, c, b, e, f</td>\n",
       "      <td>0</td>\n",
       "      <td>1</td>\n",
       "      <td>1</td>\n",
       "      <td>1</td>\n",
       "      <td>1</td>\n",
       "      <td>1</td>\n",
       "      <td>0</td>\n",
       "      <td>0</td>\n",
       "    </tr>\n",
       "    <tr>\n",
       "      <th>7</th>\n",
       "      <td>03027514-4850-4fcc-836b-d6ded96f7604</td>\n",
       "      <td>a, c, d, f</td>\n",
       "      <td>0</td>\n",
       "      <td>1</td>\n",
       "      <td>0</td>\n",
       "      <td>1</td>\n",
       "      <td>0</td>\n",
       "      <td>1</td>\n",
       "      <td>1</td>\n",
       "      <td>0</td>\n",
       "    </tr>\n",
       "    <tr>\n",
       "      <th>8</th>\n",
       "      <td>0653126e-3746-479f-821f-c7ffa28f968c</td>\n",
       "      <td>a, b, c, f</td>\n",
       "      <td>0</td>\n",
       "      <td>1</td>\n",
       "      <td>1</td>\n",
       "      <td>1</td>\n",
       "      <td>0</td>\n",
       "      <td>1</td>\n",
       "      <td>0</td>\n",
       "      <td>0</td>\n",
       "    </tr>\n",
       "    <tr>\n",
       "      <th>9</th>\n",
       "      <td>07ac2832-a4e5-4ce7-a3ea-eb3341b86a79</td>\n",
       "      <td>c, b, d, f</td>\n",
       "      <td>0</td>\n",
       "      <td>0</td>\n",
       "      <td>1</td>\n",
       "      <td>1</td>\n",
       "      <td>0</td>\n",
       "      <td>1</td>\n",
       "      <td>1</td>\n",
       "      <td>0</td>\n",
       "    </tr>\n",
       "  </tbody>\n",
       "</table>\n",
       "</div>"
      ],
      "text/plain": [
       "                                     id           variant  not_in_model  \\\n",
       "0  0040cb14-bbf7-4fc7-a345-b8c79aebf87c     a, b, c, d, f             0   \n",
       "1  006825a4-f9e8-4a92-8343-b0e593210c7b  a, b, c, x, e, f             0   \n",
       "2  00b06e7d-2c16-4808-a003-e690cdd173db  a, b, c, d, e, f             0   \n",
       "3  00d9a426-3496-43dc-be2d-069b04490b0d        a, b, c, d             0   \n",
       "4  0131bf9c-e7f4-45ac-8435-a07eee9f69ba     a, b, c, e, f             0   \n",
       "5  01b925fc-7b55-4e18-ad36-e8f1c0242608     a, c, b, d, f             0   \n",
       "6  01e84bd3-a6e0-40ab-b478-35271c007cd2     a, c, b, e, f             0   \n",
       "7  03027514-4850-4fcc-836b-d6ded96f7604        a, c, d, f             0   \n",
       "8  0653126e-3746-479f-821f-c7ffa28f968c        a, b, c, f             0   \n",
       "9  07ac2832-a4e5-4ce7-a3ea-eb3341b86a79        c, b, d, f             0   \n",
       "\n",
       "   a_(0,1)  b_(0,1)  c_(1)  e_(0,1)  f_(0,1)  d_(0,1)  x_(0,1)  \n",
       "0        1        1      1        0        1        1        0  \n",
       "1        1        1      1        1        1        0        1  \n",
       "2        1        1      1        1        1        1        0  \n",
       "3        1        1      1        0        0        1        0  \n",
       "4        1        1      1        1        1        0        0  \n",
       "5        1        1      1        0        1        1        0  \n",
       "6        1        1      1        1        1        0        0  \n",
       "7        1        0      1        0        1        1        0  \n",
       "8        1        1      1        0        1        0        0  \n",
       "9        0        1      1        0        1        1        0  "
      ]
     },
     "execution_count": 399,
     "metadata": {},
     "output_type": "execute_result"
    }
   ],
   "source": [
    "pql = PQL()\n",
    "pql.add(PQLFilter(\"FILTER DOMAIN \\\"synthetic_event_log_xes_CASES\\\".\\\"Case ID\\\" IN ( '\"+ select_id +\"' )\"))\n",
    "\n",
    "pql.add(PQLColumn(name = \"id\",query = '\"'+table+'_CASES\".\"Case Id\"'))\n",
    "pql.add(PQLColumn(name='variant',query = 'VARIANT ( \"'+table+'\".\"concept:name\" ) '))\n",
    "\n",
    "def conformance_frequency(activity,table):\n",
    "    all_act_in_model =\"('\"+\"','\".join(list(activity.keys()))+\"')\"\n",
    "    print(all_act_in_model)\n",
    "    pql_list = []\n",
    "    pql_list.append(PQLColumn(name='not_in_model',query = 'SUM(CASE WHEN (\"' + table + '\".\"concept:name\") in ' + all_act_in_model + \"THEN 0 ELSE -1 END)\"))\n",
    "    for ac in activity.keys():\n",
    "        calc_reworl = 'CALC_REWORK(\"'+table+'\".\"concept:name\" IN (\\''+ ac+'\\'))'\n",
    "        freq = \"(\"+\",\".join(map(str,list(activity[ac])))+\")\"\n",
    "        query = \"CASE WHEN \" + calc_reworl + \"=0 AND 0 IN \"+ freq +\" THEN 0 WHEN \"+ calc_reworl + \">0 AND \"+ calc_reworl + \" IN \" + freq + \"THEN 1 ELSE -1 END\"\n",
    "#         print(calc_reworl)\n",
    "#         print(freq)\n",
    "#         print(query)\n",
    "        pql_list.append(PQLColumn(name = ac+\"_\"+freq,query=query))\n",
    "    return pql_list\n",
    "\n",
    "\n",
    "act = model['activ_freq'].copy()\n",
    "\n",
    "# del act['b']\n",
    "l = conformance_frequency(act,table)\n",
    "for pqlc in l:\n",
    "    pql += pqlc\n",
    "\n",
    "\n",
    "df = datamodel.get_data_frame(pql)\n",
    "df"
   ]
  },
  {
   "cell_type": "code",
   "execution_count": 380,
   "id": "52a1155b",
   "metadata": {
    "ExecuteTime": {
     "end_time": "2022-07-03T02:20:24.208876Z",
     "start_time": "2022-07-03T02:20:24.203249Z"
    }
   },
   "outputs": [
    {
     "data": {
      "text/plain": [
       "{'a': {0, 1},\n",
       " 'b': {0, 1},\n",
       " 'c': {1},\n",
       " 'e': {0, 1},\n",
       " 'f': {0, 1},\n",
       " 'd': {0, 1},\n",
       " 'x': {0, 1}}"
      ]
     },
     "execution_count": 380,
     "metadata": {},
     "output_type": "execute_result"
    }
   ],
   "source": [
    "model['activ_freq']"
   ]
  },
  {
   "cell_type": "code",
   "execution_count": 448,
   "id": "c0bc384c",
   "metadata": {
    "ExecuteTime": {
     "end_time": "2022-07-03T03:14:40.271716Z",
     "start_time": "2022-07-03T03:14:40.258188Z"
    }
   },
   "outputs": [],
   "source": [
    "def stric_conformance(datamodel, table, model):\n",
    "\n",
    "    ## get the variant table\n",
    "    variant_df, activities = variant_table(datamodel, table)\n",
    "    variant_dic = variant_df.groupby(\"variant_id\")[\"freq\"].apply(int).to_dict()\n",
    "\n",
    "    select_id = str(\"','\".join(variant_df[\"variant_id\"].tolist()))\n",
    "    filter_query = (\n",
    "        'FILTER DOMAIN \"synthetic_event_log_xes_CASES\".\"Case ID\" IN ( \\''\n",
    "        + select_id\n",
    "        + \"' )\"\n",
    "    )\n",
    "    pql = PQL()\n",
    "    pql.add(PQLFilter(filter_query))\n",
    "    pql.add(PQLColumn(name=\"id\", query='\"' + table + '_CASES\".\"Case Id\"'))\n",
    "    pql.add(PQLColumn(name='variant', query='VARIANT ( \"' + table + '\".\"concept:name\" ) '))\n",
    "    # for key in model.keys():\n",
    "\n",
    "    # always_after_set = model[\"always_after\"]\n",
    "    for activities in model[TEMPLATE.Always_After.value]:\n",
    "        pql+=conformance_always_after(activities)\n",
    "    for activities in model[TEMPLATE.Always_Before.value]:\n",
    "        pql += conformance_always_before(activities)\n",
    "    for activities in model[TEMPLATE.Never_Together.value]:\n",
    "        pql += conformance_never_together(activities,table)\n",
    "    for activities in model[TEMPLATE.Directly_Follows.value]:\n",
    "        pql += conformance_directly_follow(activities)\n",
    "    for activities in model[TEMPLATE.Equivalence.value]:\n",
    "        pql += conformance_equivalence(activities,table)\n",
    "    for pqlc in conformance_frequency(model['activ_freq'],table):\n",
    "        pql += pqlc\n",
    "    df = datamodel.get_data_frame(pql)\n",
    "    return df"
   ]
  },
  {
   "cell_type": "code",
   "execution_count": 452,
   "id": "d5564b47",
   "metadata": {
    "ExecuteTime": {
     "end_time": "2022-07-03T03:18:27.773236Z",
     "start_time": "2022-07-03T03:18:23.733998Z"
    }
   },
   "outputs": [
    {
     "name": "stdout",
     "output_type": "stream",
     "text": [
      "[2022-07-03 05:18:24] INFO: PQL Export started...\n",
      "[2022-07-03 05:18:24] INFO: PQL Export status: DONE\n",
      "[2022-07-03 05:18:25] INFO: PQL Export started...\n",
      "[2022-07-03 05:18:25] INFO: PQL Export status: DONE\n",
      "('a','b','c','e','f','d','x')\n",
      "[2022-07-03 05:18:26] INFO: PQL Export started...\n",
      "[2022-07-03 05:18:27] INFO: PQL Export status: DONE\n"
     ]
    }
   ],
   "source": [
    "cc_df = stric_conformance(datamodel,table,model)"
   ]
  },
  {
   "cell_type": "code",
   "execution_count": 451,
   "id": "f210b743",
   "metadata": {
    "ExecuteTime": {
     "end_time": "2022-07-03T03:18:10.934337Z",
     "start_time": "2022-07-03T03:18:10.742571Z"
    }
   },
   "outputs": [
    {
     "data": {
      "application/vnd.jupyter.widget-view+json": {
       "model_id": "624a91c6f4ad45569beb2b5f53563a91",
       "version_major": 2,
       "version_minor": 0
      },
      "text/plain": [
       "parsing log, completed traces ::   0%|          | 0/1100 [00:00<?, ?it/s]"
      ]
     },
     "metadata": {},
     "output_type": "display_data"
    }
   ],
   "source": [
    "from pm4py.algo.discovery.log_skeleton import algorithm as log_disc\n",
    "import pm4py\n",
    "\n",
    "log = pm4py.read_xes(\"/Users/baichaoye/PycharmProjects/lab-declarative-Conformance-Checking/example_log/synthetic event log.xes\")\n",
    "par = {log_disc.Variants.CLASSIC.value.Parameters.NOISE_THRESHOLD:0.2}\n",
    "\n",
    "model = log_disc.apply(log,parameters=par)"
   ]
  },
  {
   "cell_type": "code",
   "execution_count": 433,
   "id": "e051900e",
   "metadata": {
    "ExecuteTime": {
     "end_time": "2022-07-03T03:07:13.651290Z",
     "start_time": "2022-07-03T03:07:13.647690Z"
    }
   },
   "outputs": [],
   "source": [
    "mcs = 0\n",
    "for key in model.keys():\n",
    "    mcs += len(model[key])"
   ]
  },
  {
   "cell_type": "code",
   "execution_count": 434,
   "id": "537a40e3",
   "metadata": {
    "ExecuteTime": {
     "end_time": "2022-07-03T03:07:17.943140Z",
     "start_time": "2022-07-03T03:07:17.936433Z"
    }
   },
   "outputs": [
    {
     "data": {
      "text/plain": [
       "36"
      ]
     },
     "execution_count": 434,
     "metadata": {},
     "output_type": "execute_result"
    }
   ],
   "source": [
    "mcs"
   ]
  },
  {
   "cell_type": "code",
   "execution_count": 457,
   "id": "65a80ef5",
   "metadata": {
    "ExecuteTime": {
     "end_time": "2022-07-03T03:21:31.512725Z",
     "start_time": "2022-07-03T03:21:31.496438Z"
    }
   },
   "outputs": [
    {
     "data": {
      "text/plain": [
       "{30, 35, 36, 42, 54, 55}"
      ]
     },
     "execution_count": 457,
     "metadata": {},
     "output_type": "execute_result"
    }
   ],
   "source": [
    "import math\n",
    "s = set([sum(cc_df.iloc[i,2:].map(abs)) for i in range(10)])\n",
    "d = set([sum(cc_df.iloc[i,2:].map(lambda:)) for i in range(10)])"
   ]
  },
  {
   "cell_type": "code",
   "execution_count": 454,
   "id": "9e854d84",
   "metadata": {
    "ExecuteTime": {
     "end_time": "2022-07-03T03:18:39.980308Z",
     "start_time": "2022-07-03T03:18:39.964114Z"
    }
   },
   "outputs": [],
   "source": [
    "from pm4py.algo.conformance.log_skeleton import algorithm as log_conf\n",
    "conf = log_conf.apply(log,model)"
   ]
  },
  {
   "cell_type": "code",
   "execution_count": 455,
   "id": "f9c5e190",
   "metadata": {
    "ExecuteTime": {
     "end_time": "2022-07-03T03:18:42.335978Z",
     "start_time": "2022-07-03T03:18:42.330008Z"
    }
   },
   "outputs": [
    {
     "data": {
      "text/plain": [
       "{30, 35, 36, 42, 54, 55}"
      ]
     },
     "execution_count": 455,
     "metadata": {},
     "output_type": "execute_result"
    }
   ],
   "source": [
    "\n",
    "set(list(c['no_constr_total'] for c in conf))"
   ]
  },
  {
   "cell_type": "code",
   "execution_count": 459,
   "id": "f7e4e460",
   "metadata": {
    "ExecuteTime": {
     "end_time": "2022-07-03T03:27:58.198178Z",
     "start_time": "2022-07-03T03:27:58.168510Z"
    }
   },
   "outputs": [
    {
     "ename": "TypeError",
     "evalue": "int() argument must be a string, a bytes-like object or a number, not 'DataFrame'",
     "output_type": "error",
     "traceback": [
      "\u001b[0;31m---------------------------------------------------------------------------\u001b[0m",
      "\u001b[0;31mTypeError\u001b[0m                                 Traceback (most recent call last)",
      "Input \u001b[0;32mIn [459]\u001b[0m, in \u001b[0;36m<cell line: 1>\u001b[0;34m()\u001b[0m\n\u001b[0;32m----> 1\u001b[0m cc_df\u001b[38;5;241m.\u001b[39mloc[\u001b[38;5;28;43mint\u001b[39;49m\u001b[43m(\u001b[49m\u001b[43mdf\u001b[49m\u001b[43m[\u001b[49m\u001b[38;5;241;43m2\u001b[39;49m\u001b[43m:\u001b[49m\u001b[43m]\u001b[49m\u001b[43m)\u001b[49m\u001b[38;5;241m<\u001b[39m\u001b[38;5;241m0\u001b[39m]\n",
      "\u001b[0;31mTypeError\u001b[0m: int() argument must be a string, a bytes-like object or a number, not 'DataFrame'"
     ]
    }
   ],
   "source": [
    "cc_df.loc[int(df[2:])<0]"
   ]
  },
  {
   "cell_type": "code",
   "execution_count": 469,
   "id": "9c8cf518",
   "metadata": {
    "ExecuteTime": {
     "end_time": "2022-07-03T03:30:39.842779Z",
     "start_time": "2022-07-03T03:30:39.835557Z"
    }
   },
   "outputs": [
    {
     "data": {
      "text/plain": [
       "43"
      ]
     },
     "execution_count": 469,
     "metadata": {},
     "output_type": "execute_result"
    }
   ],
   "source": [
    "sum(cc_df.iloc[1,2:])"
   ]
  }
 ],
 "metadata": {
  "kernelspec": {
   "display_name": "Python 3 (ipykernel)",
   "language": "python",
   "name": "python3"
  },
  "language_info": {
   "codemirror_mode": {
    "name": "ipython",
    "version": 3
   },
   "file_extension": ".py",
   "mimetype": "text/x-python",
   "name": "python",
   "nbconvert_exporter": "python",
   "pygments_lexer": "ipython3",
   "version": "3.9.12"
  },
  "toc": {
   "base_numbering": 1,
   "nav_menu": {},
   "number_sections": true,
   "sideBar": true,
   "skip_h1_title": false,
   "title_cell": "Table of Contents",
   "title_sidebar": "Contents",
   "toc_cell": false,
   "toc_position": {},
   "toc_section_display": true,
   "toc_window_display": false
  },
  "varInspector": {
   "cols": {
    "lenName": 16,
    "lenType": 16,
    "lenVar": 40
   },
   "kernels_config": {
    "python": {
     "delete_cmd_postfix": "",
     "delete_cmd_prefix": "del ",
     "library": "var_list.py",
     "varRefreshCmd": "print(var_dic_list())"
    },
    "r": {
     "delete_cmd_postfix": ") ",
     "delete_cmd_prefix": "rm(",
     "library": "var_list.r",
     "varRefreshCmd": "cat(var_dic_list()) "
    }
   },
   "types_to_exclude": [
    "module",
    "function",
    "builtin_function_or_method",
    "instance",
    "_Feature"
   ],
   "window_display": false
  }
 },
 "nbformat": 4,
 "nbformat_minor": 5
}
