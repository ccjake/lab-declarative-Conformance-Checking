{
 "cells": [
  {
   "cell_type": "code",
   "execution_count": 1,
   "id": "dbec489c",
   "metadata": {
    "ExecuteTime": {
     "end_time": "2022-07-02T01:34:19.840845Z",
     "start_time": "2022-07-02T01:34:17.754948Z"
    },
    "collapsed": true
   },
   "outputs": [
    {
     "name": "stderr",
     "output_type": "stream",
     "text": [
      "/Users/baichaoye/opt/anaconda3/envs/lab/lib/python3.9/site-packages/pkg_resources/__init__.py:122: PkgResourcesDeprecationWarning: 1.7.1#sha256=1a33bea4a3fe5bf28b39faa561448594f768b243c3260800b7bddf5b80b46d2e is an invalid version and will not be supported in a future release\n",
      "  warnings.warn(\n"
     ]
    },
    {
     "name": "stdout",
     "output_type": "stream",
     "text": [
      "[2022-07-02 03:34:18] INFO: Initial connect successful! Hello Baichao. PyCelonis Version: 1.7.1\n"
     ]
    }
   ],
   "source": [
    "from celonis_connect import Celonis_Connect\n",
    "cn = Celonis_Connect()"
   ]
  },
  {
   "cell_type": "code",
   "execution_count": 10,
   "id": "70eb8973",
   "metadata": {
    "ExecuteTime": {
     "end_time": "2022-07-02T02:20:22.236546Z",
     "start_time": "2022-07-02T02:20:21.798912Z"
    }
   },
   "outputs": [],
   "source": [
    "# cn.set_datamodel(\"run_example\")\n",
    "# cn.get_tables()\n",
    "cn.set_datamodel(\"rum_example\")"
   ]
  },
  {
   "cell_type": "code",
   "execution_count": 38,
   "id": "bfbb7ca2",
   "metadata": {
    "ExecuteTime": {
     "end_time": "2022-07-02T02:57:36.449965Z",
     "start_time": "2022-07-02T02:57:36.405559Z"
    }
   },
   "outputs": [
    {
     "data": {
      "application/vnd.jupyter.widget-view+json": {
       "model_id": "e638ff0ac8304f8197f5787567598a4f",
       "version_major": 2,
       "version_minor": 0
      },
      "text/plain": [
       "parsing log, completed traces ::   0%|          | 0/3 [00:00<?, ?it/s]"
      ]
     },
     "metadata": {},
     "output_type": "display_data"
    },
    {
     "name": "stdout",
     "output_type": "stream",
     "text": [
      "[{'deviations': [('never_together', (('ER_Sepsis_Triage', 'IV_Antibiotics'), ('ER_Sepsis_Triage', 'ER_Registration'), ('ER_Sepsis_Triage', 'ER_Triage')))], 'no_dev_total': 3, 'no_constr_total': 29, 'dev_fitness': 0.896551724137931, 'is_fit': False}, {'deviations': [('never_together', (('ER_Sepsis_Triage', 'IV_Antibiotics'), ('ER_Sepsis_Triage', 'ER_Registration'), ('ER_Sepsis_Triage', 'ER_Triage')))], 'no_dev_total': 3, 'no_constr_total': 29, 'dev_fitness': 0.896551724137931, 'is_fit': False}, {'deviations': [('never_together', (('ER_Sepsis_Triage', 'IV_Antibiotics'), ('ER_Sepsis_Triage', 'ER_Registration'), ('ER_Sepsis_Triage', 'ER_Triage')))], 'no_dev_total': 3, 'no_constr_total': 29, 'dev_fitness': 0.896551724137931, 'is_fit': False}]\n"
     ]
    }
   ],
   "source": [
    "from pm4py.algo.discovery.log_skeleton import algorithm as log_disc\n",
    "from pm4py.algo.conformance.log_skeleton import algorithm as log_conf\n",
    "import pm4py\n",
    "from templates import TEMPLATE\n",
    "log = pm4py.read_xes(\"./example_log/example_log.xes\")\n",
    "par = {log_disc.Variants.CLASSIC.value.Parameters.NOISE_THRESHOLD:0.2}\n",
    "model = log_disc.apply(log,parameters=par)\n",
    "conf = log_conf.apply(log,model)\n",
    "print(conf)"
   ]
  },
  {
   "cell_type": "code",
   "execution_count": 20,
   "id": "e5177189",
   "metadata": {
    "ExecuteTime": {
     "end_time": "2022-07-02T02:33:25.423901Z",
     "start_time": "2022-07-02T02:33:18.664399Z"
    }
   },
   "outputs": [
    {
     "name": "stdout",
     "output_type": "stream",
     "text": [
      "[2022-07-02 04:33:20] INFO: PQL Export started...\n",
      "[2022-07-02 04:33:20] INFO: PQL Export status: DONE\n",
      "[2022-07-02 04:33:20] INFO: PQL Export started...\n",
      "[2022-07-02 04:33:22] INFO: PQL Export status: DONE\n",
      "[2022-07-02 04:33:22] INFO: PQL Export started...\n",
      "[2022-07-02 04:33:22] INFO: PQL Export status: DONE\n",
      "[2022-07-02 04:33:22] INFO: PQL Export started...\n",
      "[2022-07-02 04:33:22] INFO: PQL Export status: DONE\n",
      "[2022-07-02 04:33:23] INFO: PQL Export started...\n",
      "[2022-07-02 04:33:24] INFO: PQL Export status: DONE\n",
      "[2022-07-02 04:33:24] INFO: PQL Export started...\n",
      "[2022-07-02 04:33:24] INFO: PQL Export status: DONE\n",
      "[2022-07-02 04:33:25] INFO: PQL Export started...\n",
      "[2022-07-02 04:33:25] INFO: PQL Export status: DONE\n"
     ]
    },
    {
     "data": {
      "text/plain": [
       "[('ER_Registration', 'ER_Sepsis_Triage'),\n",
       " ('ER_Registration', 'ER_Triage'),\n",
       " ('ER_Registration', 'IV_Antibiotics'),\n",
       " ('ER_Triage', 'ER_Sepsis_Triage'),\n",
       " ('IV_Antibiotics', 'ER_Sepsis_Triage'),\n",
       " ('IV_Antibiotics', 'ER_Triage')]"
      ]
     },
     "execution_count": 20,
     "metadata": {},
     "output_type": "execute_result"
    }
   ],
   "source": [
    "from discovery.model_discover import declare_model_discover\n",
    "cn.set_datamodel(\"rum_example\")\n",
    "cn.set_table(\"example_log_xes\")\n",
    "model = cn.get_datamodel()\n",
    "table = cn.get_table()\n",
    "dm = declare_model_discover(model,\"example_log_xes\",noise_threshold=0.2)\n",
    "dm['always_after']"
   ]
  }
 ],
 "metadata": {
  "kernelspec": {
   "display_name": "Python 3 (ipykernel)",
   "language": "python",
   "name": "python3"
  },
  "language_info": {
   "codemirror_mode": {
    "name": "ipython",
    "version": 3
   },
   "file_extension": ".py",
   "mimetype": "text/x-python",
   "name": "python",
   "nbconvert_exporter": "python",
   "pygments_lexer": "ipython3",
   "version": "3.9.12"
  },
  "toc": {
   "base_numbering": 1,
   "nav_menu": {},
   "number_sections": true,
   "sideBar": true,
   "skip_h1_title": false,
   "title_cell": "Table of Contents",
   "title_sidebar": "Contents",
   "toc_cell": false,
   "toc_position": {},
   "toc_section_display": true,
   "toc_window_display": false
  },
  "varInspector": {
   "cols": {
    "lenName": 16,
    "lenType": 16,
    "lenVar": 40
   },
   "kernels_config": {
    "python": {
     "delete_cmd_postfix": "",
     "delete_cmd_prefix": "del ",
     "library": "var_list.py",
     "varRefreshCmd": "print(var_dic_list())"
    },
    "r": {
     "delete_cmd_postfix": ") ",
     "delete_cmd_prefix": "rm(",
     "library": "var_list.r",
     "varRefreshCmd": "cat(var_dic_list()) "
    }
   },
   "types_to_exclude": [
    "module",
    "function",
    "builtin_function_or_method",
    "instance",
    "_Feature"
   ],
   "window_display": false
  }
 },
 "nbformat": 4,
 "nbformat_minor": 5
}
