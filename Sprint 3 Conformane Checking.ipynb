{
 "cells": [
  {
   "cell_type": "code",
   "execution_count": 251,
   "id": "94b59e8a",
   "metadata": {
    "ExecuteTime": {
     "end_time": "2022-07-02T15:56:16.564358Z",
     "start_time": "2022-07-02T15:56:14.100337Z"
    }
   },
   "outputs": [
    {
     "name": "stderr",
     "output_type": "stream",
     "text": [
      "/Users/baichaoye/opt/anaconda3/envs/lab/lib/python3.9/site-packages/pkg_resources/__init__.py:122: PkgResourcesDeprecationWarning: 1.7.1#sha256=1a33bea4a3fe5bf28b39faa561448594f768b243c3260800b7bddf5b80b46d2e is an invalid version and will not be supported in a future release\n",
      "  warnings.warn(\n"
     ]
    },
    {
     "name": "stdout",
     "output_type": "stream",
     "text": [
      "[2022-07-02 17:56:15] INFO: Initial connect successful! Hello Baichao. PyCelonis Version: 1.7.1\n"
     ]
    },
    {
     "data": {
      "text/plain": [
       "[\n",
       "<Datamodel, id de692a54-e636-47ba-9d3b-18e12a7dd010, name assig2>,\n",
       "<Datamodel, id 1e8b6039-6dec-4d06-acf0-4acf8b6b511b, name test>,\n",
       "<Datamodel, id ccb7fb21-e127-4891-82ad-31ea5f8f814a, name add datamodel>,\n",
       "<Datamodel, id e873f89f-81d0-4e3d-bed8-ba9e94eb0076, name test2>,\n",
       "<Datamodel, id f0b6ed08-63e8-47f4-9acb-4f0ab922ad48, name i10-11>,\n",
       "<Datamodel, id 02654e7f-c480-4bc9-b014-5539bee182ec, name synthetic>,\n",
       "<Datamodel, id 0c6b4617-c643-42b5-8377-e99c974e65bb, name rum_example>,\n",
       "<Datamodel, id 1914c64d-c9be-42b9-8cda-3b9b2eb8fb41, name test>,\n",
       "<Datamodel, id 1d217e7f-f86d-457d-811d-0b0b8ae08e20, name BPIC15>,\n",
       "<Datamodel, id 958f2d73-5474-4f10-99b6-b0a0d552c5f6, name NEW>,\n",
       "<Datamodel, id 69eb944d-6025-4dcb-857e-1a10adf0e001, name Instruction2_Simple>,\n",
       "<Datamodel, id 4b169b89-7052-42db-ad6a-97d7cdcfd214, name Assignment>,\n",
       "]"
      ]
     },
     "execution_count": 251,
     "metadata": {},
     "output_type": "execute_result"
    }
   ],
   "source": [
    "from celonis_connect import Celonis_Connect\n",
    "cn = Celonis_Connect()\n",
    "cn.get_datamodels()"
   ]
  },
  {
   "cell_type": "code",
   "execution_count": 261,
   "id": "5121dda1",
   "metadata": {
    "ExecuteTime": {
     "end_time": "2022-07-02T16:38:48.210642Z",
     "start_time": "2022-07-02T16:38:47.149803Z"
    }
   },
   "outputs": [],
   "source": [
    "# cn.set_datamodel(\"run_example\")\n",
    "# cn.get_tables()\n",
    "cn.set_datamodel(\"test\")\n"
   ]
  },
  {
   "cell_type": "code",
   "execution_count": 262,
   "id": "8c3df9e4",
   "metadata": {
    "ExecuteTime": {
     "end_time": "2022-07-02T16:38:58.536724Z",
     "start_time": "2022-07-02T16:38:58.350847Z"
    }
   },
   "outputs": [
    {
     "data": {
      "text/plain": [
       "[]"
      ]
     },
     "execution_count": 262,
     "metadata": {},
     "output_type": "execute_result"
    }
   ],
   "source": [
    "cn.get_tables()"
   ]
  },
  {
   "cell_type": "code",
   "execution_count": 127,
   "id": "6dba1699",
   "metadata": {
    "ExecuteTime": {
     "end_time": "2022-07-02T14:29:37.058226Z",
     "start_time": "2022-07-02T14:29:37.015855Z"
    },
    "collapsed": true
   },
   "outputs": [
    {
     "data": {
      "application/vnd.jupyter.widget-view+json": {
       "model_id": "2dcade93dd9446f899ee9b77d4a64d6f",
       "version_major": 2,
       "version_minor": 0
      },
      "text/plain": [
       "parsing log, completed traces ::   0%|          | 0/3 [00:00<?, ?it/s]"
      ]
     },
     "metadata": {},
     "output_type": "display_data"
    },
    {
     "name": "stdout",
     "output_type": "stream",
     "text": [
      "[{'deviations': [('never_together', (('ER_Sepsis_Triage', 'IV_Antibiotics'), ('ER_Sepsis_Triage', 'ER_Registration'), ('ER_Sepsis_Triage', 'ER_Triage')))], 'no_dev_total': 3, 'no_constr_total': 29, 'dev_fitness': 0.896551724137931, 'is_fit': False}, {'deviations': [('never_together', (('ER_Sepsis_Triage', 'IV_Antibiotics'), ('ER_Sepsis_Triage', 'ER_Registration'), ('ER_Sepsis_Triage', 'ER_Triage')))], 'no_dev_total': 3, 'no_constr_total': 29, 'dev_fitness': 0.896551724137931, 'is_fit': False}, {'deviations': [('never_together', (('ER_Sepsis_Triage', 'IV_Antibiotics'), ('ER_Sepsis_Triage', 'ER_Registration'), ('ER_Sepsis_Triage', 'ER_Triage')))], 'no_dev_total': 3, 'no_constr_total': 29, 'dev_fitness': 0.896551724137931, 'is_fit': False}]\n"
     ]
    }
   ],
   "source": [
    "from pm4py.algo.discovery.log_skeleton import algorithm as log_disc\n",
    "from pm4py.algo.conformance.log_skeleton import algorithm as log_conf\n",
    "import pm4py\n",
    "from templates import TEMPLATE\n",
    "log = pm4py.read_xes(\"./example_log/example_log.xes\")\n",
    "par = {log_disc.Variants.CLASSIC.value.Parameters.NOISE_THRESHOLD:0.2}\n",
    "model = log_disc.apply(log,parameters=par)\n",
    "conf = log_conf.apply(log,model)\n",
    "print(conf)\n"
   ]
  },
  {
   "cell_type": "code",
   "execution_count": 128,
   "id": "ad9e7a44",
   "metadata": {
    "ExecuteTime": {
     "end_time": "2022-07-02T14:29:54.884816Z",
     "start_time": "2022-07-02T14:29:54.873393Z"
    }
   },
   "outputs": [
    {
     "data": {
      "text/plain": [
       "Timestamp('2020-07-10 13:40:47.549000+0300', tz='UTC+03:00')"
      ]
     },
     "execution_count": 128,
     "metadata": {},
     "output_type": "execute_result"
    }
   ],
   "source": [
    "log_df = pm4py.convert_to_dataframe(log)\n",
    "# log_df.columns\n",
    "# log_df['time:timestamp'] = log_df['time:timestamp'].map(pd.Timestamp)\n",
    "log_df.loc[1,'time:timestamp']"
   ]
  },
  {
   "cell_type": "code",
   "execution_count": 160,
   "id": "5d0a52fe",
   "metadata": {
    "ExecuteTime": {
     "end_time": "2022-07-02T14:58:03.895136Z",
     "start_time": "2022-07-02T14:57:59.489350Z"
    }
   },
   "outputs": [
    {
     "data": {
      "application/vnd.jupyter.widget-view+json": {
       "model_id": "faf55a0d565f4b04837d9e65c07d69bb",
       "version_major": 2,
       "version_minor": 0
      },
      "text/plain": [
       "parsing log, completed traces ::   0%|          | 0/832 [00:00<?, ?it/s]"
      ]
     },
     "metadata": {},
     "output_type": "display_data"
    }
   ],
   "source": [
    "log_bpi = pm4py.read_xes(\"./example_log/BPIC15_2.xes\")\n",
    "log_bpi_df = pm4py.convert_to_dataframe(log_bpi)\n"
   ]
  },
  {
   "cell_type": "code",
   "execution_count": 161,
   "id": "66efacb2",
   "metadata": {
    "ExecuteTime": {
     "end_time": "2022-07-02T14:58:06.250924Z",
     "start_time": "2022-07-02T14:58:04.579701Z"
    }
   },
   "outputs": [],
   "source": [
    "log_bpi_df['time:timestamp'] = log_bpi_df['time:timestamp'].map(pd.to_datetime)\n"
   ]
  },
  {
   "cell_type": "code",
   "execution_count": 237,
   "id": "637749e4",
   "metadata": {
    "ExecuteTime": {
     "end_time": "2022-07-02T15:42:57.476681Z",
     "start_time": "2022-07-02T15:42:57.469096Z"
    }
   },
   "outputs": [
    {
     "name": "stdout",
     "output_type": "stream",
     "text": [
      "<class 'pandas.core.frame.DataFrame'>\n"
     ]
    }
   ],
   "source": [
    "print(type(log_bpi_df))"
   ]
  },
  {
   "cell_type": "code",
   "execution_count": 254,
   "id": "82714efd",
   "metadata": {
    "ExecuteTime": {
     "end_time": "2022-07-02T15:58:08.840113Z",
     "start_time": "2022-07-02T15:58:08.194582Z"
    }
   },
   "outputs": [
    {
     "data": {
      "text/plain": [
       "[\n",
       "<Datamodel, id 02654e7f-c480-4bc9-b014-5539bee182ec, name synthetic>,\n",
       "<Datamodel, id 0c6b4617-c643-42b5-8377-e99c974e65bb, name rum_example>,\n",
       "<Datamodel, id 1914c64d-c9be-42b9-8cda-3b9b2eb8fb41, name test>,\n",
       "<Datamodel, id 1d217e7f-f86d-457d-811d-0b0b8ae08e20, name BPIC15>,\n",
       "<Datamodel, id 958f2d73-5474-4f10-99b6-b0a0d552c5f6, name NEW>,\n",
       "]"
      ]
     },
     "execution_count": 254,
     "metadata": {},
     "output_type": "execute_result"
    }
   ],
   "source": [
    "cn.get_pools().find('lab').datamodels"
   ]
  },
  {
   "cell_type": "code",
   "execution_count": 255,
   "id": "52f80f5f",
   "metadata": {
    "ExecuteTime": {
     "end_time": "2022-07-02T15:59:55.514279Z",
     "start_time": "2022-07-02T15:59:55.505812Z"
    }
   },
   "outputs": [
    {
     "data": {
      "text/plain": [
       "<Datamodel, id 1d217e7f-f86d-457d-811d-0b0b8ae08e20, name BPIC15>"
      ]
     },
     "execution_count": 255,
     "metadata": {},
     "output_type": "execute_result"
    }
   ],
   "source": [
    "datamodel"
   ]
  },
  {
   "cell_type": "code",
   "execution_count": 259,
   "id": "53b2c699",
   "metadata": {
    "ExecuteTime": {
     "end_time": "2022-07-02T16:03:13.163473Z",
     "start_time": "2022-07-02T16:02:37.462869Z"
    }
   },
   "outputs": [
    {
     "name": "stdout",
     "output_type": "stream",
     "text": [
      "[2022-07-02 18:02:42] INFO: Data push job started...\n",
      "[2022-07-02 18:02:47] INFO: Data push job status: QUEUED...\n",
      "[2022-07-02 18:02:52] INFO: Data push job status: QUEUED...\n",
      "[2022-07-02 18:02:55] INFO: Data push job status: DONE\n",
      "[2022-07-02 18:03:02] INFO: Partial Data Model reload running...\n",
      "[2022-07-02 18:03:08] INFO: Partial Data Model reload running...\n",
      "[2022-07-02 18:03:13] INFO: Data Model reload done\n"
     ]
    },
    {
     "data": {
      "text/plain": [
       "<DatamodelTable, id 1f957c76-818c-43e6-a476-acd090af194e, name lab>"
      ]
     },
     "execution_count": 259,
     "metadata": {},
     "output_type": "execute_result"
    }
   ],
   "source": [
    "from pycelonis.celonis_api.event_collection.table_push_manager import TablePushManager\n",
    "column_config = [{'columnName': 'time:timestamp',\"fieldLength\":80,\"columnType\":\"DATE\"}]\n",
    "tpm = TablePushManager(\"lab\",if_exists = 'drop',column_config=column_config)\n",
    "tpm.create_table(df = log_bpi_df,datamodel=datamodel,partial_reload=True)"
   ]
  },
  {
   "cell_type": "code",
   "execution_count": null,
   "id": "207dcf2c",
   "metadata": {},
   "outputs": [],
   "source": [
    "pool."
   ]
  },
  {
   "cell_type": "code",
   "execution_count": 260,
   "id": "904a3f2c",
   "metadata": {
    "ExecuteTime": {
     "end_time": "2022-07-02T16:04:56.374741Z",
     "start_time": "2022-07-02T16:04:44.726143Z"
    }
   },
   "outputs": [
    {
     "name": "stdout",
     "output_type": "stream",
     "text": [
      "[2022-07-02 18:04:53] INFO: Complete Data Model reload running...\n",
      "[2022-07-02 18:04:56] INFO: Data Model reload done\n"
     ]
    },
    {
     "ename": "PyCelonisHTTPError",
     "evalue": "Data Model reload did not succeed, status: {'dataLoadId': '8e0abd60-1eae-45ec-91c5-fa4628cc6353', 'dataModelId': '1d217e7f-f86d-457d-811d-0b0b8ae08e20', 'startDate': 1656777887311, 'endDate': 1656777895958, 'loadStatus': 'ERROR', 'message': 'Data model load failed during load to engine: Could not load data model. Load failed. Error Message: Timestamp column [\"lab\".\"time:timestamp\"] of activity table [\"lab\"] must be of type DATE, but got [STRING]. Celonis Support ID: ce6a1b3c-b894-4cf2-928e-3edbaab79fd3', 'loadType': 'COMPLETE', 'dataPoolVersion': None}",
     "output_type": "error",
     "traceback": [
      "\u001b[0;31m---------------------------------------------------------------------------\u001b[0m",
      "\u001b[0;31mPyCelonisHTTPError\u001b[0m                        Traceback (most recent call last)",
      "Input \u001b[0;32mIn [260]\u001b[0m, in \u001b[0;36m<cell line: 30>\u001b[0;34m()\u001b[0m\n\u001b[1;32m      1\u001b[0m \u001b[38;5;66;03m# colnames = log_bpi_df.columns\u001b[39;00m\n\u001b[1;32m      2\u001b[0m \n\u001b[1;32m      3\u001b[0m \u001b[38;5;66;03m# tablename = \"BPIC15_xes\"\u001b[39;00m\n\u001b[0;32m   (...)\u001b[0m\n\u001b[1;32m     19\u001b[0m \n\u001b[1;32m     20\u001b[0m \u001b[38;5;66;03m# datamodel.add_table_from_pool(table_name=tablename)\u001b[39;00m\n\u001b[1;32m     23\u001b[0m datamodel\u001b[38;5;241m.\u001b[39mcreate_process_configuration(\n\u001b[1;32m     24\u001b[0m     activity_table\u001b[38;5;241m=\u001b[39m\u001b[38;5;124m\"\u001b[39m\u001b[38;5;124mlab\u001b[39m\u001b[38;5;124m\"\u001b[39m,\n\u001b[1;32m     25\u001b[0m     case_column\u001b[38;5;241m=\u001b[39m\u001b[38;5;124m\"\u001b[39m\u001b[38;5;124mcase:concept:name\u001b[39m\u001b[38;5;124m\"\u001b[39m,\n\u001b[1;32m     26\u001b[0m     activity_column\u001b[38;5;241m=\u001b[39m\u001b[38;5;124m\"\u001b[39m\u001b[38;5;124mconcept:name\u001b[39m\u001b[38;5;124m\"\u001b[39m,\n\u001b[1;32m     27\u001b[0m     timestamp_column\u001b[38;5;241m=\u001b[39m\u001b[38;5;124m\"\u001b[39m\u001b[38;5;124mtime:timestamp\u001b[39m\u001b[38;5;124m\"\u001b[39m,\n\u001b[1;32m     28\u001b[0m )\n\u001b[0;32m---> 30\u001b[0m \u001b[43mdatamodel\u001b[49m\u001b[38;5;241;43m.\u001b[39;49m\u001b[43mreload\u001b[49m\u001b[43m(\u001b[49m\u001b[43m)\u001b[49m\n",
      "File \u001b[0;32m~/opt/anaconda3/envs/lab/lib/python3.9/site-packages/pycelonis/celonis_api/event_collection/data_model.py:438\u001b[0m, in \u001b[0;36mDatamodel.reload\u001b[0;34m(self, from_cache, tables, wait_for_reload)\u001b[0m\n\u001b[1;32m    436\u001b[0m response \u001b[38;5;241m=\u001b[39m \u001b[38;5;28mself\u001b[39m\u001b[38;5;241m.\u001b[39mload_status\n\u001b[1;32m    437\u001b[0m \u001b[38;5;28;01mif\u001b[39;00m wait_for_reload:\n\u001b[0;32m--> 438\u001b[0m     response \u001b[38;5;241m=\u001b[39m \u001b[38;5;28;43mself\u001b[39;49m\u001b[38;5;241;43m.\u001b[39;49m\u001b[43m_wait_for_reload\u001b[49m\u001b[43m(\u001b[49m\u001b[43mreload_type\u001b[49m\u001b[43m)\u001b[49m\n\u001b[1;32m    440\u001b[0m \u001b[38;5;28;01mreturn\u001b[39;00m response\n",
      "File \u001b[0;32m~/opt/anaconda3/envs/lab/lib/python3.9/site-packages/pycelonis/celonis_api/event_collection/data_model.py:481\u001b[0m, in \u001b[0;36mDatamodel._wait_for_reload\u001b[0;34m(self, reload_type)\u001b[0m\n\u001b[1;32m    478\u001b[0m             \u001b[38;5;28;01mraise\u001b[39;00m e\n\u001b[1;32m    480\u001b[0m \u001b[38;5;28;01mif\u001b[39;00m load_status[\u001b[38;5;124m\"\u001b[39m\u001b[38;5;124mloadStatus\u001b[39m\u001b[38;5;124m\"\u001b[39m] \u001b[38;5;129;01mnot\u001b[39;00m \u001b[38;5;129;01min\u001b[39;00m [\u001b[38;5;124m\"\u001b[39m\u001b[38;5;124mSUCCESS\u001b[39m\u001b[38;5;124m\"\u001b[39m, \u001b[38;5;124m\"\u001b[39m\u001b[38;5;124mWARNING\u001b[39m\u001b[38;5;124m\"\u001b[39m]:\n\u001b[0;32m--> 481\u001b[0m     \u001b[38;5;28;01mraise\u001b[39;00m PyCelonisHTTPError(\u001b[38;5;124mf\u001b[39m\u001b[38;5;124m\"\u001b[39m\u001b[38;5;124mData Model reload did not succeed, status: \u001b[39m\u001b[38;5;132;01m{\u001b[39;00mload_status\u001b[38;5;132;01m}\u001b[39;00m\u001b[38;5;124m\"\u001b[39m)\n\u001b[1;32m    483\u001b[0m \u001b[38;5;28;01mreturn\u001b[39;00m load_status\n",
      "\u001b[0;31mPyCelonisHTTPError\u001b[0m: Data Model reload did not succeed, status: {'dataLoadId': '8e0abd60-1eae-45ec-91c5-fa4628cc6353', 'dataModelId': '1d217e7f-f86d-457d-811d-0b0b8ae08e20', 'startDate': 1656777887311, 'endDate': 1656777895958, 'loadStatus': 'ERROR', 'message': 'Data model load failed during load to engine: Could not load data model. Load failed. Error Message: Timestamp column [\"lab\".\"time:timestamp\"] of activity table [\"lab\"] must be of type DATE, but got [STRING]. Celonis Support ID: ce6a1b3c-b894-4cf2-928e-3edbaab79fd3', 'loadType': 'COMPLETE', 'dataPoolVersion': None}"
     ]
    }
   ],
   "source": [
    "# colnames = log_bpi_df.columns\n",
    "\n",
    "# tablename = \"BPIC15_xes\"\n",
    "# pool = cn.get_pools().find('lab')\n",
    "# pool.create_datamodel(\"BPIC15\")\n",
    "# try:\n",
    "#     cn.get_tables().find(\"BPIC15_xes\").delete()\n",
    "# except:\n",
    "#     None\n",
    "    \n",
    "    \n",
    "\n",
    "# pool.create_table(log_bpi_df , table_name = \"BPIC15_xes\", column_config= [{'columnName': 'time:timestamp',\"fieldLength\":100,\"columnType\":\"IN\"}],if_exists='drop')\n",
    "# print(pool.get_column_config(\"BPIC15_xes\"))\n",
    "# pool.create_table(log_bpi_df,if_exists='drop')\n",
    "\n",
    "\n",
    "# datamodel = cn.get_datamodels().find(\"BPIC15\")\n",
    "\n",
    "# datamodel.add_table_from_pool(table_name=tablename)\n",
    "\n",
    "\n",
    "datamodel.create_process_configuration(\n",
    "    activity_table=\"lab\",\n",
    "    case_column=\"case:concept:name\",\n",
    "    activity_column=\"concept:name\",\n",
    "    timestamp_column=\"time:timestamp\",\n",
    ")\n",
    "\n",
    "datamodel.reload()"
   ]
  },
  {
   "cell_type": "code",
   "execution_count": 230,
   "id": "77ea423d",
   "metadata": {
    "ExecuteTime": {
     "end_time": "2022-07-02T15:38:58.599065Z",
     "start_time": "2022-07-02T15:38:57.376859Z"
    },
    "collapsed": true
   },
   "outputs": [
    {
     "name": "stdout",
     "output_type": "stream",
     "text": [
      "[{'columnName': 'monitoringResource', 'columnType': 'STRING', 'fieldLength': 80}, {'columnName': 'org:resource', 'columnType': 'STRING', 'fieldLength': 80}, {'columnName': 'activityNameNL', 'columnType': 'STRING', 'fieldLength': 80}, {'columnName': 'concept:name', 'columnType': 'STRING', 'fieldLength': 80}, {'columnName': 'question', 'columnType': 'STRING', 'fieldLength': 80}, {'columnName': 'dateFinished', 'columnType': 'STRING', 'fieldLength': 80}, {'columnName': 'action_code', 'columnType': 'STRING', 'fieldLength': 80}, {'columnName': 'activityNameEN', 'columnType': 'STRING', 'fieldLength': 80}, {'columnName': 'planned', 'columnType': 'STRING', 'fieldLength': 80}, {'columnName': 'lifecycle:transition', 'columnType': 'STRING', 'fieldLength': 80}, {'columnName': 'time:timestamp', 'columnType': 'STRING', 'fieldLength': 80}, {'columnName': 'case:Includes_subCases', 'columnType': 'STRING', 'fieldLength': 80}, {'columnName': 'case:concept:name', 'columnType': 'STRING', 'fieldLength': 80}, {'columnName': 'case:Responsible_actor', 'columnType': 'STRING', 'fieldLength': 80}, {'columnName': 'case:endDate', 'columnType': 'STRING', 'fieldLength': 80}, {'columnName': 'case:caseStatus', 'columnType': 'STRING', 'fieldLength': 80}, {'columnName': 'case:parts', 'columnType': 'STRING', 'fieldLength': 80}, {'columnName': 'case:caseProcedure', 'columnType': 'STRING', 'fieldLength': 80}, {'columnName': 'case:last_phase', 'columnType': 'STRING', 'fieldLength': 80}, {'columnName': 'case:case_type', 'columnType': 'STRING', 'fieldLength': 80}, {'columnName': 'case:startDate', 'columnType': 'STRING', 'fieldLength': 80}, {'columnName': 'case:requestComplete', 'columnType': 'STRING', 'fieldLength': 80}, {'columnName': 'case:SUMleges', 'columnType': 'FLOAT'}, {'columnName': 'case:IDofConceptCase', 'columnType': 'STRING', 'fieldLength': 80}, {'columnName': 'case:termName', 'columnType': 'STRING', 'fieldLength': 80}, {'columnName': 'case:landRegisterID', 'columnType': 'STRING', 'fieldLength': 80}, {'columnName': 'dueDate', 'columnType': 'STRING', 'fieldLength': 80}, {'columnName': 'dateStop', 'columnType': 'STRING', 'fieldLength': 80}]\n"
     ]
    }
   ],
   "source": [
    "print(pool.get_column_config(\"BPIC15_xes\"))"
   ]
  },
  {
   "cell_type": "code",
   "execution_count": 232,
   "id": "f8cbc4ff",
   "metadata": {
    "ExecuteTime": {
     "end_time": "2022-07-02T15:41:09.291259Z",
     "start_time": "2022-07-02T15:41:08.211182Z"
    },
    "collapsed": true
   },
   "outputs": [
    {
     "data": {
      "text/plain": [
       "[{'name': 'monitoringResource', 'length': 80, 'type': 'STRING'},\n",
       " {'name': 'org:resource', 'length': 80, 'type': 'STRING'},\n",
       " {'name': 'activityNameNL', 'length': 80, 'type': 'STRING'},\n",
       " {'name': 'concept:name', 'length': 80, 'type': 'STRING'},\n",
       " {'name': 'question', 'length': 80, 'type': 'STRING'},\n",
       " {'name': 'dateFinished', 'length': 80, 'type': 'STRING'},\n",
       " {'name': 'action_code', 'length': 80, 'type': 'STRING'},\n",
       " {'name': 'activityNameEN', 'length': 80, 'type': 'STRING'},\n",
       " {'name': 'planned', 'length': 80, 'type': 'STRING'},\n",
       " {'name': 'lifecycle:transition', 'length': 80, 'type': 'STRING'},\n",
       " {'name': 'time:timestamp', 'length': 80, 'type': 'STRING'},\n",
       " {'name': 'case:Includes_subCases', 'length': 80, 'type': 'STRING'},\n",
       " {'name': 'case:concept:name', 'length': 80, 'type': 'STRING'},\n",
       " {'name': 'case:Responsible_actor', 'length': 80, 'type': 'STRING'},\n",
       " {'name': 'case:endDate', 'length': 80, 'type': 'STRING'},\n",
       " {'name': 'case:caseStatus', 'length': 80, 'type': 'STRING'},\n",
       " {'name': 'case:parts', 'length': 80, 'type': 'STRING'},\n",
       " {'name': 'case:caseProcedure', 'length': 80, 'type': 'STRING'},\n",
       " {'name': 'case:last_phase', 'length': 80, 'type': 'STRING'},\n",
       " {'name': 'case:case_type', 'length': 80, 'type': 'STRING'},\n",
       " {'name': 'case:startDate', 'length': 80, 'type': 'STRING'},\n",
       " {'name': 'case:requestComplete', 'length': 80, 'type': 'STRING'},\n",
       " {'name': 'case:SUMleges', 'length': 15, 'type': 'FLOAT'},\n",
       " {'name': 'case:IDofConceptCase', 'length': 80, 'type': 'STRING'},\n",
       " {'name': 'case:termName', 'length': 80, 'type': 'STRING'},\n",
       " {'name': 'case:landRegisterID', 'length': 80, 'type': 'STRING'},\n",
       " {'name': 'dueDate', 'length': 80, 'type': 'STRING'},\n",
       " {'name': 'dateStop', 'length': 80, 'type': 'STRING'},\n",
       " {'name': '_CELONIS_CHANGE_DATE', 'length': 23, 'type': 'DATE'}]"
      ]
     },
     "execution_count": 232,
     "metadata": {},
     "output_type": "execute_result"
    }
   ],
   "source": [
    "datamodel.tables.find(\"BPIC15_xes\").columns"
   ]
  },
  {
   "cell_type": "code",
   "execution_count": 210,
   "id": "bc9973f9",
   "metadata": {
    "ExecuteTime": {
     "end_time": "2022-07-02T15:25:29.702796Z",
     "start_time": "2022-07-02T15:25:29.319602Z"
    }
   },
   "outputs": [],
   "source": [
    "pool = cn.c.pools.find(\"lab\")"
   ]
  },
  {
   "cell_type": "code",
   "execution_count": 220,
   "id": "b3e57526",
   "metadata": {
    "ExecuteTime": {
     "end_time": "2022-07-02T15:26:42.320253Z",
     "start_time": "2022-07-02T15:26:41.773608Z"
    }
   },
   "outputs": [],
   "source": [
    "table = pool.find_table(\"BPIC15_xes\")"
   ]
  },
  {
   "cell_type": "code",
   "execution_count": 222,
   "id": "194b689e",
   "metadata": {
    "ExecuteTime": {
     "end_time": "2022-07-02T15:26:55.093685Z",
     "start_time": "2022-07-02T15:26:55.087505Z"
    }
   },
   "outputs": [
    {
     "data": {
      "text/plain": [
       "dict"
      ]
     },
     "execution_count": 222,
     "metadata": {},
     "output_type": "execute_result"
    }
   ],
   "source": [
    "type(table)"
   ]
  },
  {
   "cell_type": "code",
   "execution_count": 149,
   "id": "4fa2935e",
   "metadata": {
    "ExecuteTime": {
     "end_time": "2022-07-02T14:49:51.310455Z",
     "start_time": "2022-07-02T14:49:50.877787Z"
    }
   },
   "outputs": [],
   "source": [
    "datamodel.tables.find(\"BPIC15_xes\").delete()"
   ]
  },
  {
   "cell_type": "code",
   "execution_count": 20,
   "id": "46bfe357",
   "metadata": {
    "ExecuteTime": {
     "end_time": "2022-07-02T02:33:25.423901Z",
     "start_time": "2022-07-02T02:33:18.664399Z"
    },
    "collapsed": true
   },
   "outputs": [
    {
     "name": "stdout",
     "output_type": "stream",
     "text": [
      "[2022-07-02 04:33:20] INFO: PQL Export started...\n",
      "[2022-07-02 04:33:20] INFO: PQL Export status: DONE\n",
      "[2022-07-02 04:33:20] INFO: PQL Export started...\n",
      "[2022-07-02 04:33:22] INFO: PQL Export status: DONE\n",
      "[2022-07-02 04:33:22] INFO: PQL Export started...\n",
      "[2022-07-02 04:33:22] INFO: PQL Export status: DONE\n",
      "[2022-07-02 04:33:22] INFO: PQL Export started...\n",
      "[2022-07-02 04:33:22] INFO: PQL Export status: DONE\n",
      "[2022-07-02 04:33:23] INFO: PQL Export started...\n",
      "[2022-07-02 04:33:24] INFO: PQL Export status: DONE\n",
      "[2022-07-02 04:33:24] INFO: PQL Export started...\n",
      "[2022-07-02 04:33:24] INFO: PQL Export status: DONE\n",
      "[2022-07-02 04:33:25] INFO: PQL Export started...\n",
      "[2022-07-02 04:33:25] INFO: PQL Export status: DONE\n"
     ]
    },
    {
     "data": {
      "text/plain": [
       "[('ER_Registration', 'ER_Sepsis_Triage'),\n",
       " ('ER_Registration', 'ER_Triage'),\n",
       " ('ER_Registration', 'IV_Antibiotics'),\n",
       " ('ER_Triage', 'ER_Sepsis_Triage'),\n",
       " ('IV_Antibiotics', 'ER_Sepsis_Triage'),\n",
       " ('IV_Antibiotics', 'ER_Triage')]"
      ]
     },
     "execution_count": 20,
     "metadata": {},
     "output_type": "execute_result"
    }
   ],
   "source": [
    "from discovery.model_discover import declare_model_discover\n",
    "cn.set_datamodel(\"rum_example\")\n",
    "cn.set_table(\"example_log_xes\")\n",
    "model = cn.get_datamodel()\n",
    "table = cn.get_table()\n",
    "dm = declare_model_discover(model,\"example_log_xes\",noise_threshold=0.2)\n",
    "dm['always_after']"
   ]
  },
  {
   "cell_type": "code",
   "execution_count": 68,
   "id": "311901e3",
   "metadata": {
    "ExecuteTime": {
     "end_time": "2022-07-02T13:50:48.937552Z",
     "start_time": "2022-07-02T13:50:48.928080Z"
    }
   },
   "outputs": [],
   "source": [
    "from pycelonis.celonis_api.pql.pql import PQL, PQLColumn\n",
    "import pandas as pd\n",
    "def activ_freq(datamodel, table: str, activities_df, noise_threshold):\n",
    "    \"\"\"\n",
    "    Activities frequency\n",
    "\n",
    "    @param datamodel: the datamodel from celonis\n",
    "    @param table: the name of querying table\n",
    "    @param activities_df: the activities variants of log\n",
    "    @param noise_threshold: the noise\n",
    "    @return: the activities freq of the log (considering the noise)\n",
    "    \"\"\"\n",
    "    activities = list(activities_df.index.values)\n",
    "    queries = PQL()\n",
    "    # queries.add(case_id_query(table))\n",
    "    queries.add(PQLColumn(name=\"trace\", query=\"VARIANT(\\\"\" + table + \"\\\".\\\"concept:name\\\")\"))\n",
    "    queries.add(PQLColumn(name=\"frequency\", query=\"COUNT(\\\"\" + table + \"_cases\\\".\\\"Case Id\\\")\"))\n",
    "    for a in activities:\n",
    "        query=\"CALC_REWORK(\\\"\"+table+\"\\\".\\\"concept:name\\\" in ('\"+a+\"\\'))\"\n",
    "        print(query)\n",
    "        queries.add(PQLColumn(name=a,query=\"CALC_REWORK(\\\"\"+table+\"\\\".\\\"concept:name\\\" in ('\"+a+\"\\'))\"))\n",
    "    df = pd.DataFrame(datamodel.get_data_frame(queries))\n",
    "    return df"
   ]
  },
  {
   "cell_type": "code",
   "execution_count": 47,
   "id": "c40bbe96",
   "metadata": {
    "ExecuteTime": {
     "end_time": "2022-07-02T13:35:24.035338Z",
     "start_time": "2022-07-02T13:35:23.122441Z"
    }
   },
   "outputs": [
    {
     "name": "stdout",
     "output_type": "stream",
     "text": [
      "[2022-07-02 15:35:23] INFO: PQL Export started...\n",
      "[2022-07-02 15:35:23] INFO: PQL Export status: DONE\n"
     ]
    }
   ],
   "source": [
    "table = \"example_log_xes\"\n",
    "datamodel = cn.get_datamodel()\n",
    "activities_query = PQL()\n",
    "activities_query.add(\n",
    "    PQLColumn(name=\"activities\", query='\"' + table + '\".\"concept:name\"')\n",
    ")\n",
    "activities_query.add(\n",
    "    PQLColumn(name=\"frequency\", query='COUNT_TABLE(\"' + table + '\")')\n",
    ")\n",
    "activities_df = datamodel.get_data_frame(activities_query)\n",
    "activities_df.set_index(\"activities\", inplace=True)\n"
   ]
  },
  {
   "cell_type": "code",
   "execution_count": 69,
   "id": "d70c5c97",
   "metadata": {
    "ExecuteTime": {
     "end_time": "2022-07-02T13:50:53.640760Z",
     "start_time": "2022-07-02T13:50:52.678942Z"
    }
   },
   "outputs": [
    {
     "name": "stdout",
     "output_type": "stream",
     "text": [
      "CALC_REWORK(\"example_log_xes\".\"concept:name\" in ('ER_Registration'))\n",
      "CALC_REWORK(\"example_log_xes\".\"concept:name\" in ('ER_Sepsis_Triage'))\n",
      "CALC_REWORK(\"example_log_xes\".\"concept:name\" in ('ER_Triage'))\n",
      "CALC_REWORK(\"example_log_xes\".\"concept:name\" in ('IV_Antibiotics'))\n",
      "[2022-07-02 15:50:53] INFO: PQL Export started...\n",
      "[2022-07-02 15:50:53] INFO: PQL Export status: DONE\n"
     ]
    },
    {
     "data": {
      "text/html": [
       "<div>\n",
       "<style scoped>\n",
       "    .dataframe tbody tr th:only-of-type {\n",
       "        vertical-align: middle;\n",
       "    }\n",
       "\n",
       "    .dataframe tbody tr th {\n",
       "        vertical-align: top;\n",
       "    }\n",
       "\n",
       "    .dataframe thead th {\n",
       "        text-align: right;\n",
       "    }\n",
       "</style>\n",
       "<table border=\"1\" class=\"dataframe\">\n",
       "  <thead>\n",
       "    <tr style=\"text-align: right;\">\n",
       "      <th></th>\n",
       "      <th>trace</th>\n",
       "      <th>frequency</th>\n",
       "      <th>ER_Registration</th>\n",
       "      <th>ER_Sepsis_Triage</th>\n",
       "      <th>ER_Triage</th>\n",
       "      <th>IV_Antibiotics</th>\n",
       "    </tr>\n",
       "  </thead>\n",
       "  <tbody>\n",
       "    <tr>\n",
       "      <th>0</th>\n",
       "      <td>ER_Registration, IV_Antibiotics, ER_Sepsis_Tri...</td>\n",
       "      <td>1</td>\n",
       "      <td>1</td>\n",
       "      <td>6</td>\n",
       "      <td>1</td>\n",
       "      <td>1</td>\n",
       "    </tr>\n",
       "    <tr>\n",
       "      <th>1</th>\n",
       "      <td>ER_Registration, IV_Antibiotics, ER_Triage, ER...</td>\n",
       "      <td>1</td>\n",
       "      <td>1</td>\n",
       "      <td>5</td>\n",
       "      <td>1</td>\n",
       "      <td>1</td>\n",
       "    </tr>\n",
       "    <tr>\n",
       "      <th>2</th>\n",
       "      <td>ER_Registration, IV_Antibiotics, ER_Triage, ER...</td>\n",
       "      <td>1</td>\n",
       "      <td>1</td>\n",
       "      <td>6</td>\n",
       "      <td>1</td>\n",
       "      <td>1</td>\n",
       "    </tr>\n",
       "  </tbody>\n",
       "</table>\n",
       "</div>"
      ],
      "text/plain": [
       "                                               trace  ...  IV_Antibiotics\n",
       "0  ER_Registration, IV_Antibiotics, ER_Sepsis_Tri...  ...               1\n",
       "1  ER_Registration, IV_Antibiotics, ER_Triage, ER...  ...               1\n",
       "2  ER_Registration, IV_Antibiotics, ER_Triage, ER...  ...               1\n",
       "\n",
       "[3 rows x 6 columns]"
      ]
     },
     "execution_count": 69,
     "metadata": {},
     "output_type": "execute_result"
    }
   ],
   "source": [
    "\n",
    "df = activ_freq(cn.get_datamodel(),\"example_log_xes\",activities_df,noise_threshold=0)\n",
    "df"
   ]
  },
  {
   "cell_type": "code",
   "execution_count": 76,
   "id": "6a0b7731",
   "metadata": {
    "ExecuteTime": {
     "end_time": "2022-07-02T13:51:54.703780Z",
     "start_time": "2022-07-02T13:51:54.698387Z"
    }
   },
   "outputs": [
    {
     "data": {
      "text/plain": [
       "{5, 6}"
      ]
     },
     "execution_count": 76,
     "metadata": {},
     "output_type": "execute_result"
    }
   ],
   "source": [
    "set(df['ER_Sepsis_Triage'])"
   ]
  }
 ],
 "metadata": {
  "kernelspec": {
   "display_name": "Python 3 (ipykernel)",
   "language": "python",
   "name": "python3"
  },
  "language_info": {
   "codemirror_mode": {
    "name": "ipython",
    "version": 3
   },
   "file_extension": ".py",
   "mimetype": "text/x-python",
   "name": "python",
   "nbconvert_exporter": "python",
   "pygments_lexer": "ipython3",
   "version": "3.9.12"
  },
  "toc": {
   "base_numbering": 1,
   "nav_menu": {},
   "number_sections": true,
   "sideBar": true,
   "skip_h1_title": false,
   "title_cell": "Table of Contents",
   "title_sidebar": "Contents",
   "toc_cell": false,
   "toc_position": {},
   "toc_section_display": true,
   "toc_window_display": false
  },
  "varInspector": {
   "cols": {
    "lenName": 16,
    "lenType": 16,
    "lenVar": 40
   },
   "kernels_config": {
    "python": {
     "delete_cmd_postfix": "",
     "delete_cmd_prefix": "del ",
     "library": "var_list.py",
     "varRefreshCmd": "print(var_dic_list())"
    },
    "r": {
     "delete_cmd_postfix": ") ",
     "delete_cmd_prefix": "rm(",
     "library": "var_list.r",
     "varRefreshCmd": "cat(var_dic_list()) "
    }
   },
   "types_to_exclude": [
    "module",
    "function",
    "builtin_function_or_method",
    "instance",
    "_Feature"
   ],
   "window_display": false
  }
 },
 "nbformat": 4,
 "nbformat_minor": 5
}
