{
 "cells": [
  {
   "cell_type": "code",
   "execution_count": 1,
   "id": "fc621f83",
   "metadata": {
    "ExecuteTime": {
     "end_time": "2022-07-04T05:12:06.349054Z",
     "start_time": "2022-07-04T05:12:05.103445Z"
    },
    "code_folding": []
   },
   "outputs": [],
   "source": [
    "import pm4py.algo.discovery.log_skeleton.algorithm as lsk_check\n",
    "import pm4py.algo.conformance.log_skeleton.algorithm\n",
    "from templates import TEMPLATE\n",
    "from pycelonis.celonis_api.pql.pql import PQL, PQLColumn, PQLFilter\n",
    "\n",
    "\n",
    "def variant_table(datamodel, table: str):\n",
    "    \"\"\"\n",
    "\n",
    "    @param datamode: the datamodel in celonis\n",
    "    @param table: the selected table in celonis\n",
    "    @return: the variant table(dataframe) for different traces, and the activities list\n",
    "    \"\"\"\n",
    "    ## table for variant table\n",
    "    pql = PQL()\n",
    "    pql.add(\n",
    "        PQLColumn(name=\"variant\", query='VARIANT ( \"' + table + '\".\"concept:name\"  )')\n",
    "    )\n",
    "    pql.add(PQLColumn(name=\"freq\", query='COUNT(\"' + table + '_CASES\".\"Case ID\")'))\n",
    "\n",
    "    pql.add(PQLColumn(name=\"id\", query='MIN(\"' + table + '_CASES\".\"Case ID\")'))\n",
    "    df = datamodel.get_data_frame(pql)\n",
    "    df.set_index('id', inplace=True)\n",
    "\n",
    "    return df\n",
    "\n",
    "\n",
    "def conformance_checking(datamodel, table: str, model):\n",
    "    scc_df = stric_conformance(datamodel, table, model)\n",
    "    v_df = variant_table(datamodel, table)\n",
    "\n",
    "    return conf_df_to_dics(scc_df, v_df)\n",
    "\n",
    "\n",
    "def get_act_order(acties, con, l):\n",
    "    #     al = [a.strip() for a in  acties.split(',')]\n",
    "\n",
    "    if (\"not_in_model\" in con):\n",
    "        s = []\n",
    "        for i in range(len(acties)):\n",
    "            if acties[i] not in l:\n",
    "                s.append(i)\n",
    "        return s\n",
    "    elif (\"never_together\" in con):\n",
    "        b = con.split(' ')[-1]\n",
    "        a = con.split(' ')[-3]\n",
    "        if (a in acties and b in acties):\n",
    "            return [acties.index(a), acties.index(b)]\n",
    "        elif (a in acties):\n",
    "            return [acties.index(a)]\n",
    "        else:\n",
    "            return [acties.index(b)]\n",
    "    elif ('TO' not in con):\n",
    "        a = con.split('_')[0]\n",
    "        return [i for i, x in enumerate(acties) if x == a]\n",
    "    else:\n",
    "        b = con.split(' ')[-1]\n",
    "        a = con.split(' ')[-3]\n",
    "        return [acties.index(a), acties.index(b)]\n",
    "\n",
    "\n",
    "def conf_df_to_dics(con_df, v_df):\n",
    "    scc_df = con_df.set_index('id')\n",
    "    cols = scc_df.iloc[:, 1:].columns\n",
    "\n",
    "    l = set([l.strip() for l in ','.join(v_df['variant']).split(',')])\n",
    "\n",
    "    sum_trace = int(sum(v_df['freq']))\n",
    "    fulfill_trace = 0\n",
    "    cc_dic = {}\n",
    "    for id in scc_df.index.values.tolist():\n",
    "        violations = []\n",
    "        fulfill = []\n",
    "        dic = {}\n",
    "        acties = [s.strip() for s in scc_df.at[id, 'variant'].split(',')]\n",
    "        dic['variant'] = acties\n",
    "        for con in cols:\n",
    "            if (scc_df.at[id, con] < 0):\n",
    "                violations.append({con: sorted(get_act_order(acties, con, l))})\n",
    "            if (scc_df.at[id, con] > 0):\n",
    "                fulfill.append({con: (sorted(get_act_order(acties, con, l)), acties)})\n",
    "        if (len(violations) == 0):\n",
    "            fulfill_trace += v_df.at[id, 'freq']\n",
    "        fulfill_trace = int(fulfill_trace)\n",
    "        dic['violations'] = violations\n",
    "        dic['fulfill'] = fulfill\n",
    "        activations = int(sum(scc_df.loc[id][1:].map(abs)))\n",
    "        fulfills = sum(scc_df.loc[id][1:])\n",
    "        dev = int(activations - fulfills)\n",
    "\n",
    "        dic['fitness'] = 1 - dev / activations\n",
    "        print(type(dic['fitness']))\n",
    "        dic['activations'] = activations\n",
    "        dic['fit'] = (fulfill == activations)\n",
    "\n",
    "        cc_dic[id] = dic\n",
    "    vio_trace = sum_trace - fulfill_trace\n",
    "    return cc_dic, [sum_trace, fulfill_trace, vio_trace]\n",
    "\n",
    "\n",
    "def stric_conformance(datamodel, table, model):\n",
    "    ## get the variant table\n",
    "    v_df = variant_table(datamodel, table)\n",
    "    variant_dic = v_df.groupby(\"id\")[\"freq\"].apply(int).to_dict()\n",
    "\n",
    "    select_id = str(\"','\".join(v_df.index.values.tolist()))\n",
    "    filter_query = (\n",
    "            'FILTER DOMAIN \"synthetic_event_log_xes_CASES\".\"Case ID\" IN ( \\''\n",
    "            + select_id\n",
    "            + \"' )\"\n",
    "    )\n",
    "    pql = PQL()\n",
    "    pql.add(PQLFilter(filter_query))\n",
    "    pql.add(PQLColumn(name=\"id\", query='\"' + table + '_CASES\".\"Case Id\"'))\n",
    "    pql.add(PQLColumn(name='variant', query='VARIANT ( \"' + table + '\".\"concept:name\" ) '))\n",
    "    # for key in model.keys():\n",
    "\n",
    "    # always_after_set = model[\"always_after\"]\n",
    "    for activities in model[TEMPLATE.Always_After.value]:\n",
    "        pql += conformance_always_after(activities)\n",
    "    for activities in model[TEMPLATE.Always_Before.value]:\n",
    "        pql += conformance_always_before(activities)\n",
    "    for activities in model[TEMPLATE.Never_Together.value]:\n",
    "        pql += conformance_never_together(activities, table)\n",
    "    for activities in model[TEMPLATE.Directly_Follows.value]:\n",
    "        pql += conformance_directly_follow(activities)\n",
    "    for activities in model[TEMPLATE.Equivalence.value]:\n",
    "        pql += conformance_equivalence(activities, table)\n",
    "    for pqlc in conformance_frequency(model['activ_freq'], table):\n",
    "        pql += pqlc\n",
    "    df = datamodel.get_data_frame(pql)\n",
    "    return df\n",
    "    # for pair in always_after_set:\n",
    "\n",
    "\n",
    "def conformance_always_after(activities):\n",
    "    activities = list(activities)\n",
    "    a = str(activities[0])\n",
    "    b = str(activities[1])\n",
    "\n",
    "    return PQLColumn(\n",
    "        name=\"always_after \" + a + \" TO \" + b,\n",
    "        query=\"CASE WHEN PROCESS NOT EQUALS '\"\n",
    "              + a\n",
    "              + \"' THEN 0 WHEN PROCESS EQUALS '\"\n",
    "              + a\n",
    "              + \"' TO ANY TO '\"\n",
    "              + b\n",
    "              + \"' THEN 1 ELSE -1 END\",\n",
    "    )\n",
    "\n",
    "\n",
    "def conformance_always_before(activities):\n",
    "    activities = list(activities)\n",
    "    a = str(activities[0])\n",
    "    b = str(activities[1])\n",
    "\n",
    "    return PQLColumn(\n",
    "        name=\"always_before \" + a + \" TO \" + b,\n",
    "        query=\"CASE WHEN PROCESS NOT EQUALS '\"\n",
    "              + a\n",
    "              + \"' THEN 0 WHEN PROCESS EQUALS '\"\n",
    "              + b\n",
    "              + \"' TO ANY TO '\"\n",
    "              + a\n",
    "              + \"' THEN 1 ELSE -1 END\",\n",
    "    )\n",
    "\n",
    "\n",
    "def conformance_never_together(activities, table):\n",
    "    activities = list(activities)\n",
    "    a = str(activities[0])\n",
    "    b = str(activities[1])\n",
    "    query = (\n",
    "            \"CASE WHEN PROCESS NOT EQUALS '\"\n",
    "            + a\n",
    "            + \"'THEN 0 WHEN MATCH_ACTIVITIES(\\\"\"\n",
    "            + table\n",
    "            + '\".\"concept:name\", NODE[\\''\n",
    "            + a\n",
    "            + \"'],EXCLUDING['\"\n",
    "            + b\n",
    "            + \"']) = 1 THEN 1 ELSE -1 END\"\n",
    "    )\n",
    "    return PQLColumn(name=\"never_together \" + a + \" TO \" + b, query=query)\n",
    "\n",
    "\n",
    "def conformance_directly_follow(activities):\n",
    "    activities = list(activities)\n",
    "    a = str(activities[0])\n",
    "    b = str(activities[1])\n",
    "    query = (\n",
    "            \"CASE WHEN PROCESS NOT EQUALS '\"\n",
    "            + a\n",
    "            + \"' THEN 0 WHEN PROCESS EQUALS '\"\n",
    "            + a\n",
    "            + \"' TO '\"\n",
    "            + b\n",
    "            + \"' THEN 1 ELSE -1 END\"\n",
    "    )\n",
    "    return PQLColumn(name=\"directly_follow \" + a + \" TO \" + b, query=query)\n",
    "\n",
    "\n",
    "def conformance_frequency(activity, table):\n",
    "    all_act_in_model = \"('\" + \"','\".join(list(activity.keys())) + \"')\"\n",
    "    print(all_act_in_model)\n",
    "    pql_list = []\n",
    "    pql_list.append(PQLColumn(name='not_in_model',\n",
    "                              query='SUM(CASE WHEN (\"' + table + '\".\"concept:name\") in ' + all_act_in_model + \"THEN 0 ELSE -1 END)\"))\n",
    "    for ac in activity.keys():\n",
    "        calc_reworl = 'CALC_REWORK(\"' + table + '\".\"concept:name\" IN (\\'' + ac + '\\'))'\n",
    "        freq = \"(\" + \",\".join(map(str, list(activity[ac]))) + \")\"\n",
    "        query = \"CASE WHEN \" + calc_reworl + \"=0 AND 0 IN \" + freq + \" THEN 0 WHEN \" + calc_reworl + \">0 AND \" + calc_reworl + \" IN \" + freq + \"THEN 1 ELSE -1 END\"\n",
    "        #         print(calc_reworl)\n",
    "        #         print(freq)\n",
    "        #         print(query)\n",
    "        pql_list.append(PQLColumn(name=ac + \"_\" + freq, query=query))\n",
    "    return pql_list\n",
    "\n",
    "\n",
    "def conformance_equivalence(activities, table):\n",
    "    activities = list(activities)\n",
    "    a = str(activities[0])\n",
    "    b = str(activities[1])\n",
    "\n",
    "    def sum_query(a):\n",
    "        return (\n",
    "                'SUM( CASE WHEN \"'\n",
    "                + table\n",
    "                + '\".\"concept:name\" = \\''\n",
    "                + a\n",
    "                + \"' THEN 1 ELSE 0 END)\"\n",
    "        )\n",
    "\n",
    "    query = (\n",
    "            \"CASE WHEN \"\n",
    "            + sum_query(a)\n",
    "            + \"  = 0 \"\n",
    "            + \"THEN 0 WHEN \"\n",
    "            + sum_query(a)\n",
    "            + \" = \"\n",
    "            + sum_query(b)\n",
    "\n",
    "            + \"THEN 1 ELSE -1 END\"\n",
    "    )\n",
    "    col_name = \"equivalence \" + a + \" TO \" + b\n",
    "    return (PQLColumn(name=col_name, query=query))"
   ]
  },
  {
   "cell_type": "code",
   "execution_count": 2,
   "id": "4f2bac22",
   "metadata": {
    "ExecuteTime": {
     "end_time": "2022-07-04T05:12:19.433041Z",
     "start_time": "2022-07-04T05:12:07.134377Z"
    }
   },
   "outputs": [
    {
     "name": "stderr",
     "output_type": "stream",
     "text": [
      "/Users/baichaoye/opt/anaconda3/envs/lab/lib/python3.9/site-packages/pkg_resources/__init__.py:122: PkgResourcesDeprecationWarning: 1.7.1#sha256=1a33bea4a3fe5bf28b39faa561448594f768b243c3260800b7bddf5b80b46d2e is an invalid version and will not be supported in a future release\n",
      "  warnings.warn(\n",
      "/Users/baichaoye/opt/anaconda3/envs/lab/lib/python3.9/site-packages/pkg_resources/_vendor/packaging/version.py:111: DeprecationWarning: Creating a LegacyVersion has been deprecated and will be removed in the next major release\n",
      "  warnings.warn(\n"
     ]
    },
    {
     "name": "stdout",
     "output_type": "stream",
     "text": [
      "[2022-07-04 07:12:09] INFO: Initial connect successful! Hello Baichao. PyCelonis Version: 1.7.1\n",
      "[2022-07-04 07:12:12] INFO: PQL Export started...\n",
      "[2022-07-04 07:12:12] INFO: PQL Export status: DONE\n",
      "[2022-07-04 07:12:12] INFO: PQL Export started...\n",
      "[2022-07-04 07:12:13] INFO: PQL Export status: DONE\n",
      "[2022-07-04 07:12:14] INFO: PQL Export started...\n",
      "[2022-07-04 07:12:15] INFO: PQL Export status: DONE\n",
      "[2022-07-04 07:12:16] INFO: PQL Export started...\n",
      "[2022-07-04 07:12:16] INFO: PQL Export status: DONE\n",
      "[2022-07-04 07:12:16] INFO: PQL Export started...\n",
      "[2022-07-04 07:12:16] INFO: PQL Export status: DONE\n",
      "[2022-07-04 07:12:17] INFO: PQL Export started...\n",
      "[2022-07-04 07:12:18] INFO: PQL Export status: DONE\n",
      "[2022-07-04 07:12:19] INFO: PQL Export started...\n",
      "[2022-07-04 07:12:19] INFO: PQL Export status: DONE\n"
     ]
    }
   ],
   "source": [
    "from celonis_connect import Celonis_Connect\n",
    "from discovery.model_discover import declare_model_discover\n",
    "\n",
    "cn = Celonis_Connect()\n",
    "datamodel = cn.get_datamodels().find(\"synthetic\")\n",
    "table = \"synthetic_event_log_xes\"\n",
    "model = declare_model_discover(datamodel,table,0)"
   ]
  },
  {
   "cell_type": "code",
   "execution_count": 4,
   "id": "a18a003b",
   "metadata": {
    "ExecuteTime": {
     "end_time": "2022-07-04T05:13:18.046331Z",
     "start_time": "2022-07-04T05:13:18.038455Z"
    }
   },
   "outputs": [
    {
     "name": "stdout",
     "output_type": "stream",
     "text": [
      "<class 'list'>\n",
      "<class 'list'>\n",
      "<class 'list'>\n",
      "<class 'list'>\n",
      "<class 'list'>\n",
      "<class 'list'>\n",
      "<class 'list'>\n"
     ]
    }
   ],
   "source": [
    "for key in model['activ_freq']:\n",
    "    print(type(model['activ_freq'][key]))"
   ]
  },
  {
   "cell_type": "code",
   "execution_count": 5,
   "id": "fa77281d",
   "metadata": {
    "ExecuteTime": {
     "end_time": "2022-07-04T05:14:23.154585Z",
     "start_time": "2022-07-04T05:14:23.148630Z"
    }
   },
   "outputs": [],
   "source": [
    "z = json.dumps(model)\n",
    "h = open('z.json','w')\n",
    "h.write(z)\n",
    "h.close()"
   ]
  },
  {
   "cell_type": "code",
   "execution_count": 6,
   "id": "ed21413b",
   "metadata": {
    "ExecuteTime": {
     "end_time": "2022-07-04T05:15:16.184598Z",
     "start_time": "2022-07-04T05:15:16.169271Z"
    }
   },
   "outputs": [
    {
     "data": {
      "text/plain": [
       "{'equivalence': [['a', 'c'],\n",
       "  ['b', 'c'],\n",
       "  ['d', 'c'],\n",
       "  ['e', 'a'],\n",
       "  ['e', 'b'],\n",
       "  ['e', 'c'],\n",
       "  ['e', 'f'],\n",
       "  ['f', 'c'],\n",
       "  ['x', 'a'],\n",
       "  ['x', 'b'],\n",
       "  ['x', 'c'],\n",
       "  ['x', 'e'],\n",
       "  ['x', 'f']],\n",
       " 'always_after': [['a', 'c'], ['e', 'f'], ['x', 'e'], ['x', 'f']],\n",
       " 'always_before': [['d', 'c'],\n",
       "  ['e', 'a'],\n",
       "  ['e', 'b'],\n",
       "  ['e', 'c'],\n",
       "  ['f', 'c'],\n",
       "  ['x', 'a'],\n",
       "  ['x', 'b'],\n",
       "  ['x', 'c']],\n",
       " 'never_together': [['d', 'x'], ['x', 'd']],\n",
       " 'directly_follows': [['e', 'f'], ['x', 'e']],\n",
       " 'activ_freq': {'a': [0, 1],\n",
       "  'b': [0, 1],\n",
       "  'c': [1],\n",
       "  'd': [0, 1],\n",
       "  'e': [0, 1],\n",
       "  'f': [0, 1],\n",
       "  'x': [0, 1]}}"
      ]
     },
     "execution_count": 6,
     "metadata": {},
     "output_type": "execute_result"
    }
   ],
   "source": [
    "with open ('z.json','r') as j:\n",
    "    j_z = json.loads(j.read())\n",
    "j_z"
   ]
  },
  {
   "cell_type": "code",
   "execution_count": null,
   "id": "0e4a038f",
   "metadata": {},
   "outputs": [],
   "source": []
  },
  {
   "cell_type": "code",
   "execution_count": 15,
   "id": "047fa5af",
   "metadata": {
    "ExecuteTime": {
     "end_time": "2022-07-03T21:02:01.139786Z",
     "start_time": "2022-07-03T21:02:01.134843Z"
    }
   },
   "outputs": [
    {
     "data": {
      "text/plain": [
       "False"
      ]
     },
     "execution_count": 15,
     "metadata": {},
     "output_type": "execute_result"
    }
   ],
   "source": [
    " model1['equivalence'] in model['equivalence']"
   ]
  },
  {
   "cell_type": "code",
   "execution_count": 7,
   "id": "f2d27bab",
   "metadata": {
    "ExecuteTime": {
     "end_time": "2022-07-04T05:15:46.652741Z",
     "start_time": "2022-07-04T05:15:46.641576Z"
    }
   },
   "outputs": [
    {
     "data": {
      "text/plain": [
       "{'equivalence': [['a', 'c'],\n",
       "  ['b', 'c'],\n",
       "  ['d', 'c'],\n",
       "  ['e', 'a'],\n",
       "  ['e', 'b'],\n",
       "  ['e', 'c'],\n",
       "  ['e', 'f'],\n",
       "  ['f', 'c'],\n",
       "  ['x', 'a'],\n",
       "  ['x', 'b'],\n",
       "  ['x', 'c'],\n",
       "  ['x', 'e'],\n",
       "  ['x', 'f']],\n",
       " 'always_after': [['a', 'c'], ['e', 'f'], ['x', 'e'], ['x', 'f']],\n",
       " 'always_before': [['d', 'c'],\n",
       "  ['e', 'a'],\n",
       "  ['e', 'b'],\n",
       "  ['e', 'c'],\n",
       "  ['f', 'c'],\n",
       "  ['x', 'a'],\n",
       "  ['x', 'b'],\n",
       "  ['x', 'c']],\n",
       " 'never_together': [['d', 'x'], ['x', 'd']],\n",
       " 'directly_follows': [['e', 'f'], ['x', 'e']],\n",
       " 'activ_freq': {'a': '[0, 1]',\n",
       "  'b': '[0, 1]',\n",
       "  'c': '[1]',\n",
       "  'd': '[0, 1]',\n",
       "  'e': '[0, 1]',\n",
       "  'f': '[0, 1]',\n",
       "  'x': '[0, 1]'}}"
      ]
     },
     "execution_count": 7,
     "metadata": {},
     "output_type": "execute_result"
    }
   ],
   "source": [
    "with open(\"./static/failed.json\",'r') as j:\n",
    "    model1 = json.loads(j.read())\n",
    "model1"
   ]
  },
  {
   "cell_type": "code",
   "execution_count": 8,
   "id": "af85f656",
   "metadata": {
    "ExecuteTime": {
     "end_time": "2022-07-04T05:16:05.645783Z",
     "start_time": "2022-07-04T05:16:00.458796Z"
    }
   },
   "outputs": [
    {
     "name": "stdout",
     "output_type": "stream",
     "text": [
      "[2022-07-04 07:16:01] INFO: PQL Export started...\n",
      "[2022-07-04 07:16:02] INFO: PQL Export status: DONE\n",
      "('a','b','c','d','e','f','x')\n",
      "[2022-07-04 07:16:03] INFO: PQL Export started...\n",
      "[2022-07-04 07:16:03] INFO: PQL Export status: DONE\n",
      "[2022-07-04 07:16:04] INFO: PQL Export started...\n",
      "[2022-07-04 07:16:05] INFO: PQL Export status: DONE\n",
      "<class 'float'>\n",
      "<class 'float'>\n",
      "<class 'float'>\n",
      "<class 'float'>\n",
      "<class 'float'>\n",
      "<class 'float'>\n",
      "<class 'float'>\n",
      "<class 'float'>\n",
      "<class 'float'>\n",
      "<class 'float'>\n"
     ]
    },
    {
     "data": {
      "text/plain": [
       "{'0040cb14-bbf7-4fc7-a345-b8c79aebf87c': {'variant': ['a', 'b', 'c', 'd', 'f'],\n",
       "  'violations': [],\n",
       "  'fulfill': [{'always_after a TO c': ([0, 2], ['a', 'b', 'c', 'd', 'f'])},\n",
       "   {'always_before d TO c': ([2, 3], ['a', 'b', 'c', 'd', 'f'])},\n",
       "   {'always_before f TO c': ([2, 4], ['a', 'b', 'c', 'd', 'f'])},\n",
       "   {'never_together d TO x': ([3], ['a', 'b', 'c', 'd', 'f'])},\n",
       "   {'equivalence a TO c': ([0, 2], ['a', 'b', 'c', 'd', 'f'])},\n",
       "   {'equivalence b TO c': ([1, 2], ['a', 'b', 'c', 'd', 'f'])},\n",
       "   {'equivalence d TO c': ([2, 3], ['a', 'b', 'c', 'd', 'f'])},\n",
       "   {'equivalence f TO c': ([2, 4], ['a', 'b', 'c', 'd', 'f'])},\n",
       "   {'a_(0,1)': ([0], ['a', 'b', 'c', 'd', 'f'])},\n",
       "   {'b_(0,1)': ([1], ['a', 'b', 'c', 'd', 'f'])},\n",
       "   {'c_(1)': ([2], ['a', 'b', 'c', 'd', 'f'])},\n",
       "   {'d_(0,1)': ([3], ['a', 'b', 'c', 'd', 'f'])},\n",
       "   {'f_(0,1)': ([4], ['a', 'b', 'c', 'd', 'f'])}],\n",
       "  'fitness': 1.0,\n",
       "  'activations': 13,\n",
       "  'fit': False},\n",
       " '006825a4-f9e8-4a92-8343-b0e593210c7b': {'variant': ['a',\n",
       "   'b',\n",
       "   'c',\n",
       "   'x',\n",
       "   'e',\n",
       "   'f'],\n",
       "  'violations': [],\n",
       "  'fulfill': [{'always_after a TO c': ([0, 2],\n",
       "     ['a', 'b', 'c', 'x', 'e', 'f'])},\n",
       "   {'always_after e TO f': ([4, 5], ['a', 'b', 'c', 'x', 'e', 'f'])},\n",
       "   {'always_after x TO e': ([3, 4], ['a', 'b', 'c', 'x', 'e', 'f'])},\n",
       "   {'always_after x TO f': ([3, 5], ['a', 'b', 'c', 'x', 'e', 'f'])},\n",
       "   {'always_before e TO a': ([0, 4], ['a', 'b', 'c', 'x', 'e', 'f'])},\n",
       "   {'always_before e TO b': ([1, 4], ['a', 'b', 'c', 'x', 'e', 'f'])},\n",
       "   {'always_before e TO c': ([2, 4], ['a', 'b', 'c', 'x', 'e', 'f'])},\n",
       "   {'always_before f TO c': ([2, 5], ['a', 'b', 'c', 'x', 'e', 'f'])},\n",
       "   {'always_before x TO a': ([0, 3], ['a', 'b', 'c', 'x', 'e', 'f'])},\n",
       "   {'always_before x TO b': ([1, 3], ['a', 'b', 'c', 'x', 'e', 'f'])},\n",
       "   {'always_before x TO c': ([2, 3], ['a', 'b', 'c', 'x', 'e', 'f'])},\n",
       "   {'never_together x TO d': ([3], ['a', 'b', 'c', 'x', 'e', 'f'])},\n",
       "   {'directly_follow e TO f': ([4, 5], ['a', 'b', 'c', 'x', 'e', 'f'])},\n",
       "   {'directly_follow x TO e': ([3, 4], ['a', 'b', 'c', 'x', 'e', 'f'])},\n",
       "   {'equivalence a TO c': ([0, 2], ['a', 'b', 'c', 'x', 'e', 'f'])},\n",
       "   {'equivalence b TO c': ([1, 2], ['a', 'b', 'c', 'x', 'e', 'f'])},\n",
       "   {'equivalence e TO a': ([0, 4], ['a', 'b', 'c', 'x', 'e', 'f'])},\n",
       "   {'equivalence e TO b': ([1, 4], ['a', 'b', 'c', 'x', 'e', 'f'])},\n",
       "   {'equivalence e TO c': ([2, 4], ['a', 'b', 'c', 'x', 'e', 'f'])},\n",
       "   {'equivalence e TO f': ([4, 5], ['a', 'b', 'c', 'x', 'e', 'f'])},\n",
       "   {'equivalence f TO c': ([2, 5], ['a', 'b', 'c', 'x', 'e', 'f'])},\n",
       "   {'equivalence x TO a': ([0, 3], ['a', 'b', 'c', 'x', 'e', 'f'])},\n",
       "   {'equivalence x TO b': ([1, 3], ['a', 'b', 'c', 'x', 'e', 'f'])},\n",
       "   {'equivalence x TO c': ([2, 3], ['a', 'b', 'c', 'x', 'e', 'f'])},\n",
       "   {'equivalence x TO e': ([3, 4], ['a', 'b', 'c', 'x', 'e', 'f'])},\n",
       "   {'equivalence x TO f': ([3, 5], ['a', 'b', 'c', 'x', 'e', 'f'])},\n",
       "   {'a_(0,1)': ([0], ['a', 'b', 'c', 'x', 'e', 'f'])},\n",
       "   {'b_(0,1)': ([1], ['a', 'b', 'c', 'x', 'e', 'f'])},\n",
       "   {'c_(1)': ([2], ['a', 'b', 'c', 'x', 'e', 'f'])},\n",
       "   {'e_(0,1)': ([4], ['a', 'b', 'c', 'x', 'e', 'f'])},\n",
       "   {'f_(0,1)': ([5], ['a', 'b', 'c', 'x', 'e', 'f'])},\n",
       "   {'x_(0,1)': ([3], ['a', 'b', 'c', 'x', 'e', 'f'])}],\n",
       "  'fitness': 1.0,\n",
       "  'activations': 32,\n",
       "  'fit': False},\n",
       " '00b06e7d-2c16-4808-a003-e690cdd173db': {'variant': ['a',\n",
       "   'b',\n",
       "   'c',\n",
       "   'd',\n",
       "   'e',\n",
       "   'f'],\n",
       "  'violations': [],\n",
       "  'fulfill': [{'always_after a TO c': ([0, 2],\n",
       "     ['a', 'b', 'c', 'd', 'e', 'f'])},\n",
       "   {'always_after e TO f': ([4, 5], ['a', 'b', 'c', 'd', 'e', 'f'])},\n",
       "   {'always_before d TO c': ([2, 3], ['a', 'b', 'c', 'd', 'e', 'f'])},\n",
       "   {'always_before e TO a': ([0, 4], ['a', 'b', 'c', 'd', 'e', 'f'])},\n",
       "   {'always_before e TO b': ([1, 4], ['a', 'b', 'c', 'd', 'e', 'f'])},\n",
       "   {'always_before e TO c': ([2, 4], ['a', 'b', 'c', 'd', 'e', 'f'])},\n",
       "   {'always_before f TO c': ([2, 5], ['a', 'b', 'c', 'd', 'e', 'f'])},\n",
       "   {'never_together d TO x': ([3], ['a', 'b', 'c', 'd', 'e', 'f'])},\n",
       "   {'directly_follow e TO f': ([4, 5], ['a', 'b', 'c', 'd', 'e', 'f'])},\n",
       "   {'equivalence a TO c': ([0, 2], ['a', 'b', 'c', 'd', 'e', 'f'])},\n",
       "   {'equivalence b TO c': ([1, 2], ['a', 'b', 'c', 'd', 'e', 'f'])},\n",
       "   {'equivalence d TO c': ([2, 3], ['a', 'b', 'c', 'd', 'e', 'f'])},\n",
       "   {'equivalence e TO a': ([0, 4], ['a', 'b', 'c', 'd', 'e', 'f'])},\n",
       "   {'equivalence e TO b': ([1, 4], ['a', 'b', 'c', 'd', 'e', 'f'])},\n",
       "   {'equivalence e TO c': ([2, 4], ['a', 'b', 'c', 'd', 'e', 'f'])},\n",
       "   {'equivalence e TO f': ([4, 5], ['a', 'b', 'c', 'd', 'e', 'f'])},\n",
       "   {'equivalence f TO c': ([2, 5], ['a', 'b', 'c', 'd', 'e', 'f'])},\n",
       "   {'a_(0,1)': ([0], ['a', 'b', 'c', 'd', 'e', 'f'])},\n",
       "   {'b_(0,1)': ([1], ['a', 'b', 'c', 'd', 'e', 'f'])},\n",
       "   {'c_(1)': ([2], ['a', 'b', 'c', 'd', 'e', 'f'])},\n",
       "   {'d_(0,1)': ([3], ['a', 'b', 'c', 'd', 'e', 'f'])},\n",
       "   {'e_(0,1)': ([4], ['a', 'b', 'c', 'd', 'e', 'f'])},\n",
       "   {'f_(0,1)': ([5], ['a', 'b', 'c', 'd', 'e', 'f'])}],\n",
       "  'fitness': 1.0,\n",
       "  'activations': 23,\n",
       "  'fit': False},\n",
       " '00d9a426-3496-43dc-be2d-069b04490b0d': {'variant': ['a', 'b', 'c', 'd'],\n",
       "  'violations': [],\n",
       "  'fulfill': [{'always_after a TO c': ([0, 2], ['a', 'b', 'c', 'd'])},\n",
       "   {'always_before d TO c': ([2, 3], ['a', 'b', 'c', 'd'])},\n",
       "   {'never_together d TO x': ([3], ['a', 'b', 'c', 'd'])},\n",
       "   {'equivalence a TO c': ([0, 2], ['a', 'b', 'c', 'd'])},\n",
       "   {'equivalence b TO c': ([1, 2], ['a', 'b', 'c', 'd'])},\n",
       "   {'equivalence d TO c': ([2, 3], ['a', 'b', 'c', 'd'])},\n",
       "   {'a_(0,1)': ([0], ['a', 'b', 'c', 'd'])},\n",
       "   {'b_(0,1)': ([1], ['a', 'b', 'c', 'd'])},\n",
       "   {'c_(1)': ([2], ['a', 'b', 'c', 'd'])},\n",
       "   {'d_(0,1)': ([3], ['a', 'b', 'c', 'd'])}],\n",
       "  'fitness': 1.0,\n",
       "  'activations': 10,\n",
       "  'fit': False},\n",
       " '0131bf9c-e7f4-45ac-8435-a07eee9f69ba': {'variant': ['a', 'b', 'c', 'e', 'f'],\n",
       "  'violations': [],\n",
       "  'fulfill': [{'always_after a TO c': ([0, 2], ['a', 'b', 'c', 'e', 'f'])},\n",
       "   {'always_after e TO f': ([3, 4], ['a', 'b', 'c', 'e', 'f'])},\n",
       "   {'always_before e TO a': ([0, 3], ['a', 'b', 'c', 'e', 'f'])},\n",
       "   {'always_before e TO b': ([1, 3], ['a', 'b', 'c', 'e', 'f'])},\n",
       "   {'always_before e TO c': ([2, 3], ['a', 'b', 'c', 'e', 'f'])},\n",
       "   {'always_before f TO c': ([2, 4], ['a', 'b', 'c', 'e', 'f'])},\n",
       "   {'directly_follow e TO f': ([3, 4], ['a', 'b', 'c', 'e', 'f'])},\n",
       "   {'equivalence a TO c': ([0, 2], ['a', 'b', 'c', 'e', 'f'])},\n",
       "   {'equivalence b TO c': ([1, 2], ['a', 'b', 'c', 'e', 'f'])},\n",
       "   {'equivalence e TO a': ([0, 3], ['a', 'b', 'c', 'e', 'f'])},\n",
       "   {'equivalence e TO b': ([1, 3], ['a', 'b', 'c', 'e', 'f'])},\n",
       "   {'equivalence e TO c': ([2, 3], ['a', 'b', 'c', 'e', 'f'])},\n",
       "   {'equivalence e TO f': ([3, 4], ['a', 'b', 'c', 'e', 'f'])},\n",
       "   {'equivalence f TO c': ([2, 4], ['a', 'b', 'c', 'e', 'f'])},\n",
       "   {'a_(0,1)': ([0], ['a', 'b', 'c', 'e', 'f'])},\n",
       "   {'b_(0,1)': ([1], ['a', 'b', 'c', 'e', 'f'])},\n",
       "   {'c_(1)': ([2], ['a', 'b', 'c', 'e', 'f'])},\n",
       "   {'e_(0,1)': ([3], ['a', 'b', 'c', 'e', 'f'])},\n",
       "   {'f_(0,1)': ([4], ['a', 'b', 'c', 'e', 'f'])}],\n",
       "  'fitness': 1.0,\n",
       "  'activations': 19,\n",
       "  'fit': False},\n",
       " '01b925fc-7b55-4e18-ad36-e8f1c0242608': {'variant': ['a', 'c', 'b', 'd', 'f'],\n",
       "  'violations': [],\n",
       "  'fulfill': [{'always_after a TO c': ([0, 1], ['a', 'c', 'b', 'd', 'f'])},\n",
       "   {'always_before d TO c': ([1, 3], ['a', 'c', 'b', 'd', 'f'])},\n",
       "   {'always_before f TO c': ([1, 4], ['a', 'c', 'b', 'd', 'f'])},\n",
       "   {'never_together d TO x': ([3], ['a', 'c', 'b', 'd', 'f'])},\n",
       "   {'equivalence a TO c': ([0, 1], ['a', 'c', 'b', 'd', 'f'])},\n",
       "   {'equivalence b TO c': ([1, 2], ['a', 'c', 'b', 'd', 'f'])},\n",
       "   {'equivalence d TO c': ([1, 3], ['a', 'c', 'b', 'd', 'f'])},\n",
       "   {'equivalence f TO c': ([1, 4], ['a', 'c', 'b', 'd', 'f'])},\n",
       "   {'a_(0,1)': ([0], ['a', 'c', 'b', 'd', 'f'])},\n",
       "   {'b_(0,1)': ([2], ['a', 'c', 'b', 'd', 'f'])},\n",
       "   {'c_(1)': ([1], ['a', 'c', 'b', 'd', 'f'])},\n",
       "   {'d_(0,1)': ([3], ['a', 'c', 'b', 'd', 'f'])},\n",
       "   {'f_(0,1)': ([4], ['a', 'c', 'b', 'd', 'f'])}],\n",
       "  'fitness': 1.0,\n",
       "  'activations': 13,\n",
       "  'fit': False},\n",
       " '01e84bd3-a6e0-40ab-b478-35271c007cd2': {'variant': ['a', 'c', 'b', 'e', 'f'],\n",
       "  'violations': [],\n",
       "  'fulfill': [{'always_after a TO c': ([0, 1], ['a', 'c', 'b', 'e', 'f'])},\n",
       "   {'always_after e TO f': ([3, 4], ['a', 'c', 'b', 'e', 'f'])},\n",
       "   {'always_before e TO a': ([0, 3], ['a', 'c', 'b', 'e', 'f'])},\n",
       "   {'always_before e TO b': ([2, 3], ['a', 'c', 'b', 'e', 'f'])},\n",
       "   {'always_before e TO c': ([1, 3], ['a', 'c', 'b', 'e', 'f'])},\n",
       "   {'always_before f TO c': ([1, 4], ['a', 'c', 'b', 'e', 'f'])},\n",
       "   {'directly_follow e TO f': ([3, 4], ['a', 'c', 'b', 'e', 'f'])},\n",
       "   {'equivalence a TO c': ([0, 1], ['a', 'c', 'b', 'e', 'f'])},\n",
       "   {'equivalence b TO c': ([1, 2], ['a', 'c', 'b', 'e', 'f'])},\n",
       "   {'equivalence e TO a': ([0, 3], ['a', 'c', 'b', 'e', 'f'])},\n",
       "   {'equivalence e TO b': ([2, 3], ['a', 'c', 'b', 'e', 'f'])},\n",
       "   {'equivalence e TO c': ([1, 3], ['a', 'c', 'b', 'e', 'f'])},\n",
       "   {'equivalence e TO f': ([3, 4], ['a', 'c', 'b', 'e', 'f'])},\n",
       "   {'equivalence f TO c': ([1, 4], ['a', 'c', 'b', 'e', 'f'])},\n",
       "   {'a_(0,1)': ([0], ['a', 'c', 'b', 'e', 'f'])},\n",
       "   {'b_(0,1)': ([2], ['a', 'c', 'b', 'e', 'f'])},\n",
       "   {'c_(1)': ([1], ['a', 'c', 'b', 'e', 'f'])},\n",
       "   {'e_(0,1)': ([3], ['a', 'c', 'b', 'e', 'f'])},\n",
       "   {'f_(0,1)': ([4], ['a', 'c', 'b', 'e', 'f'])}],\n",
       "  'fitness': 1.0,\n",
       "  'activations': 19,\n",
       "  'fit': False},\n",
       " '03027514-4850-4fcc-836b-d6ded96f7604': {'variant': ['a', 'c', 'd', 'f'],\n",
       "  'violations': [],\n",
       "  'fulfill': [{'always_after a TO c': ([0, 1], ['a', 'c', 'd', 'f'])},\n",
       "   {'always_before d TO c': ([1, 2], ['a', 'c', 'd', 'f'])},\n",
       "   {'always_before f TO c': ([1, 3], ['a', 'c', 'd', 'f'])},\n",
       "   {'never_together d TO x': ([2], ['a', 'c', 'd', 'f'])},\n",
       "   {'equivalence a TO c': ([0, 1], ['a', 'c', 'd', 'f'])},\n",
       "   {'equivalence d TO c': ([1, 2], ['a', 'c', 'd', 'f'])},\n",
       "   {'equivalence f TO c': ([1, 3], ['a', 'c', 'd', 'f'])},\n",
       "   {'a_(0,1)': ([0], ['a', 'c', 'd', 'f'])},\n",
       "   {'c_(1)': ([1], ['a', 'c', 'd', 'f'])},\n",
       "   {'d_(0,1)': ([2], ['a', 'c', 'd', 'f'])},\n",
       "   {'f_(0,1)': ([3], ['a', 'c', 'd', 'f'])}],\n",
       "  'fitness': 1.0,\n",
       "  'activations': 11,\n",
       "  'fit': False},\n",
       " '0653126e-3746-479f-821f-c7ffa28f968c': {'variant': ['a', 'b', 'c', 'f'],\n",
       "  'violations': [],\n",
       "  'fulfill': [{'always_after a TO c': ([0, 2], ['a', 'b', 'c', 'f'])},\n",
       "   {'always_before f TO c': ([2, 3], ['a', 'b', 'c', 'f'])},\n",
       "   {'equivalence a TO c': ([0, 2], ['a', 'b', 'c', 'f'])},\n",
       "   {'equivalence b TO c': ([1, 2], ['a', 'b', 'c', 'f'])},\n",
       "   {'equivalence f TO c': ([2, 3], ['a', 'b', 'c', 'f'])},\n",
       "   {'a_(0,1)': ([0], ['a', 'b', 'c', 'f'])},\n",
       "   {'b_(0,1)': ([1], ['a', 'b', 'c', 'f'])},\n",
       "   {'c_(1)': ([2], ['a', 'b', 'c', 'f'])},\n",
       "   {'f_(0,1)': ([3], ['a', 'b', 'c', 'f'])}],\n",
       "  'fitness': 1.0,\n",
       "  'activations': 9,\n",
       "  'fit': False},\n",
       " '07ac2832-a4e5-4ce7-a3ea-eb3341b86a79': {'variant': ['c', 'b', 'd', 'f'],\n",
       "  'violations': [],\n",
       "  'fulfill': [{'always_before d TO c': ([0, 2], ['c', 'b', 'd', 'f'])},\n",
       "   {'always_before f TO c': ([0, 3], ['c', 'b', 'd', 'f'])},\n",
       "   {'never_together d TO x': ([2], ['c', 'b', 'd', 'f'])},\n",
       "   {'equivalence b TO c': ([0, 1], ['c', 'b', 'd', 'f'])},\n",
       "   {'equivalence d TO c': ([0, 2], ['c', 'b', 'd', 'f'])},\n",
       "   {'equivalence f TO c': ([0, 3], ['c', 'b', 'd', 'f'])},\n",
       "   {'b_(0,1)': ([1], ['c', 'b', 'd', 'f'])},\n",
       "   {'c_(1)': ([0], ['c', 'b', 'd', 'f'])},\n",
       "   {'d_(0,1)': ([2], ['c', 'b', 'd', 'f'])},\n",
       "   {'f_(0,1)': ([3], ['c', 'b', 'd', 'f'])}],\n",
       "  'fitness': 1.0,\n",
       "  'activations': 10,\n",
       "  'fit': False}}"
      ]
     },
     "execution_count": 8,
     "metadata": {},
     "output_type": "execute_result"
    }
   ],
   "source": [
    "con_dic,statis = conformance_checking(datamodel,table,j_z)\n",
    "con_dic"
   ]
  },
  {
   "cell_type": "code",
   "execution_count": 4,
   "id": "53fed7e5",
   "metadata": {
    "ExecuteTime": {
     "end_time": "2022-07-03T15:45:53.355763Z",
     "start_time": "2022-07-03T15:45:53.352318Z"
    }
   },
   "outputs": [
    {
     "data": {
      "text/plain": [
       "[1100, 1100, 0]"
      ]
     },
     "execution_count": 4,
     "metadata": {},
     "output_type": "execute_result"
    }
   ],
   "source": [
    "statis"
   ]
  },
  {
   "cell_type": "code",
   "execution_count": 5,
   "id": "76174cc8",
   "metadata": {
    "ExecuteTime": {
     "end_time": "2022-07-03T15:45:54.556135Z",
     "start_time": "2022-07-03T15:45:53.357483Z"
    }
   },
   "outputs": [
    {
     "name": "stdout",
     "output_type": "stream",
     "text": [
      "[2022-07-03 17:45:53] INFO: PQL Export started...\n",
      "[2022-07-03 17:45:53] INFO: PQL Export status: DONE\n",
      "('a','b','c','d','e','f','x')\n",
      "[2022-07-03 17:45:54] INFO: PQL Export started...\n",
      "[2022-07-03 17:45:54] INFO: PQL Export status: DONE\n"
     ]
    }
   ],
   "source": [
    "con_df = stric_conformance(datamodel,table,model)"
   ]
  },
  {
   "cell_type": "code",
   "execution_count": 6,
   "id": "6745cc61",
   "metadata": {
    "ExecuteTime": {
     "end_time": "2022-07-03T15:45:55.136133Z",
     "start_time": "2022-07-03T15:45:54.560435Z"
    }
   },
   "outputs": [
    {
     "name": "stdout",
     "output_type": "stream",
     "text": [
      "[2022-07-03 17:45:54] INFO: PQL Export started...\n",
      "[2022-07-03 17:45:54] INFO: PQL Export status: DONE\n",
      "<class 'float'>\n",
      "<class 'float'>\n",
      "<class 'float'>\n",
      "<class 'float'>\n",
      "<class 'float'>\n",
      "<class 'float'>\n",
      "<class 'float'>\n",
      "<class 'float'>\n",
      "<class 'float'>\n",
      "<class 'float'>\n"
     ]
    },
    {
     "data": {
      "text/plain": [
       "({'0040cb14-bbf7-4fc7-a345-b8c79aebf87c': {'variant': ['a',\n",
       "    'b',\n",
       "    'c',\n",
       "    'd',\n",
       "    'f'],\n",
       "   'violations': [],\n",
       "   'fulfill': [{'always_after a TO c': ([0, 2], ['a', 'b', 'c', 'd', 'f'])},\n",
       "    {'always_before d TO c': ([2, 3], ['a', 'b', 'c', 'd', 'f'])},\n",
       "    {'always_before f TO c': ([2, 4], ['a', 'b', 'c', 'd', 'f'])},\n",
       "    {'never_together d TO x': ([3], ['a', 'b', 'c', 'd', 'f'])},\n",
       "    {'equivalence a TO c': ([0, 2], ['a', 'b', 'c', 'd', 'f'])},\n",
       "    {'equivalence b TO c': ([1, 2], ['a', 'b', 'c', 'd', 'f'])},\n",
       "    {'equivalence d TO c': ([2, 3], ['a', 'b', 'c', 'd', 'f'])},\n",
       "    {'equivalence f TO c': ([2, 4], ['a', 'b', 'c', 'd', 'f'])},\n",
       "    {'a_(0,1)': ([0], ['a', 'b', 'c', 'd', 'f'])},\n",
       "    {'b_(0,1)': ([1], ['a', 'b', 'c', 'd', 'f'])},\n",
       "    {'c_(1)': ([2], ['a', 'b', 'c', 'd', 'f'])},\n",
       "    {'d_(0,1)': ([3], ['a', 'b', 'c', 'd', 'f'])},\n",
       "    {'f_(0,1)': ([4], ['a', 'b', 'c', 'd', 'f'])}],\n",
       "   'fitness': 1.0,\n",
       "   'activations': 13,\n",
       "   'fit': False},\n",
       "  '006825a4-f9e8-4a92-8343-b0e593210c7b': {'variant': ['a',\n",
       "    'b',\n",
       "    'c',\n",
       "    'x',\n",
       "    'e',\n",
       "    'f'],\n",
       "   'violations': [],\n",
       "   'fulfill': [{'always_after a TO c': ([0, 2],\n",
       "      ['a', 'b', 'c', 'x', 'e', 'f'])},\n",
       "    {'always_after e TO f': ([4, 5], ['a', 'b', 'c', 'x', 'e', 'f'])},\n",
       "    {'always_after x TO e': ([3, 4], ['a', 'b', 'c', 'x', 'e', 'f'])},\n",
       "    {'always_after x TO f': ([3, 5], ['a', 'b', 'c', 'x', 'e', 'f'])},\n",
       "    {'always_before e TO a': ([0, 4], ['a', 'b', 'c', 'x', 'e', 'f'])},\n",
       "    {'always_before e TO b': ([1, 4], ['a', 'b', 'c', 'x', 'e', 'f'])},\n",
       "    {'always_before e TO c': ([2, 4], ['a', 'b', 'c', 'x', 'e', 'f'])},\n",
       "    {'always_before f TO c': ([2, 5], ['a', 'b', 'c', 'x', 'e', 'f'])},\n",
       "    {'always_before x TO a': ([0, 3], ['a', 'b', 'c', 'x', 'e', 'f'])},\n",
       "    {'always_before x TO b': ([1, 3], ['a', 'b', 'c', 'x', 'e', 'f'])},\n",
       "    {'always_before x TO c': ([2, 3], ['a', 'b', 'c', 'x', 'e', 'f'])},\n",
       "    {'never_together x TO d': ([3], ['a', 'b', 'c', 'x', 'e', 'f'])},\n",
       "    {'directly_follow e TO f': ([4, 5], ['a', 'b', 'c', 'x', 'e', 'f'])},\n",
       "    {'directly_follow x TO e': ([3, 4], ['a', 'b', 'c', 'x', 'e', 'f'])},\n",
       "    {'equivalence a TO c': ([0, 2], ['a', 'b', 'c', 'x', 'e', 'f'])},\n",
       "    {'equivalence b TO c': ([1, 2], ['a', 'b', 'c', 'x', 'e', 'f'])},\n",
       "    {'equivalence e TO a': ([0, 4], ['a', 'b', 'c', 'x', 'e', 'f'])},\n",
       "    {'equivalence e TO b': ([1, 4], ['a', 'b', 'c', 'x', 'e', 'f'])},\n",
       "    {'equivalence e TO c': ([2, 4], ['a', 'b', 'c', 'x', 'e', 'f'])},\n",
       "    {'equivalence e TO f': ([4, 5], ['a', 'b', 'c', 'x', 'e', 'f'])},\n",
       "    {'equivalence f TO c': ([2, 5], ['a', 'b', 'c', 'x', 'e', 'f'])},\n",
       "    {'equivalence x TO a': ([0, 3], ['a', 'b', 'c', 'x', 'e', 'f'])},\n",
       "    {'equivalence x TO b': ([1, 3], ['a', 'b', 'c', 'x', 'e', 'f'])},\n",
       "    {'equivalence x TO c': ([2, 3], ['a', 'b', 'c', 'x', 'e', 'f'])},\n",
       "    {'equivalence x TO e': ([3, 4], ['a', 'b', 'c', 'x', 'e', 'f'])},\n",
       "    {'equivalence x TO f': ([3, 5], ['a', 'b', 'c', 'x', 'e', 'f'])},\n",
       "    {'a_(0,1)': ([0], ['a', 'b', 'c', 'x', 'e', 'f'])},\n",
       "    {'b_(0,1)': ([1], ['a', 'b', 'c', 'x', 'e', 'f'])},\n",
       "    {'c_(1)': ([2], ['a', 'b', 'c', 'x', 'e', 'f'])},\n",
       "    {'e_(0,1)': ([4], ['a', 'b', 'c', 'x', 'e', 'f'])},\n",
       "    {'f_(0,1)': ([5], ['a', 'b', 'c', 'x', 'e', 'f'])},\n",
       "    {'x_(0,1)': ([3], ['a', 'b', 'c', 'x', 'e', 'f'])}],\n",
       "   'fitness': 1.0,\n",
       "   'activations': 32,\n",
       "   'fit': False},\n",
       "  '00b06e7d-2c16-4808-a003-e690cdd173db': {'variant': ['a',\n",
       "    'b',\n",
       "    'c',\n",
       "    'd',\n",
       "    'e',\n",
       "    'f'],\n",
       "   'violations': [],\n",
       "   'fulfill': [{'always_after a TO c': ([0, 2],\n",
       "      ['a', 'b', 'c', 'd', 'e', 'f'])},\n",
       "    {'always_after e TO f': ([4, 5], ['a', 'b', 'c', 'd', 'e', 'f'])},\n",
       "    {'always_before d TO c': ([2, 3], ['a', 'b', 'c', 'd', 'e', 'f'])},\n",
       "    {'always_before e TO a': ([0, 4], ['a', 'b', 'c', 'd', 'e', 'f'])},\n",
       "    {'always_before e TO b': ([1, 4], ['a', 'b', 'c', 'd', 'e', 'f'])},\n",
       "    {'always_before e TO c': ([2, 4], ['a', 'b', 'c', 'd', 'e', 'f'])},\n",
       "    {'always_before f TO c': ([2, 5], ['a', 'b', 'c', 'd', 'e', 'f'])},\n",
       "    {'never_together d TO x': ([3], ['a', 'b', 'c', 'd', 'e', 'f'])},\n",
       "    {'directly_follow e TO f': ([4, 5], ['a', 'b', 'c', 'd', 'e', 'f'])},\n",
       "    {'equivalence a TO c': ([0, 2], ['a', 'b', 'c', 'd', 'e', 'f'])},\n",
       "    {'equivalence b TO c': ([1, 2], ['a', 'b', 'c', 'd', 'e', 'f'])},\n",
       "    {'equivalence d TO c': ([2, 3], ['a', 'b', 'c', 'd', 'e', 'f'])},\n",
       "    {'equivalence e TO a': ([0, 4], ['a', 'b', 'c', 'd', 'e', 'f'])},\n",
       "    {'equivalence e TO b': ([1, 4], ['a', 'b', 'c', 'd', 'e', 'f'])},\n",
       "    {'equivalence e TO c': ([2, 4], ['a', 'b', 'c', 'd', 'e', 'f'])},\n",
       "    {'equivalence e TO f': ([4, 5], ['a', 'b', 'c', 'd', 'e', 'f'])},\n",
       "    {'equivalence f TO c': ([2, 5], ['a', 'b', 'c', 'd', 'e', 'f'])},\n",
       "    {'a_(0,1)': ([0], ['a', 'b', 'c', 'd', 'e', 'f'])},\n",
       "    {'b_(0,1)': ([1], ['a', 'b', 'c', 'd', 'e', 'f'])},\n",
       "    {'c_(1)': ([2], ['a', 'b', 'c', 'd', 'e', 'f'])},\n",
       "    {'d_(0,1)': ([3], ['a', 'b', 'c', 'd', 'e', 'f'])},\n",
       "    {'e_(0,1)': ([4], ['a', 'b', 'c', 'd', 'e', 'f'])},\n",
       "    {'f_(0,1)': ([5], ['a', 'b', 'c', 'd', 'e', 'f'])}],\n",
       "   'fitness': 1.0,\n",
       "   'activations': 23,\n",
       "   'fit': False},\n",
       "  '00d9a426-3496-43dc-be2d-069b04490b0d': {'variant': ['a', 'b', 'c', 'd'],\n",
       "   'violations': [],\n",
       "   'fulfill': [{'always_after a TO c': ([0, 2], ['a', 'b', 'c', 'd'])},\n",
       "    {'always_before d TO c': ([2, 3], ['a', 'b', 'c', 'd'])},\n",
       "    {'never_together d TO x': ([3], ['a', 'b', 'c', 'd'])},\n",
       "    {'equivalence a TO c': ([0, 2], ['a', 'b', 'c', 'd'])},\n",
       "    {'equivalence b TO c': ([1, 2], ['a', 'b', 'c', 'd'])},\n",
       "    {'equivalence d TO c': ([2, 3], ['a', 'b', 'c', 'd'])},\n",
       "    {'a_(0,1)': ([0], ['a', 'b', 'c', 'd'])},\n",
       "    {'b_(0,1)': ([1], ['a', 'b', 'c', 'd'])},\n",
       "    {'c_(1)': ([2], ['a', 'b', 'c', 'd'])},\n",
       "    {'d_(0,1)': ([3], ['a', 'b', 'c', 'd'])}],\n",
       "   'fitness': 1.0,\n",
       "   'activations': 10,\n",
       "   'fit': False},\n",
       "  '0131bf9c-e7f4-45ac-8435-a07eee9f69ba': {'variant': ['a',\n",
       "    'b',\n",
       "    'c',\n",
       "    'e',\n",
       "    'f'],\n",
       "   'violations': [],\n",
       "   'fulfill': [{'always_after a TO c': ([0, 2], ['a', 'b', 'c', 'e', 'f'])},\n",
       "    {'always_after e TO f': ([3, 4], ['a', 'b', 'c', 'e', 'f'])},\n",
       "    {'always_before e TO a': ([0, 3], ['a', 'b', 'c', 'e', 'f'])},\n",
       "    {'always_before e TO b': ([1, 3], ['a', 'b', 'c', 'e', 'f'])},\n",
       "    {'always_before e TO c': ([2, 3], ['a', 'b', 'c', 'e', 'f'])},\n",
       "    {'always_before f TO c': ([2, 4], ['a', 'b', 'c', 'e', 'f'])},\n",
       "    {'directly_follow e TO f': ([3, 4], ['a', 'b', 'c', 'e', 'f'])},\n",
       "    {'equivalence a TO c': ([0, 2], ['a', 'b', 'c', 'e', 'f'])},\n",
       "    {'equivalence b TO c': ([1, 2], ['a', 'b', 'c', 'e', 'f'])},\n",
       "    {'equivalence e TO a': ([0, 3], ['a', 'b', 'c', 'e', 'f'])},\n",
       "    {'equivalence e TO b': ([1, 3], ['a', 'b', 'c', 'e', 'f'])},\n",
       "    {'equivalence e TO c': ([2, 3], ['a', 'b', 'c', 'e', 'f'])},\n",
       "    {'equivalence e TO f': ([3, 4], ['a', 'b', 'c', 'e', 'f'])},\n",
       "    {'equivalence f TO c': ([2, 4], ['a', 'b', 'c', 'e', 'f'])},\n",
       "    {'a_(0,1)': ([0], ['a', 'b', 'c', 'e', 'f'])},\n",
       "    {'b_(0,1)': ([1], ['a', 'b', 'c', 'e', 'f'])},\n",
       "    {'c_(1)': ([2], ['a', 'b', 'c', 'e', 'f'])},\n",
       "    {'e_(0,1)': ([3], ['a', 'b', 'c', 'e', 'f'])},\n",
       "    {'f_(0,1)': ([4], ['a', 'b', 'c', 'e', 'f'])}],\n",
       "   'fitness': 1.0,\n",
       "   'activations': 19,\n",
       "   'fit': False},\n",
       "  '01b925fc-7b55-4e18-ad36-e8f1c0242608': {'variant': ['a',\n",
       "    'c',\n",
       "    'b',\n",
       "    'd',\n",
       "    'f'],\n",
       "   'violations': [],\n",
       "   'fulfill': [{'always_after a TO c': ([0, 1], ['a', 'c', 'b', 'd', 'f'])},\n",
       "    {'always_before d TO c': ([1, 3], ['a', 'c', 'b', 'd', 'f'])},\n",
       "    {'always_before f TO c': ([1, 4], ['a', 'c', 'b', 'd', 'f'])},\n",
       "    {'never_together d TO x': ([3], ['a', 'c', 'b', 'd', 'f'])},\n",
       "    {'equivalence a TO c': ([0, 1], ['a', 'c', 'b', 'd', 'f'])},\n",
       "    {'equivalence b TO c': ([1, 2], ['a', 'c', 'b', 'd', 'f'])},\n",
       "    {'equivalence d TO c': ([1, 3], ['a', 'c', 'b', 'd', 'f'])},\n",
       "    {'equivalence f TO c': ([1, 4], ['a', 'c', 'b', 'd', 'f'])},\n",
       "    {'a_(0,1)': ([0], ['a', 'c', 'b', 'd', 'f'])},\n",
       "    {'b_(0,1)': ([2], ['a', 'c', 'b', 'd', 'f'])},\n",
       "    {'c_(1)': ([1], ['a', 'c', 'b', 'd', 'f'])},\n",
       "    {'d_(0,1)': ([3], ['a', 'c', 'b', 'd', 'f'])},\n",
       "    {'f_(0,1)': ([4], ['a', 'c', 'b', 'd', 'f'])}],\n",
       "   'fitness': 1.0,\n",
       "   'activations': 13,\n",
       "   'fit': False},\n",
       "  '01e84bd3-a6e0-40ab-b478-35271c007cd2': {'variant': ['a',\n",
       "    'c',\n",
       "    'b',\n",
       "    'e',\n",
       "    'f'],\n",
       "   'violations': [],\n",
       "   'fulfill': [{'always_after a TO c': ([0, 1], ['a', 'c', 'b', 'e', 'f'])},\n",
       "    {'always_after e TO f': ([3, 4], ['a', 'c', 'b', 'e', 'f'])},\n",
       "    {'always_before e TO a': ([0, 3], ['a', 'c', 'b', 'e', 'f'])},\n",
       "    {'always_before e TO b': ([2, 3], ['a', 'c', 'b', 'e', 'f'])},\n",
       "    {'always_before e TO c': ([1, 3], ['a', 'c', 'b', 'e', 'f'])},\n",
       "    {'always_before f TO c': ([1, 4], ['a', 'c', 'b', 'e', 'f'])},\n",
       "    {'directly_follow e TO f': ([3, 4], ['a', 'c', 'b', 'e', 'f'])},\n",
       "    {'equivalence a TO c': ([0, 1], ['a', 'c', 'b', 'e', 'f'])},\n",
       "    {'equivalence b TO c': ([1, 2], ['a', 'c', 'b', 'e', 'f'])},\n",
       "    {'equivalence e TO a': ([0, 3], ['a', 'c', 'b', 'e', 'f'])},\n",
       "    {'equivalence e TO b': ([2, 3], ['a', 'c', 'b', 'e', 'f'])},\n",
       "    {'equivalence e TO c': ([1, 3], ['a', 'c', 'b', 'e', 'f'])},\n",
       "    {'equivalence e TO f': ([3, 4], ['a', 'c', 'b', 'e', 'f'])},\n",
       "    {'equivalence f TO c': ([1, 4], ['a', 'c', 'b', 'e', 'f'])},\n",
       "    {'a_(0,1)': ([0], ['a', 'c', 'b', 'e', 'f'])},\n",
       "    {'b_(0,1)': ([2], ['a', 'c', 'b', 'e', 'f'])},\n",
       "    {'c_(1)': ([1], ['a', 'c', 'b', 'e', 'f'])},\n",
       "    {'e_(0,1)': ([3], ['a', 'c', 'b', 'e', 'f'])},\n",
       "    {'f_(0,1)': ([4], ['a', 'c', 'b', 'e', 'f'])}],\n",
       "   'fitness': 1.0,\n",
       "   'activations': 19,\n",
       "   'fit': False},\n",
       "  '03027514-4850-4fcc-836b-d6ded96f7604': {'variant': ['a', 'c', 'd', 'f'],\n",
       "   'violations': [],\n",
       "   'fulfill': [{'always_after a TO c': ([0, 1], ['a', 'c', 'd', 'f'])},\n",
       "    {'always_before d TO c': ([1, 2], ['a', 'c', 'd', 'f'])},\n",
       "    {'always_before f TO c': ([1, 3], ['a', 'c', 'd', 'f'])},\n",
       "    {'never_together d TO x': ([2], ['a', 'c', 'd', 'f'])},\n",
       "    {'equivalence a TO c': ([0, 1], ['a', 'c', 'd', 'f'])},\n",
       "    {'equivalence d TO c': ([1, 2], ['a', 'c', 'd', 'f'])},\n",
       "    {'equivalence f TO c': ([1, 3], ['a', 'c', 'd', 'f'])},\n",
       "    {'a_(0,1)': ([0], ['a', 'c', 'd', 'f'])},\n",
       "    {'c_(1)': ([1], ['a', 'c', 'd', 'f'])},\n",
       "    {'d_(0,1)': ([2], ['a', 'c', 'd', 'f'])},\n",
       "    {'f_(0,1)': ([3], ['a', 'c', 'd', 'f'])}],\n",
       "   'fitness': 1.0,\n",
       "   'activations': 11,\n",
       "   'fit': False},\n",
       "  '0653126e-3746-479f-821f-c7ffa28f968c': {'variant': ['a', 'b', 'c', 'f'],\n",
       "   'violations': [],\n",
       "   'fulfill': [{'always_after a TO c': ([0, 2], ['a', 'b', 'c', 'f'])},\n",
       "    {'always_before f TO c': ([2, 3], ['a', 'b', 'c', 'f'])},\n",
       "    {'equivalence a TO c': ([0, 2], ['a', 'b', 'c', 'f'])},\n",
       "    {'equivalence b TO c': ([1, 2], ['a', 'b', 'c', 'f'])},\n",
       "    {'equivalence f TO c': ([2, 3], ['a', 'b', 'c', 'f'])},\n",
       "    {'a_(0,1)': ([0], ['a', 'b', 'c', 'f'])},\n",
       "    {'b_(0,1)': ([1], ['a', 'b', 'c', 'f'])},\n",
       "    {'c_(1)': ([2], ['a', 'b', 'c', 'f'])},\n",
       "    {'f_(0,1)': ([3], ['a', 'b', 'c', 'f'])}],\n",
       "   'fitness': 1.0,\n",
       "   'activations': 9,\n",
       "   'fit': False},\n",
       "  '07ac2832-a4e5-4ce7-a3ea-eb3341b86a79': {'variant': ['c', 'b', 'd', 'f'],\n",
       "   'violations': [],\n",
       "   'fulfill': [{'always_before d TO c': ([0, 2], ['c', 'b', 'd', 'f'])},\n",
       "    {'always_before f TO c': ([0, 3], ['c', 'b', 'd', 'f'])},\n",
       "    {'never_together d TO x': ([2], ['c', 'b', 'd', 'f'])},\n",
       "    {'equivalence b TO c': ([0, 1], ['c', 'b', 'd', 'f'])},\n",
       "    {'equivalence d TO c': ([0, 2], ['c', 'b', 'd', 'f'])},\n",
       "    {'equivalence f TO c': ([0, 3], ['c', 'b', 'd', 'f'])},\n",
       "    {'b_(0,1)': ([1], ['c', 'b', 'd', 'f'])},\n",
       "    {'c_(1)': ([0], ['c', 'b', 'd', 'f'])},\n",
       "    {'d_(0,1)': ([2], ['c', 'b', 'd', 'f'])},\n",
       "    {'f_(0,1)': ([3], ['c', 'b', 'd', 'f'])}],\n",
       "   'fitness': 1.0,\n",
       "   'activations': 10,\n",
       "   'fit': False}},\n",
       " [1100, 1100, 0])"
      ]
     },
     "execution_count": 6,
     "metadata": {},
     "output_type": "execute_result"
    }
   ],
   "source": [
    "conf_df_to_dics(con_df,v_df = variant_table(datamodel,table))"
   ]
  },
  {
   "cell_type": "code",
   "execution_count": 7,
   "id": "c60bbc9d",
   "metadata": {
    "ExecuteTime": {
     "end_time": "2022-07-03T15:45:55.146430Z",
     "start_time": "2022-07-03T15:45:55.137175Z"
    }
   },
   "outputs": [],
   "source": [
    "\n",
    "def conf_df_to_dics(con_df, v_df):\n",
    "    scc_df = con_df.set_index('id')\n",
    "    cols = scc_df.iloc[:, 1:].columns\n",
    "\n",
    "    l = set([l.strip() for l in ','.join(v_df['variant']).split(',')])\n",
    "\n",
    "    sum_trace = int(sum(v_df['freq']))\n",
    "    fulfill_trace = 0\n",
    "    cc_dic = {}\n",
    "    for id in scc_df.index.values.tolist():\n",
    "        violations = []\n",
    "        fulfill = []\n",
    "        dic = {}\n",
    "        acties = [s.strip() for s in scc_df.at[id, 'variant'].split(',')]\n",
    "        dic['variant'] = acties\n",
    "        for con in cols:\n",
    "            if (scc_df.at[id, con] < 0):\n",
    "                violations.append({con: sorted(get_act_order(acties, con, l))})\n",
    "            if (scc_df.at[id, con] > 0):\n",
    "                fulfill.append({con: (sorted(get_act_order(acties, con, l)), acties)})\n",
    "        if (len(violations) == 0):\n",
    "            fulfill_trace += v_df.at[id, 'freq']\n",
    "        fulfill_trace = int(fulfill_trace)\n",
    "        dic['violations'] = violations\n",
    "        dic['fulfill'] = fulfill\n",
    "        activations = int(sum(scc_df.loc[id][1:].map(abs)))\n",
    "        fulfills = sum(scc_df.loc[id][1:])\n",
    "        dev = int(activations - fulfills)\n",
    "        \n",
    "        dic['fitness'] = 1 - dev / activations\n",
    "        print(type(dic['fitness']))\n",
    "        dic['activations'] = activations\n",
    "        dic['fit'] = (fulfill == activations)\n",
    "\n",
    "        cc_dic[id] = dic\n",
    "    vio_trace = sum_trace - fulfill_trace\n",
    "    return cc_dic, [sum_trace, fulfill_trace, vio_trace]"
   ]
  },
  {
   "cell_type": "code",
   "execution_count": 9,
   "id": "56de8fd3",
   "metadata": {
    "ExecuteTime": {
     "end_time": "2022-07-04T05:45:03.749908Z",
     "start_time": "2022-07-04T05:45:03.741034Z"
    }
   },
   "outputs": [],
   "source": [
    "import json\n",
    "d = json.dumps(con_dic)\n",
    "g = open(\"con.json\",'w')\n",
    "g.write(d)\n",
    "g.close()"
   ]
  },
  {
   "cell_type": "code",
   "execution_count": 9,
   "id": "d177cec4",
   "metadata": {
    "ExecuteTime": {
     "end_time": "2022-07-03T15:45:55.166816Z",
     "start_time": "2022-07-03T15:45:55.162172Z"
    }
   },
   "outputs": [
    {
     "name": "stdout",
     "output_type": "stream",
     "text": [
      "Index(['id', 'variant', 'always_after a TO c', 'always_after e TO f',\n",
      "       'always_after x TO e', 'always_after x TO f', 'always_before d TO c',\n",
      "       'always_before e TO a', 'always_before e TO b', 'always_before e TO c',\n",
      "       'always_before f TO c', 'always_before x TO a', 'always_before x TO b',\n",
      "       'always_before x TO c', 'never_together d TO x',\n",
      "       'never_together x TO d', 'directly_follow e TO f',\n",
      "       'directly_follow x TO e', 'equivalence a TO c', 'equivalence b TO c',\n",
      "       'equivalence d TO c', 'equivalence e TO a', 'equivalence e TO b',\n",
      "       'equivalence e TO c', 'equivalence e TO f', 'equivalence f TO c',\n",
      "       'equivalence x TO a', 'equivalence x TO b', 'equivalence x TO c',\n",
      "       'equivalence x TO e', 'equivalence x TO f', 'not_in_model', 'a_(0,1)',\n",
      "       'b_(0,1)', 'c_(1)', 'd_(0,1)', 'e_(0,1)', 'f_(0,1)', 'x_(0,1)'],\n",
      "      dtype='object')\n"
     ]
    }
   ],
   "source": [
    "con_df\n",
    "print(con_df.columns)"
   ]
  },
  {
   "cell_type": "code",
   "execution_count": 10,
   "id": "365a6b3e",
   "metadata": {
    "ExecuteTime": {
     "end_time": "2022-07-03T15:45:56.052626Z",
     "start_time": "2022-07-03T15:45:55.168474Z"
    }
   },
   "outputs": [
    {
     "name": "stdout",
     "output_type": "stream",
     "text": [
      "[2022-07-03 17:45:55] INFO: PQL Export started...\n",
      "[2022-07-03 17:45:55] INFO: PQL Export status: DONE\n"
     ]
    },
    {
     "data": {
      "text/html": [
       "<div>\n",
       "<style scoped>\n",
       "    .dataframe tbody tr th:only-of-type {\n",
       "        vertical-align: middle;\n",
       "    }\n",
       "\n",
       "    .dataframe tbody tr th {\n",
       "        vertical-align: top;\n",
       "    }\n",
       "\n",
       "    .dataframe thead th {\n",
       "        text-align: right;\n",
       "    }\n",
       "</style>\n",
       "<table border=\"1\" class=\"dataframe\">\n",
       "  <thead>\n",
       "    <tr style=\"text-align: right;\">\n",
       "      <th></th>\n",
       "      <th>variant</th>\n",
       "      <th>freq</th>\n",
       "    </tr>\n",
       "    <tr>\n",
       "      <th>id</th>\n",
       "      <th></th>\n",
       "      <th></th>\n",
       "    </tr>\n",
       "  </thead>\n",
       "  <tbody>\n",
       "    <tr>\n",
       "      <th>00d9a426-3496-43dc-be2d-069b04490b0d</th>\n",
       "      <td>a, b, c, d</td>\n",
       "      <td>45</td>\n",
       "    </tr>\n",
       "    <tr>\n",
       "      <th>00b06e7d-2c16-4808-a003-e690cdd173db</th>\n",
       "      <td>a, b, c, d, e, f</td>\n",
       "      <td>40</td>\n",
       "    </tr>\n",
       "    <tr>\n",
       "      <th>0040cb14-bbf7-4fc7-a345-b8c79aebf87c</th>\n",
       "      <td>a, b, c, d, f</td>\n",
       "      <td>200</td>\n",
       "    </tr>\n",
       "    <tr>\n",
       "      <th>0131bf9c-e7f4-45ac-8435-a07eee9f69ba</th>\n",
       "      <td>a, b, c, e, f</td>\n",
       "      <td>200</td>\n",
       "    </tr>\n",
       "    <tr>\n",
       "      <th>0653126e-3746-479f-821f-c7ffa28f968c</th>\n",
       "      <td>a, b, c, f</td>\n",
       "      <td>30</td>\n",
       "    </tr>\n",
       "    <tr>\n",
       "      <th>006825a4-f9e8-4a92-8343-b0e593210c7b</th>\n",
       "      <td>a, b, c, x, e, f</td>\n",
       "      <td>100</td>\n",
       "    </tr>\n",
       "    <tr>\n",
       "      <th>01b925fc-7b55-4e18-ad36-e8f1c0242608</th>\n",
       "      <td>a, c, b, d, f</td>\n",
       "      <td>200</td>\n",
       "    </tr>\n",
       "    <tr>\n",
       "      <th>01e84bd3-a6e0-40ab-b478-35271c007cd2</th>\n",
       "      <td>a, c, b, e, f</td>\n",
       "      <td>200</td>\n",
       "    </tr>\n",
       "    <tr>\n",
       "      <th>03027514-4850-4fcc-836b-d6ded96f7604</th>\n",
       "      <td>a, c, d, f</td>\n",
       "      <td>50</td>\n",
       "    </tr>\n",
       "    <tr>\n",
       "      <th>07ac2832-a4e5-4ce7-a3ea-eb3341b86a79</th>\n",
       "      <td>c, b, d, f</td>\n",
       "      <td>35</td>\n",
       "    </tr>\n",
       "  </tbody>\n",
       "</table>\n",
       "</div>"
      ],
      "text/plain": [
       "                                               variant  freq\n",
       "id                                                          \n",
       "00d9a426-3496-43dc-be2d-069b04490b0d        a, b, c, d    45\n",
       "00b06e7d-2c16-4808-a003-e690cdd173db  a, b, c, d, e, f    40\n",
       "0040cb14-bbf7-4fc7-a345-b8c79aebf87c     a, b, c, d, f   200\n",
       "0131bf9c-e7f4-45ac-8435-a07eee9f69ba     a, b, c, e, f   200\n",
       "0653126e-3746-479f-821f-c7ffa28f968c        a, b, c, f    30\n",
       "006825a4-f9e8-4a92-8343-b0e593210c7b  a, b, c, x, e, f   100\n",
       "01b925fc-7b55-4e18-ad36-e8f1c0242608     a, c, b, d, f   200\n",
       "01e84bd3-a6e0-40ab-b478-35271c007cd2     a, c, b, e, f   200\n",
       "03027514-4850-4fcc-836b-d6ded96f7604        a, c, d, f    50\n",
       "07ac2832-a4e5-4ce7-a3ea-eb3341b86a79        c, b, d, f    35"
      ]
     },
     "execution_count": 10,
     "metadata": {},
     "output_type": "execute_result"
    }
   ],
   "source": [
    "v_df = variant_table(datamodel,table)\n",
    "v_df"
   ]
  },
  {
   "cell_type": "code",
   "execution_count": 11,
   "id": "adf761f9",
   "metadata": {
    "ExecuteTime": {
     "end_time": "2022-07-03T15:45:56.057462Z",
     "start_time": "2022-07-03T15:45:56.054078Z"
    }
   },
   "outputs": [
    {
     "data": {
      "text/plain": [
       "1100"
      ]
     },
     "execution_count": 11,
     "metadata": {},
     "output_type": "execute_result"
    }
   ],
   "source": [
    "sum(v_df['freq'])"
   ]
  },
  {
   "cell_type": "code",
   "execution_count": 12,
   "id": "1d87ab29",
   "metadata": {
    "ExecuteTime": {
     "end_time": "2022-07-03T15:45:56.062669Z",
     "start_time": "2022-07-03T15:45:56.059050Z"
    }
   },
   "outputs": [
    {
     "data": {
      "text/plain": [
       "{'a', 'b', 'c', 'd', 'e', 'f', 'x'}"
      ]
     },
     "execution_count": 12,
     "metadata": {},
     "output_type": "execute_result"
    }
   ],
   "source": [
    "l = []\n",
    "set([l.strip() for l in ','.join(v_df['variant']).split(',')])"
   ]
  },
  {
   "cell_type": "code",
   "execution_count": 13,
   "id": "cba98225",
   "metadata": {
    "ExecuteTime": {
     "end_time": "2022-07-03T15:45:56.363847Z",
     "start_time": "2022-07-03T15:45:56.064501Z"
    }
   },
   "outputs": [
    {
     "ename": "TypeError",
     "evalue": "get_act_order() missing 1 required positional argument: 'l'",
     "output_type": "error",
     "traceback": [
      "\u001b[0;31m---------------------------------------------------------------------------\u001b[0m",
      "\u001b[0;31mTypeError\u001b[0m                                 Traceback (most recent call last)",
      "Input \u001b[0;32mIn [13]\u001b[0m, in \u001b[0;36m<cell line: 1>\u001b[0;34m()\u001b[0m\n\u001b[0;32m----> 1\u001b[0m \u001b[43mget_act_order\u001b[49m\u001b[43m(\u001b[49m\u001b[43m[\u001b[49m\u001b[38;5;124;43m'\u001b[39;49m\u001b[38;5;124;43m1\u001b[39;49m\u001b[38;5;124;43m'\u001b[39;49m\u001b[43m,\u001b[49m\u001b[38;5;124;43m'\u001b[39;49m\u001b[38;5;124;43m2\u001b[39;49m\u001b[38;5;124;43m'\u001b[39;49m\u001b[43m,\u001b[49m\u001b[38;5;124;43m'\u001b[39;49m\u001b[38;5;124;43m3\u001b[39;49m\u001b[38;5;124;43m'\u001b[39;49m\u001b[43m,\u001b[49m\u001b[38;5;124;43m'\u001b[39;49m\u001b[38;5;124;43m1\u001b[39;49m\u001b[38;5;124;43m'\u001b[39;49m\u001b[43m]\u001b[49m\u001b[43m,\u001b[49m\u001b[38;5;124;43m\"\u001b[39;49m\u001b[38;5;124;43m1_d\u001b[39;49m\u001b[38;5;124;43m\"\u001b[39;49m\u001b[43m)\u001b[49m\n",
      "\u001b[0;31mTypeError\u001b[0m: get_act_order() missing 1 required positional argument: 'l'"
     ]
    }
   ],
   "source": [
    "get_act_order(['1','2','3','1'],\"1_d\")"
   ]
  },
  {
   "cell_type": "code",
   "execution_count": null,
   "id": "87f21b3b",
   "metadata": {
    "ExecuteTime": {
     "end_time": "2022-07-03T15:45:56.375540Z",
     "start_time": "2022-07-03T15:45:56.375533Z"
    }
   },
   "outputs": [],
   "source": [
    "get_act_order(['1','2','3','1'],\"d 2 TO 1\")"
   ]
  },
  {
   "cell_type": "code",
   "execution_count": null,
   "id": "d324c876",
   "metadata": {
    "ExecuteTime": {
     "end_time": "2022-07-03T15:45:56.376433Z",
     "start_time": "2022-07-03T15:45:56.376424Z"
    }
   },
   "outputs": [],
   "source": [
    "l = set([l.strip() for l in ','.join(v_df['variant']).split(',')])\n",
    "l"
   ]
  },
  {
   "cell_type": "code",
   "execution_count": null,
   "id": "643e6582",
   "metadata": {
    "ExecuteTime": {
     "end_time": "2022-07-03T15:45:56.377511Z",
     "start_time": "2022-07-03T15:45:56.377502Z"
    }
   },
   "outputs": [],
   "source": [
    "\n",
    "acties = [s.strip() for s in \"a,y,h,c\".split(',')]\n",
    "get_act_order(acties,'never_together y TO c',l)"
   ]
  },
  {
   "cell_type": "code",
   "execution_count": null,
   "id": "ac91c38b",
   "metadata": {
    "ExecuteTime": {
     "end_time": "2022-07-03T15:45:56.378742Z",
     "start_time": "2022-07-03T15:45:56.378732Z"
    }
   },
   "outputs": [],
   "source": [
    "'not_in_model' in \"not_in_model\""
   ]
  },
  {
   "cell_type": "code",
   "execution_count": null,
   "id": "a92e831c",
   "metadata": {
    "ExecuteTime": {
     "end_time": "2022-07-03T15:45:56.380029Z",
     "start_time": "2022-07-03T15:45:56.380021Z"
    }
   },
   "outputs": [],
   "source": [
    "def get_act_order(acties,con,l):\n",
    "#     al = [a.strip() for a in  acties.split(',')]\n",
    "    \n",
    "    if (\"not_in_model\" in con):\n",
    "        s = []\n",
    "        for i in range(len(acties)):\n",
    "            if acties[i] not in l:\n",
    "                s.append(i)\n",
    "        return s\n",
    "    elif(\"never_together\" in con):\n",
    "        b = con.split(' ')[-1]\n",
    "        a = con.split(' ')[-3]\n",
    "        if(a in acties and b in acties):\n",
    "            return [acties.index(a),acties.index(b)]\n",
    "        elif(a in acties):\n",
    "            return [acties.index(a)]\n",
    "        else:\n",
    "            return [acties.index(b)]\n",
    "    elif ('TO' not in con):\n",
    "        a = con.split('_')[0]\n",
    "        return [i for i, x in enumerate(acties) if x == a]\n",
    "    else:\n",
    "        b = con.split(' ')[-1]\n",
    "        a = con.split(' ')[-3]\n",
    "        return[acties.index(a),acties.index(b)]\n",
    "    \n",
    "\n",
    "def conf_df_to_dics(con_df, v_df):\n",
    "    scc_df = con_df.set_index('id')\n",
    "    cols = scc_df.iloc[:, 1:].columns\n",
    "    \n",
    "    l = set([l.strip() for l in ','.join(v_df['variant']).split(',')])\n",
    "    \n",
    "    \n",
    "    \n",
    "    sum_trace = sum(v_df['freq'])\n",
    "    fulfill_trace = 0\n",
    "    cc_dic = {}\n",
    "    for id in scc_df.index.values.tolist():\n",
    "        violations = []\n",
    "        fulfill = []\n",
    "        dic = {}\n",
    "        acties = [s.strip() for s in scc_df.at[id,'variant'].split(',')]\n",
    "        dic['variant'] = acties\n",
    "        for con in cols:\n",
    "            if (scc_df.at[id, con] < 0):\n",
    "                \n",
    "                violations.append({con:sorted(get_act_order(acties,con,l))})\n",
    "            if (scc_df.at[id, con] > 0):\n",
    "                \n",
    "                fulfill.append({con:(sorted(get_act_order(acties,con,l)),acties)})\n",
    "        if(len(violations) == 0):\n",
    "            fulfill_trace += v_df.at[id,'freq']\n",
    "        \n",
    "        dic['violations'] = violations\n",
    "        dic['fulfill'] = fulfill\n",
    "        activations = sum(scc_df.loc[id][1:].map(abs))\n",
    "        fulfills = sum(scc_df.loc[id][1:])\n",
    "        dev = activations - fulfills\n",
    "        dic['fitness'] = 1 - dev / activations\n",
    "        dic['activations'] = activations\n",
    "        dic['fit'] = (fulfill == activations)\n",
    "        \n",
    "        cc_dic[id] = dic\n",
    "    vio_trace = sum_trace - fulfill_trace\n",
    "    return cc_dic, [sum_trace,fulfill_trace,vio_trace]"
   ]
  },
  {
   "cell_type": "code",
   "execution_count": 14,
   "id": "16c810ae",
   "metadata": {
    "ExecuteTime": {
     "end_time": "2022-07-03T15:47:08.449265Z",
     "start_time": "2022-07-03T15:47:08.421221Z"
    }
   },
   "outputs": [
    {
     "name": "stdout",
     "output_type": "stream",
     "text": [
      "<class 'float'>\n",
      "<class 'float'>\n",
      "<class 'float'>\n",
      "<class 'float'>\n",
      "<class 'float'>\n",
      "<class 'float'>\n",
      "<class 'float'>\n",
      "<class 'float'>\n",
      "<class 'float'>\n",
      "<class 'float'>\n"
     ]
    },
    {
     "data": {
      "text/plain": [
       "{'variant': ['a', 'b', 'c', 'd', 'f'],\n",
       " 'violations': [],\n",
       " 'fulfill': [{'always_after a TO c': ([0, 2], ['a', 'b', 'c', 'd', 'f'])},\n",
       "  {'always_before d TO c': ([2, 3], ['a', 'b', 'c', 'd', 'f'])},\n",
       "  {'always_before f TO c': ([2, 4], ['a', 'b', 'c', 'd', 'f'])},\n",
       "  {'never_together d TO x': ([3], ['a', 'b', 'c', 'd', 'f'])},\n",
       "  {'equivalence a TO c': ([0, 2], ['a', 'b', 'c', 'd', 'f'])},\n",
       "  {'equivalence b TO c': ([1, 2], ['a', 'b', 'c', 'd', 'f'])},\n",
       "  {'equivalence d TO c': ([2, 3], ['a', 'b', 'c', 'd', 'f'])},\n",
       "  {'equivalence f TO c': ([2, 4], ['a', 'b', 'c', 'd', 'f'])},\n",
       "  {'a_(0,1)': ([0], ['a', 'b', 'c', 'd', 'f'])},\n",
       "  {'b_(0,1)': ([1], ['a', 'b', 'c', 'd', 'f'])},\n",
       "  {'c_(1)': ([2], ['a', 'b', 'c', 'd', 'f'])},\n",
       "  {'d_(0,1)': ([3], ['a', 'b', 'c', 'd', 'f'])},\n",
       "  {'f_(0,1)': ([4], ['a', 'b', 'c', 'd', 'f'])}],\n",
       " 'fitness': 1.0,\n",
       " 'activations': 13,\n",
       " 'fit': False}"
      ]
     },
     "execution_count": 14,
     "metadata": {},
     "output_type": "execute_result"
    }
   ],
   "source": [
    "dic,statis = conf_df_to_dics(con_df,v_df)\n",
    "\n",
    "dic['0040cb14-bbf7-4fc7-a345-b8c79aebf87c']"
   ]
  },
  {
   "cell_type": "markdown",
   "id": "6d0e0380",
   "metadata": {},
   "source": [
    "0040cb14-bbf7-4fc7-a345-b8c79aebf87c"
   ]
  }
 ],
 "metadata": {
  "kernelspec": {
   "display_name": "Python 3 (ipykernel)",
   "language": "python",
   "name": "python3"
  },
  "language_info": {
   "codemirror_mode": {
    "name": "ipython",
    "version": 3
   },
   "file_extension": ".py",
   "mimetype": "text/x-python",
   "name": "python",
   "nbconvert_exporter": "python",
   "pygments_lexer": "ipython3",
   "version": "3.9.12"
  },
  "toc": {
   "base_numbering": 1,
   "nav_menu": {},
   "number_sections": true,
   "sideBar": true,
   "skip_h1_title": false,
   "title_cell": "Table of Contents",
   "title_sidebar": "Contents",
   "toc_cell": false,
   "toc_position": {},
   "toc_section_display": true,
   "toc_window_display": false
  },
  "varInspector": {
   "cols": {
    "lenName": 16,
    "lenType": 16,
    "lenVar": 40
   },
   "kernels_config": {
    "python": {
     "delete_cmd_postfix": "",
     "delete_cmd_prefix": "del ",
     "library": "var_list.py",
     "varRefreshCmd": "print(var_dic_list())"
    },
    "r": {
     "delete_cmd_postfix": ") ",
     "delete_cmd_prefix": "rm(",
     "library": "var_list.r",
     "varRefreshCmd": "cat(var_dic_list()) "
    }
   },
   "types_to_exclude": [
    "module",
    "function",
    "builtin_function_or_method",
    "instance",
    "_Feature"
   ],
   "window_display": false
  }
 },
 "nbformat": 4,
 "nbformat_minor": 5
}
